{
 "cells": [
  {
   "cell_type": "markdown",
   "metadata": {},
   "source": [
    "# Exploring PyTorch and Transformers for Genomic Sequence Classification\n",
    "\n",
    "## Outline:\n",
    "1. Objectives\n",
    "2. What is *deep learning*?\n",
    "3. Practice\n",
    "    * Dataset\n",
    "    * Models\n",
    "    * Training\n",
    "    * Evaluation\n",
    "4. Conclusions"
   ]
  },
  {
   "cell_type": "markdown",
   "metadata": {},
   "source": [
    "# Objectives\n",
    "\n",
    "1. Learn the basic theory and practice of deep learning\n",
    "2. Understand the basic deep learning workflow\n",
    "3. Deploy a model for genomic sequence classification\n",
    "    * With helpers\n",
    "    * Manually"
   ]
  },
  {
   "cell_type": "markdown",
   "metadata": {},
   "source": [
    "# What is *Deep Learning*?\n",
    "Deep Learning is a subset of machine learning techniques that uses **artificial neural network**-based models (ANN). What makes it **deep** is the presence of many transformation *layers* within the models. Figure 1 shows a Venn diagram of the organization between artificial intelligence, machine and deep learning. \n",
    "Deep learning models are able to learn from raw data. This is one of the main differences against traditional learning pipelines. With these kind of models you can assemble a learning system that tunes itself automatically rather than fixing and updating each individial component one by one. It replaces some of the labor-intensive processes needed for other methods, like field-specific data preprocessing and/or manual feature extraction. Deep learning models can learn and process these features in an automated fashion, generate accurate predictions, and be fine-tuned for specific applications when an available model exist.\n",
    "\n",
    "One of the most common and persistent disadvantages of applying deep learning methods in your work is the large amount of data needed to train the model. To capture the features and generalize the phenomena in your studies, a substantial amount of data (sometimes labeled) must be available so the model can fit them and produce accurate predictions. However, with the ever-increasing availability of graphical processing units (GPUs), the massive amounts of data generated in clinical and biological scenarios, and the possibility of fine-tuning existing models, implementing a deep learning architecture for your specific applications is becoming increasingly simple.\n",
    "\n",
    "<fig>\n",
    "<img    src=\"images/ENG_IA_ML_DL.png\"\n",
    "        width=600\n",
    "        height=600>\n",
    "<figcaption>Fig. 1: Venn diagram displaying the organization between AI, machine, and deep learning.\n",
    "</figure>"
   ]
  },
  {
   "cell_type": "markdown",
   "metadata": {},
   "source": [
    "# Deep Learning implementation workflow"
   ]
  },
  {
   "cell_type": "code",
   "execution_count": 54,
   "metadata": {},
   "outputs": [],
   "source": [
    "# This cell of code is used to import the necessary libraries for the notebook\n",
    "import torch\n",
    "import torch.nn as nn\n",
    "from torch.utils.data import DataLoader, Dataset\n",
    "from torchtext.data.utils import get_tokenizer\n",
    "import torch.optim as optim\n",
    "\n",
    "import pandas as pd\n",
    "import matplotlib.pyplot as plt\n",
    "import seaborn as sns\n",
    "import numpy as np\n",
    "from sklearn.metrics import confusion_matrix, roc_auc_score, roc_curve\n",
    "\n",
    "import gdown\n",
    "\n",
    "from transformers import AutoModelForSequenceClassification, AutoTokenizer, Trainer, TrainingArguments\n",
    "from tqdm.auto import tqdm\n",
    "\n",
    "from genomic_benchmarks.data_check import list_datasets, info, is_downloaded\n",
    "from genomic_benchmarks.loc2seq import download_dataset\n",
    "from genomic_benchmarks.dataset_getters.pytorch_datasets import HumanEnhancersCohn"
   ]
  },
  {
   "cell_type": "markdown",
   "metadata": {},
   "source": [
    "## Dataset"
   ]
  },
  {
   "cell_type": "markdown",
   "metadata": {},
   "source": [
    "We will be working with the **Genomic Benchmarks** datasets, a set of benchmarks for classification of genomic sequences to test models' capabilities. All the datasets are described in [[2]](https://doi.org/10.1186/s12863-023-01123-8). Grešová and their collaborators created this python module for easy access to well-labeled and balanced datasets as well as to enable reproducibility for genomic-related deep learning models.\n",
    "\n",
    "In the next code cell we list the available datasets in the **Genomic Benchmarks** module:"
   ]
  },
  {
   "cell_type": "code",
   "execution_count": 2,
   "metadata": {},
   "outputs": [
    {
     "data": {
      "text/plain": [
       "['demo_human_or_worm',\n",
       " 'human_ocr_ensembl',\n",
       " 'human_nontata_promoters',\n",
       " 'human_enhancers_cohn',\n",
       " 'demo_coding_vs_intergenomic_seqs',\n",
       " 'drosophila_enhancers_stark',\n",
       " 'dummy_mouse_enhancers_ensembl',\n",
       " 'human_enhancers_ensembl',\n",
       " 'human_ensembl_regulatory']"
      ]
     },
     "execution_count": 2,
     "metadata": {},
     "output_type": "execute_result"
    }
   ],
   "source": [
    "list_datasets()"
   ]
  },
  {
   "cell_type": "markdown",
   "metadata": {},
   "source": [
    "For illustrative pourpuses you will work on the `human_enhancers_cohn` dataset which contains multiple genomic sequences that **are** or **are not** enhancers. \n",
    "In machine learning verbose, you will work on a **binary classification** problem. We can display some information of this dataset as follows:"
   ]
  },
  {
   "cell_type": "code",
   "execution_count": 3,
   "metadata": {},
   "outputs": [
    {
     "name": "stdout",
     "output_type": "stream",
     "text": [
      "Dataset `human_enhancers_cohn` has 2 classes: negative, positive.\n",
      "\n",
      "All lengths of genomic intervals equals 500.\n",
      "\n",
      "Totally 27791 sequences have been found, 20843 for training and 6948 for testing.\n"
     ]
    },
    {
     "data": {
      "text/html": [
       "<div>\n",
       "<style scoped>\n",
       "    .dataframe tbody tr th:only-of-type {\n",
       "        vertical-align: middle;\n",
       "    }\n",
       "\n",
       "    .dataframe tbody tr th {\n",
       "        vertical-align: top;\n",
       "    }\n",
       "\n",
       "    .dataframe thead th {\n",
       "        text-align: right;\n",
       "    }\n",
       "</style>\n",
       "<table border=\"1\" class=\"dataframe\">\n",
       "  <thead>\n",
       "    <tr style=\"text-align: right;\">\n",
       "      <th></th>\n",
       "      <th>train</th>\n",
       "      <th>test</th>\n",
       "    </tr>\n",
       "  </thead>\n",
       "  <tbody>\n",
       "    <tr>\n",
       "      <th>negative</th>\n",
       "      <td>10422</td>\n",
       "      <td>3474</td>\n",
       "    </tr>\n",
       "    <tr>\n",
       "      <th>positive</th>\n",
       "      <td>10421</td>\n",
       "      <td>3474</td>\n",
       "    </tr>\n",
       "  </tbody>\n",
       "</table>\n",
       "</div>"
      ],
      "text/plain": [
       "          train  test\n",
       "negative  10422  3474\n",
       "positive  10421  3474"
      ]
     },
     "execution_count": 3,
     "metadata": {},
     "output_type": "execute_result"
    }
   ],
   "source": [
    "info(\"human_enhancers_cohn\", version=0)"
   ]
  },
  {
   "cell_type": "markdown",
   "metadata": {},
   "source": [
    "### What is an enhancer?\n",
    "\n",
    "An **enhancer** is a genomic regulatory element that influences gene transcription. It can be located quite far from the gene it regulates, sometimes up to 1 million base pairs away. Although enhancers don't produce any direct products, they play a crucial role in regulating gene expression. This is significant because many diseases are caused or associated with deficiencies in specific genes. \n",
    "\n",
    "You may have encountered a similar term, which is **promoter**. The difference between promoters and enhancers is their proximity to the gene they regulate. Promoters are close to the gene they affect. Their functionality are pretty the same, cause the affected gene to over-express and generate more products or proteins than it would normally do."
   ]
  },
  {
   "cell_type": "markdown",
   "metadata": {},
   "source": [
    "<fig>\n",
    "<img    src=\"images/dna_double_helix.jpg\"\n",
    "        width=600\n",
    "        height=600>\n",
    "<figcaption>Fig. 2: AI-generated representation of a DNA double-helix.\n",
    "</figure>"
   ]
  },
  {
   "cell_type": "markdown",
   "metadata": {},
   "source": [
    "The `genomic_benchmarks` module offers multiple data handlers and helpers to load, show and give you an idea of how each of its datasets are composed.\n",
    "In the next code cell we use the `HumanEnhancersCohn` function to download and assign the dataset into two variables, `train_dataset` and `test_dataset`, respectively."
   ]
  },
  {
   "cell_type": "code",
   "execution_count": 4,
   "metadata": {},
   "outputs": [],
   "source": [
    "# Load the dataset and split it into training and test sets\n",
    "train_dataset = HumanEnhancersCohn(split=\"train\", version=0)\n",
    "test_dataset = HumanEnhancersCohn(split=\"test\", version=0)"
   ]
  },
  {
   "cell_type": "markdown",
   "metadata": {},
   "source": [
    "Just to make sure we imported the correct dataset we can print the lengths of each set and check if the numbers match the ones shown above."
   ]
  },
  {
   "cell_type": "code",
   "execution_count": 5,
   "metadata": {},
   "outputs": [
    {
     "name": "stdout",
     "output_type": "stream",
     "text": [
      "Length of the training dataset: 20843. Length of the test dataset: 6948\n"
     ]
    }
   ],
   "source": [
    "# Print the lengths of each set check if they match the info we saw previously\n",
    "print(f\"Length of the training dataset: {len(train_dataset)}. Length of the test dataset: {len(test_dataset)}\") "
   ]
  },
  {
   "cell_type": "markdown",
   "metadata": {},
   "source": [
    "But how this data actually look like? You have only downloaded some data from a library for binary classification up to this point. How can you actually see some samples? Turns out to be very easy to do so! Let's see two examples, one for the `positive` and one for the `negative` dianogses, correspondingly."
   ]
  },
  {
   "cell_type": "code",
   "execution_count": 6,
   "metadata": {},
   "outputs": [
    {
     "name": "stdout",
     "output_type": "stream",
     "text": [
      "('AGCAGCAGGTCAACATTTTTGCACTCACAAAATAATTTGGAAAAACTATATACCTCTTTCACATTTTTTTTTTTTTGAGATGGAGTCTCACTCTGTCGCCCAGGCTGGAGTGCAGTGGTGCAATCTCGGCTCACTGCAAGCTCTGACTCCTGGATTCATGCCATTCGCCTGCCTCAGCCTCCCGAGTAGCTGGGACTATAGGCGCCCGCCACCATGCCTGGCTAATTTTTTGTATTTTTAGTAGAGACGGGGTTTCCCCGTGTTAGCCAGGACGGTCTCTAGCTCCTGACCTTGCGATCCACCTGCCTCGGCCTCCCAAAGTGCTGGGATTACAGGCATGAGCCACTGCACCAGGCCCTCTTTCACATTTTTAAGTTTTCTGTTATCTATTTCAAAAGGTGTAGTTAACATATTTTAAATATTAACAATTCAAAAATAAAACTATTATAGAATTTTTAAACAGTATCCAGATAAATTTTTATTATTAATTTCATACTCAA', 1)\n",
      "('CTGATGAAACCCGGCGAGGTGTGGTCTGCCCTGGAGGACAGCAGCCAGTGTGGGGGGCAGTCCCTTCTCTCTGTCCCAAGGGAGGATACAGCTCCACTGTGGTCACTGGCTCTATGTGAGGGGGTGCATGCATCAGAGACAACAGATGAGAGGGCCCTTCAGTTGGCTTTTCTGCCTCCAGTTCTTTCTGTTCATGAGAGGAAAAGCTACTGGTAGACAGAACAATGTTAAATGTAATAAAAATAAGCAAGTTCCCTGGGTTTATGCAGTGCCAAATGTCAAGATGGTTGTATACAGGAGAAGACGTCCAAGACACGTCTTTTCCGAGTGTCCCAGAGCTCAGAACTCTGTGAGCACTTTGAGCTTCCCCAGACCTCTTTCTTCCCTGGGTGTGAGCCCTGCACAGTGCTCCGAAAAGAGCTGGGGTCCGTAAATACGGATGGCAAACAGCTCACCTGGGTTTCTCACATGGATTTGTTTTCTTGGGGGTCTCTGTATGG', 0)\n"
     ]
    }
   ],
   "source": [
    "# Get a sample from train_dataset with a 1 on the second element of the tuple\n",
    "positive_sample = next(filter(lambda x: x[1] == 1, train_dataset)) # A 1 indicates that the sample is a positive sample\n",
    "negative_sample = next(filter(lambda x: x[1] == 0, train_dataset)) # A 0 indicates that the sample is a negative sample\n",
    "print(f\"{positive_sample}\\n{negative_sample}\")"
   ]
  },
  {
   "cell_type": "markdown",
   "metadata": {},
   "source": [
    "Can you tell, without looking at the corresponding labels, which of these sequences is positive for an enhancer and which is not?\n",
    "Well, you can determine this by some other studies like genome-wide chromatin immunoprecipitation or RNA sequencing. But if you saw these sequences alone, would you be able to tell whether it is an enhacer or not? A deep learning model can do it! At the cost of massive amounts of already-labeled data that were obtained with techniques like the previously mentioned ones (that is, what we just downloaded)."
   ]
  },
  {
   "cell_type": "markdown",
   "metadata": {},
   "source": [
    "You already have downloaded the dataset, but it isn't ready to be used with a neural network yet. PyTorch neural networks expect their inputs to be arranged in a special data structure known as **tensor**s. If you have experience with Numpy's `ndarray`s getting to know tensors will be pretty easy. These are *n*-dimensional number arrays optimized for gradient calculus and other operations that run in the background when training a neural network. More information about tensors and specifications on [Pytorch's website](https://pytorch.org).\n",
    "\n",
    "Now, how does a tensor look like? In the following code cells we initialize random tensors and display them just for illustrative purposes."
   ]
  },
  {
   "cell_type": "code",
   "execution_count": 7,
   "metadata": {},
   "outputs": [
    {
     "name": "stdout",
     "output_type": "stream",
     "text": [
      "tensor([1, 2, 3, 4, 5])\n"
     ]
    }
   ],
   "source": [
    "my_tensor = torch.tensor([1, 2, 3, 4, 5]) # As you can see, it takes a list an input\n",
    "print(my_tensor)"
   ]
  },
  {
   "cell_type": "markdown",
   "metadata": {},
   "source": [
    "Tensor's data type is an important consideration always. Many errors arise when tensor's data types aren't the same bewteen the inputs and the labels. Specifically, this error arises when calculating the **loss**, a value that measures the difference between the model predictions and the ground-truth (your labels)."
   ]
  },
  {
   "cell_type": "code",
   "execution_count": 8,
   "metadata": {},
   "outputs": [
    {
     "data": {
      "text/plain": [
       "torch.int64"
      ]
     },
     "execution_count": 8,
     "metadata": {},
     "output_type": "execute_result"
    }
   ],
   "source": [
    "my_tensor.dtype # Using the dtype attribute, we can see the data type of the tensor"
   ]
  },
  {
   "cell_type": "markdown",
   "metadata": {},
   "source": [
    "You can manipulate tensors by adding or removing elements, changing their data types, do any mathematical or arithmetical operation with them, etc."
   ]
  },
  {
   "cell_type": "code",
   "execution_count": 9,
   "metadata": {},
   "outputs": [
    {
     "name": "stdout",
     "output_type": "stream",
     "text": [
      "torch.float64\n"
     ]
    }
   ],
   "source": [
    "my_tensor = my_tensor.to(torch.float64) # We can change the data type of the tensor using the .float() method\n",
    "print(my_tensor.dtype)"
   ]
  },
  {
   "cell_type": "code",
   "execution_count": 10,
   "metadata": {},
   "outputs": [
    {
     "name": "stdout",
     "output_type": "stream",
     "text": [
      "tensor([ 1.,  4.,  9., 16., 25.], dtype=torch.float64)\n"
     ]
    }
   ],
   "source": [
    "tensor_mul = my_tensor * my_tensor # We can perform element-wise multiplication on tensors\n",
    "print(tensor_mul)"
   ]
  },
  {
   "cell_type": "markdown",
   "metadata": {},
   "source": [
    "## Tokenizaton\n",
    "Now that you know you need these sequences in a specific format, the next question is: how do you transform these sequences into representable tensors? The answer lies in the **Natural Language Processing** (NLP) field. NLP is a sub-field in computer science and AI that uses different kinds of algorithms to enable computers to understand human spoken language. Its applications range from text encoding and generation to voice recognition and speaking systems. Some examples in daily life are chatbots and digital assistants (Alexa, Bixby, Siri, Google Assistant).\n",
    "\n",
    "In this case you are working on sequence classification, this means each of these sequences have an inherent \"grammar\" or structure that define them as an enhancer or not. As in NLP they analyze sentence grammatics and decompose them by encoding each word, you're going to do the same. The process of encoding words and turning them into meaningful numerical representations is called **tokenization**.\n",
    "\n",
    "Nowadays it is really easy to implement and use a tokenizer to convert your raw genomic sequences into representable numbers. Thanks to HuggingFace's `transformers` and `tokenizers` libraries, you can download and use pretrained neural networks and their corresponding tokenizers."
   ]
  },
  {
   "cell_type": "code",
   "execution_count": 11,
   "metadata": {},
   "outputs": [],
   "source": [
    "# instantiate tokenizer\n",
    "checkpoint = 'LongSafari/hyenadna-tiny-1k-seqlen-hf' # This is the model's name we are going to use\n",
    "max_length = 1024 # This variable will represent the maximum length of the input sequences\n",
    "\n",
    "# Load the model and tokenizer\n",
    "tokenizer = AutoTokenizer.from_pretrained(checkpoint, trust_remote_code=True)"
   ]
  },
  {
   "cell_type": "markdown",
   "metadata": {},
   "source": [
    "Let's apply this tokenizer to the first sequence to look how the data comes out of it."
   ]
  },
  {
   "cell_type": "code",
   "execution_count": 12,
   "metadata": {},
   "outputs": [
    {
     "name": "stdout",
     "output_type": "stream",
     "text": [
      "{'input_ids': [8, 10, 9, 7, 10, 9, 7, 7, 7, 8, 8, 8, 9, 9, 8, 9, 7, 9, 9, 10, 9, 10, 9, 9, 10, 8, 10, 9, 8, 8, 8, 10, 9, 9, 7, 9, 9, 7, 8, 7, 9, 8, 7, 9, 8, 8, 7, 9, 10, 9, 10, 9, 9, 9, 9, 9, 9, 8, 7, 9, 10, 8, 8, 8, 10, 10, 8, 10, 8, 10, 8, 10, 9, 10, 8, 8, 8, 7, 7, 9, 9, 9, 7, 9, 9, 7, 10, 7, 8, 7, 9, 8, 10, 8, 8, 7, 8, 10, 9, 10, 9, 9, 10, 8, 7, 8, 10, 9, 9, 8, 10, 8, 10, 7, 10, 9, 10, 9, 7, 9, 9, 9, 9, 9, 10, 9, 8, 7, 10, 9, 8, 7, 10, 8, 7, 9, 7, 9, 7, 8, 7, 7, 8, 7, 9, 7, 10, 9, 7, 9, 7, 9, 9, 9, 8, 8, 8, 10, 10, 8, 7, 9, 10, 10, 9, 9, 8, 10, 10, 10, 10, 8, 10, 9, 8, 8, 10, 8, 8, 7, 9, 10, 10, 8, 10, 10, 10, 8, 10, 9, 10, 10, 8, 7, 10, 9, 7, 9, 7, 9, 9, 7, 7, 7, 7, 9, 8, 10, 7, 8, 10, 9, 9, 10, 7, 9, 7, 8, 7, 9, 7, 7, 8, 7, 7, 10, 9, 10, 10, 7, 7, 7, 10, 9, 10, 7, 7, 10, 7, 7, 7, 7, 7, 10, 7, 7, 9, 8, 7, 7, 9, 10, 10, 8, 8, 8, 10, 9, 9, 9, 10, 10, 10, 7, 10, 9, 8, 7, 9, 10, 9, 8, 8, 7, 7, 7, 10, 9, 10, 8, 7, 7, 9, 7, 10, 9, 9, 10, 10, 9, 10, 7, 10, 7, 8, 7, 9, 9, 7, 9, 7, 7, 9, 7, 8, 9, 10, 8, 8, 7, 7, 9, 7, 8, 7, 8, 9, 10, 8, 10, 10, 10, 10, 8, 8, 9, 7, 9, 10, 9, 10, 8, 8, 8, 7, 9, 7, 9, 8, 10, 8, 7, 9, 7, 7, 8, 10, 8, 10, 9, 10, 9, 7, 9, 8, 7, 8, 10, 10, 10, 9, 7, 9, 8, 10, 10, 8, 8, 8, 8, 7, 9, 7, 8, 8, 10, 8, 10, 10, 10, 8, 10, 10, 8, 8, 8, 10, 9, 9, 9, 10, 9, 10, 9, 7, 9, 8, 8, 8, 10, 9, 8, 7, 8, 7, 9, 10, 9, 8, 10, 8, 8, 9, 7, 7, 7, 7, 9, 7, 9, 8, 10, 9, 9, 9, 9, 10, 8, 8, 9, 10, 7, 7, 7, 10, 7, 8, 9, 9, 7, 10, 9, 9, 8, 7, 7, 7, 8, 7, 9, 8, 10, 8, 7, 8, 8, 10, 9, 9, 9, 10, 10, 10, 8, 10, 8, 7, 8, 7, 10, 9, 9, 7, 10, 10, 10, 9, 10, 10, 10, 10, 8, 10, 10, 9, 9, 9, 9, 9, 10, 8, 10, 8, 10, 9, 10, 7, 10, 9, 9, 1]}\n"
     ]
    }
   ],
   "source": [
    "enconded_sequence = tokenizer(train_dataset[0][0])\n",
    "print(enconded_sequence)"
   ]
  },
  {
   "cell_type": "markdown",
   "metadata": {},
   "source": [
    "As you can see, now your sequences is represented as a bunch of numbers. Each of them represents each of the nucleotides that conform the sequences we used as input and the tokenizer adds some special tokens to differentiate from sequence to sequence when passed into the training phase. Let's see how the network will read your sequences in meaningful way for you."
   ]
  },
  {
   "cell_type": "code",
   "execution_count": 13,
   "metadata": {},
   "outputs": [
    {
     "name": "stdout",
     "output_type": "stream",
     "text": [
      "CTGATGAAACCCGGCGAGGTGTGGTCTGCCCTGGAGGACAGCAGCCAGTGTGGGGGGCAGTCCCTTCTCTCTGTCCCAAGGGAGGATACAGCTCCACTGTGGTCACTGGCTCTATGTGAGGGGGTGCATGCATCAGAGACAACAGATGAGAGGGCCCTTCAGTTGGCTTTTCTGCCTCCAGTTCTTTCTGTTCATGAGAGGAAAAGCTACTGGTAGACAGAACAATGTTAAATGTAATAAAAATAAGCAAGTTCCCTGGGTTTATGCAGTGCCAAATGTCAAGATGGTTGTATACAGGAGAAGACGTCCAAGACACGTCTTTTCCGAGTGTCCCAGAGCTCAGAACTCTGTGAGCACTTTGAGCTTCCCCAGACCTCTTTCTTCCCTGGGTGTGAGCCCTGCACAGTGCTCCGAAAAGAGCTGGGGTCCGTAAATACGGATGGCAAACAGCTCACCTGGGTTTCTCACATGGATTTGTTTTCTTGGGGGTCTCTGTATGG[SEP]\n"
     ]
    }
   ],
   "source": [
    "decoded = tokenizer.decode(enconded_sequence['input_ids'])\n",
    "print(decoded)"
   ]
  },
  {
   "cell_type": "markdown",
   "metadata": {},
   "source": [
    "If you want to obtain the PyTorch tensors directly just add the `return_tensors=\"pt\"` parameter."
   ]
  },
  {
   "cell_type": "code",
   "execution_count": 14,
   "metadata": {},
   "outputs": [
    {
     "name": "stdout",
     "output_type": "stream",
     "text": [
      "{'input_ids': tensor([[ 8, 10,  9,  7, 10,  9,  7,  7,  7,  8,  8,  8,  9,  9,  8,  9,  7,  9,\n",
      "          9, 10,  9, 10,  9,  9, 10,  8, 10,  9,  8,  8,  8, 10,  9,  9,  7,  9,\n",
      "          9,  7,  8,  7,  9,  8,  7,  9,  8,  8,  7,  9, 10,  9, 10,  9,  9,  9,\n",
      "          9,  9,  9,  8,  7,  9, 10,  8,  8,  8, 10, 10,  8, 10,  8, 10,  8, 10,\n",
      "          9, 10,  8,  8,  8,  7,  7,  9,  9,  9,  7,  9,  9,  7, 10,  7,  8,  7,\n",
      "          9,  8, 10,  8,  8,  7,  8, 10,  9, 10,  9,  9, 10,  8,  7,  8, 10,  9,\n",
      "          9,  8, 10,  8, 10,  7, 10,  9, 10,  9,  7,  9,  9,  9,  9,  9, 10,  9,\n",
      "          8,  7, 10,  9,  8,  7, 10,  8,  7,  9,  7,  9,  7,  8,  7,  7,  8,  7,\n",
      "          9,  7, 10,  9,  7,  9,  7,  9,  9,  9,  8,  8,  8, 10, 10,  8,  7,  9,\n",
      "         10, 10,  9,  9,  8, 10, 10, 10, 10,  8, 10,  9,  8,  8, 10,  8,  8,  7,\n",
      "          9, 10, 10,  8, 10, 10, 10,  8, 10,  9, 10, 10,  8,  7, 10,  9,  7,  9,\n",
      "          7,  9,  9,  7,  7,  7,  7,  9,  8, 10,  7,  8, 10,  9,  9, 10,  7,  9,\n",
      "          7,  8,  7,  9,  7,  7,  8,  7,  7, 10,  9, 10, 10,  7,  7,  7, 10,  9,\n",
      "         10,  7,  7, 10,  7,  7,  7,  7,  7, 10,  7,  7,  9,  8,  7,  7,  9, 10,\n",
      "         10,  8,  8,  8, 10,  9,  9,  9, 10, 10, 10,  7, 10,  9,  8,  7,  9, 10,\n",
      "          9,  8,  8,  7,  7,  7, 10,  9, 10,  8,  7,  7,  9,  7, 10,  9,  9, 10,\n",
      "         10,  9, 10,  7, 10,  7,  8,  7,  9,  9,  7,  9,  7,  7,  9,  7,  8,  9,\n",
      "         10,  8,  8,  7,  7,  9,  7,  8,  7,  8,  9, 10,  8, 10, 10, 10, 10,  8,\n",
      "          8,  9,  7,  9, 10,  9, 10,  8,  8,  8,  7,  9,  7,  9,  8, 10,  8,  7,\n",
      "          9,  7,  7,  8, 10,  8, 10,  9, 10,  9,  7,  9,  8,  7,  8, 10, 10, 10,\n",
      "          9,  7,  9,  8, 10, 10,  8,  8,  8,  8,  7,  9,  7,  8,  8, 10,  8, 10,\n",
      "         10, 10,  8, 10, 10,  8,  8,  8, 10,  9,  9,  9, 10,  9, 10,  9,  7,  9,\n",
      "          8,  8,  8, 10,  9,  8,  7,  8,  7,  9, 10,  9,  8, 10,  8,  8,  9,  7,\n",
      "          7,  7,  7,  9,  7,  9,  8, 10,  9,  9,  9,  9, 10,  8,  8,  9, 10,  7,\n",
      "          7,  7, 10,  7,  8,  9,  9,  7, 10,  9,  9,  8,  7,  7,  7,  8,  7,  9,\n",
      "          8, 10,  8,  7,  8,  8, 10,  9,  9,  9, 10, 10, 10,  8, 10,  8,  7,  8,\n",
      "          7, 10,  9,  9,  7, 10, 10, 10,  9, 10, 10, 10, 10,  8, 10, 10,  9,  9,\n",
      "          9,  9,  9, 10,  8, 10,  8, 10,  9, 10,  7, 10,  9,  9,  1]])}\n"
     ]
    }
   ],
   "source": [
    "encoded_tensors = tokenizer(train_dataset[0][0], return_tensors='pt')\n",
    "print(encoded_tensors)"
   ]
  },
  {
   "cell_type": "markdown",
   "metadata": {},
   "source": [
    "The output's data structure is a dictionary containing the `input_ids` key which contains the actual tensors you're going to use to train your model."
   ]
  },
  {
   "cell_type": "markdown",
   "metadata": {},
   "source": [
    "The `genomic_benchmarks` datasets contain their labels already in a tensor format. If we load these dataset in another pytorch-specific data structure called `DataLoader` we can display mini-batches of samples from the whole dataset. This looks as follows:"
   ]
  },
  {
   "cell_type": "code",
   "execution_count": 15,
   "metadata": {},
   "outputs": [],
   "source": [
    "train_loader = DataLoader(train_dataset, batch_size=32, shuffle=True)\n",
    "test_loader = DataLoader(test_dataset, batch_size=32, shuffle=False)"
   ]
  },
  {
   "cell_type": "code",
   "execution_count": 16,
   "metadata": {},
   "outputs": [
    {
     "name": "stdout",
     "output_type": "stream",
     "text": [
      "Batch number: 0\n",
      "Inputs: ('ATAAAGACACAGGATGTCCAGTGACATTTGAATTTCAGAAAACAATAAAGTTTTTTTTAGTATAATTATGTCTCTTGCAATGTATGGTACCTATTTATACCAAAAGTGATTTGTCATTGATCTAAAATTCAAATTTTACCGGATATTCTGTATTTTTCTGGCAACACTACCCTAGGCATGAGAGTATAGGAATGAGGGTGGTTATTGGAACACACAGGGTCGGTGATATTTGGAAGTGAAGGGCGACCTAGTGGGAGTTACAACCTGCCTTACAGGAACAAAGCCAAATGGGACAGGGAATGAGCTGGAGAAATAAGGATTCTGAGCTTGCTCTCCTCTTCCTGTCTTCCAATTGTCTGCTGGTATCTCTGATTATTAGGACAATCCAGAAACTAGAGGCCAGATCAGCCTGTTGACCTGCTCCAATGGTTTCCATGGAGATAGGTCTTCCAGGGCATTGAGGAGGGCATGGAAAAAGGAAGAGCATGGATCTAGAAGGC', 'CATCCAGGTAGAAGAATCAGCAGGCACAAAGATGCGGAGGCCCAGGAGGCATTTGGCTTGAGGCCAGTGCAGTTTGCTTCAGCATGGCTGCTCTGCAGAATCCCAGAGGACCAGTGGTAAAGGAGGAGGTCTTTCCCTGAGACCATTTTCATCAGGCCTGGGCAGGCATGATGCAGGCAGGCCCAGGTCAAGGAGAGCTTTGGTTTCCAGCTGGGGAGCCTTGTGGCTTAGGGATGGGCTTTTAAGCAGTGGCAAGATGTGATTGTCACTGTTCCAGATGGGTGGGTCTCTTCGCTTTCCTCATGCCCCACCGTGCTGTGCTCACATGGTTGCTGTGATGTCCAACCCTCTGGGTAAATTTTACTCATCCCTGAGGCCTAACTCGAGTCTTGCCCCTGGAGTAAAGCCCTTCATGACTACTGTAGCCCACACCTTCCTCCTTTCCTCCAAATGTTTTTATTTTTCCAGTCAGAATCACACTTCAAAAGAAAGACAGTAGA', 'ATATCTCTAGAAGTGGGATTTCTGGGTCATAGAGCACAAACATCTTCAATTTCATTGATTATTTCTGAATTGCATGCCAAAATGCCCACATCAATCCACACTCCTCTTAGCCACATACGAGTTTTCATTTCTTCGCATGCTCATCACTGCACAGCACTGTTAGAATTTTACATTTTGCTGATTTGATGGTGTAAAATGGCATATCATTGTTGTTTTCCCCATTTCTTTCCCCTACTTTCTTTAATGAATTTAGAAGAAGAGCTGCCACAGTCTGCAAAGATGTTTCTGTGTGCTGATTTGTTTCCTAGGAAGGGAGAAGGAGGAACACTGGGTATAGGTTGTATTGAACAGCCATGTGGTTTTTTGCTCTGTACCATGGATGCTTGAGGTGCATAGCACCCAGTGATGCTGACCACCCCTCTTATGCTGGAAGAATTTCCCATATCATGTGTCCTGCCTCCCTAGGTAGAAATCAGAAACTCACTTCACCAGCCGCCCAA', 'TAGTAATTACTAACAACAACAAAAAAGAACAAGTAATTACTAATAACAACCAATAGAAAAATAAAATACTCTTCAATATCACACCAAAACTTTAGCAACCAACTAAACGAAGAAGAAGATATTTACAGAGAAATTGGATAAATTTTGAATAAATGGAAGATAACCAATTACATGGATAGGGCAATATATTACGATAATTATGTCTTTCTTCCCAAATTGTCCTACAAATTCAAAGCAATCACAATAAAAATTCCAGCTGATATTTTTAGAAAATTGATAAAACTCCATCTAAAATTAATATAAAATAATAATGGTCTACAAGTATTTATATTGGTTTTGAAAAAGGAGAATTAAGGTTGAGTTAGGCAGAATTAATTTACTACATATTAAGATATATTACATGGTTGGCTGGGCACTGTGGCTCATGCCTGTAATCCCAACACTTTGGGAGGCCGAGGCGGGTAGATACTTGATGTCAGGAGTTTGAGGCCAGCCTGGGC', 'AGTAAAATCCTCAAGGGGAAAAAGAATTAAAAATTAAAAAGCCCCATCCAAAACAAAGAAAAACAAACAAACAAACAAAAAAATAGAAGCAACAGCTGCTCCCTCAGGTGAGAGCAAATCAGCACAGAAGCTCTGGCAGTACAAAAAACAGTGTTCTGTCACCTCCAAAAATTGCATTAGATCCCTGGCAATAGATCCTAACCACATTGAAATGGCTGAAATGAAAGATAAAGAATTCAAAGTATGTATTGCTGGAAACTCAATGAGATCCAAGATAAAGTTAAAATCCATCACAAAGATAACAATAACATGATCCAGGATTTGAAAGAAGACATCACTATATTAAAAGAATCAAAGAGTGCTTATGGAATTAAAAATGTCACTACAGGAATTTCAAAATACAATTGGAGACTGTATTAGTCCATCTTCACACTGCTGATAAAGACATACCCACAACTGGGCAATTTACAAAAAAAAAAGGGGGGTTATTGGACTTAAAG', 'GGAGAGTTGAGGCCTAATTCCCAACGGTTATTTGCTCTTCAGTCTGAGACAAGTCCCTGAGCCTGAGGATTTGTTTTTCATCTATAAAAATGTGATGGTAAGAAACACTACATTGGCTACCCTGCAGAGATTATTAAAGCCCTGCCTAAATGGCAATGTACCGTGAATACGCTAACCATTATTAACTTTGTGCTTCTTTTTTCTCTTTTGCCACAGCTACCTCTGATCGTTAGACTGCGTGTTAGAACCAAATGCCCAGAGCTAGGGTTGTAAGCCACTAAAAATAGACTTGTGGGCTCCCTGGCAAGGGTGGGCTGGCTGTAACCCTCACATGGGATTGAGGTTGCTATGCAGCTTTGTCAGGGGCTAGGTAGTTTGTGTTGTTTCCACCAAGCTGTCCGCCCTGTCTGCGGCTTCTCTTGTTGTTCACCAAGCTGATATATTGATTGCTCATGGCTTCCCACCTTATCACTGAAAAGATGTGTGTTTGTAAACTGCAT', 'TCTGTCACCCAGGCTGGAGTGCAATGGTGCAATCTCGGCTCACTGCAACCTCCACCTCCCGGGTTCAAACAATTCTCCTGCCTCAACCTCCCGAGTAGCTGGAATTACAGGCACATGCCACCACGCCTGGCTAATTTTTGTATTTTTAGTAGAGATGAGGTTTCACCATGTTGGCCAGGCTGGTCTTGAACTCCTGACCTCAGGTGACCCACCCACTTCGGCCTCCCAAAGTGCTGGGATTACAGGCATGAGCCACTGTGCCCGGCCCAATTTGCATGTTTTAAAGAGCATCCTGGCTTTGATGGGGAGAAGTGACAACAGTGTGGTATAAATCAGCAGAGCAAACAGCCCCATGATGACACTCCAGCATCCACTGGGAAACAACGGTGGCAGCTCGGTCTGGGGCGACGGCCACGGCAGGTGGAGGAGTAGGCCCCATTGCCCTGCACAGGACCACAACCTGCCACTGGTCACGAACCATCCTGTGAAACAACCCTTGT', 'CATGGATGTTTGCAAGATTATTCAAGTGATTTCCCACAATTTATTTCAAGCATTTACTGTAGGTGGCTTCAGAATTTTAAGTAGCATGTAAACTACAGACCACCTGCCTCAATGCACCATATCCAGCATCGGTTTTATATCCTAACAAGACGGGATAAGGCACAGTTCTTGAACTGCTGCCAACTCTCCAGAAAGGCACTGGGTACATCGGAAATGCCTTCCGGGGGCCTCCTAGCACTGTCCGGAGCATTTGTCCTTCAGAGCCTGGCCCCAGACCTGTTCCTCTCCCCATAGCTGGGTTCACCAAAGGCACTTCCTGATAACTGTTCCAGGACTCAACAATCAAAAATGAAAAAAATCAGAGAATGTTTTAAAGCCCAAGGATATAAAGTACTAAGACTCTTCTAAAACCTGATTGTCCTTCTCCAGTGTGGTAAGCAGGCTCTGACTCACTTCCCTCCTAGATAGGATTTCCTCCTGTGTATACTCCCAGAGCTAAG', 'AAATGACATACTCGGCTATTAAAAATTATATTGCTACAGAAAAAAGTTGAGAATCTGGTATTTCTAGGGCCACAATTAATTTCTTATATTAGAACTCAAATCTTTAAAATAAAATCTCACACATGGGAATTACACTTGGGACTTTACACATGGGAAATGAATGATCAACTTTTCCTTCCTAGGTCATCTCCCATCGGAATAACAGACTTTCCGCTCTATAGAAGACAAAGGACTTGCTTTTCTCCAGAAAAATATCTCCCCATTGATAAATAATGAGCAAATGCAGGACACTTAAGTAGTGTTCCCATCAGTAGTGTGAACCCTGTCAGCACTAACCAGCTGGTCCTTGTCTGTTTTGCAGTCAAAGAAAACGGGAACCCAGTGTGCATCTGAGTTCCCAAGGAGGGAAGGCTATGATTTGCCAGGTGTGTGCATGGGCAGAATGCCCAGTCCCAGGTTGTTTTATAAAAAACCTTGCTCAGGCATGGCCAGCAAAGCTG', 'AGCTTTGCTGAGCTCTGGTATTCTCATAAATAGAAGGGAGATGACACCATTGCCCTCAAAATTTCAATATGAAGATTTAATAAGATAATATCAAGAGAGCATGGAGAAGCACCTTATTTCTTTACACACTTGTACTAAAAAATATTTGAAATGCACCACTGTGTTAGGTGCTATGCTAAGCACTAGGAAGATAGATGAGGTCTTAGTCCCTATGGGGCATATAGCCTAGTGTCGTTGGGAGGGAGACAATATGAATAAATAAATAAAACACTAAAGAAGGTAGCAAGTATCCTCACAACTGCAATACAGAAATAAACATGGTGATAGGCTATAGAGTGGGGGCGTGGAAGGGTGTTTTGGGTGGGTTGATCCACCCTGAGGTGGTAGATATTTGATCTGAGACCTGAAGTATTACACTAACTCTTTCTACGAATATTTATTTAAAGACCTATTATGTGCCAGGCACTATTCTAGGCACTGGAGATAAAGCAGGGAACAAG', 'CCACTGCCAAGTGCAGTCCATTGGAGCTGACACCCCCGATGTCAAGGTCCACTAAATCCTGCCTTCCTGACCCAAGTCCAGTAGGCTGCAAAACTGCCTACCCTGTTGTCTTGTAAACATACAAAAAATTTTCAACTCTACTCATAATCAAATAAATCAAAATATCCAAAGGATTGTAACGACCAGTGTTACTGAGAGTGCGAAGAAATTAACATTCATGCTCTGCTGGCGAGGATGTAAATAGGTATAGACTTTCTTGAAAAAAATTGAGACATATATGTTTGTATGTGTGTGTATATATATGTGTGTGTATCTATCTCTCTATATATAGATATATGTGTGTATCTATCTCTCTATATGTAGATCAGCTCCATGTCATCCTTAGTCAATTCTCATAAGGAATGTCTTCACTTTTACAATCAAAGTCAGGCTGTATTAGATAGGCATATGTATAAAACCCAGACTAATAACTATTATTTTCTTTGTTAAACTTCTGAGAA', 'CCCCCATTTTAAAGAAAACTTAGAAACATTTGAACTTTGTATTTTCAATAGCAATACTTTAATAACTCAGTCTATGTATCAATTACAGGATATAAATGGCATTTCCATTTTGTCAATGAAGGCTTCGTCAAGTTATAATTTACAGGGAACAGATAGCTTTAAGATTCACTTGCATCTGACTATTTCTCACGATGAGTGACAAGAAAAGCACAGATAAGTGTTTGTATGGTGACTCAAACTGATTTGAATAATTACTTTCAGACTCCAGTAAGCTCTTGGCCTTATTACTTTTTTTGTAGTAAGAAAATTGAACAATTTTATTTTTACTTCTCTCTGACTATTAATTCTTGGTAGAATTCCTTACATGTAGTTAAATGAAAAAAATAGCGGAAGGAAGGAAGCAAAAGTAGAGTTTCTGACATCCTGACAAGACGGTGCTTGGAGTTCTTTTTTTCATTTAAAAGAGTTAACAATGGCCTGAATTTGTTGAAATAAAGTAG', 'CATGATGTTGAGCATCTTTTCATGTTTGCTACATACGTATCCTTCCTTTGTGAGGTGTTTGTTCAGATCTTTTGCCCATACTTAGACTGAGTTTTTTGTTTTCTTACCATTAAGTTTTGAGAGTTATTTGTATACTTGGATGCAAGCCCTTTATTAGATTAGTTTTGCAAATAATATTTCACATTCTGCAGCTTGCTTTTTAATTCTCCTAACAGCGTTTTTTTTTTTTTCAGAGAAAAAAGCATTAATAAAGTTCAAATGGTCAATTTACATTTTTCTGTGGTCTATTTTGAATCTTTCTTGTTGGAAAGTATAAAGACTACATCTAAATTCTTTTTTTCCCCTTTTTTTGTCAGTAGATGTCCAATTGTTCCAACATCGTATGTTGAACATACAATTCTTTCTTCATTGAATTTGTGTGTTGGTCAACAATTAGATTTGTGTGGGTCTATTTCTTGGTTCTATATTCTGTTCCACCAATCCACTTATATACTTATTAG', 'GATAAGCCTCAACTGTGGCAGAGTACCAGAGTCATGATCCCCACCTACTGACCTGGGCACAGGCTGCCTGCTGGCAAGGATGGCACAGTTGCCCATGGGCCCGGGAGCAGGAGGTGGGGGCAGGCAAAGGGCTGGGGGCAACGCTGTGGTCCTTCCTGTATCCCGTCCATCGCGTGCCAAGCCAGTCCTTAGTTGCACCCAAATCCAGGAAGCCTCAAGGCCCCGCAGGAAATCATAGAAAATGACCAGGCCAGCCCTGGGGAACACAAGTCTTAGCACAGAAATACCCAACTCCTTTCAACCTCCCTCCTCTCAGGCAGGTCCCTAACCCTATCTGGTCCTAGTGGGCTCCCTTAACCAGCAGTGCTGGCCAAGTCACAGAGGCTGTCGAAGGTGGCACGGGCCTCACCCAGGATCATAGGGTGCAGGGCCCAGCATGTCCGATGTGGGCAGGAGGAAGTGTGAGTCCAGGCCCAGGTTTCTGGTCATTGTTCCAGGAA', 'CATGCATTTCACTTAGAGACGAAAGAGATTGAGATCTTGATTTTGTTCTGTTTGACTTGCACTCATTCTCCCAATCTGTCTTTCACATGCTGATTGAGCACTTTATACATCAACTGATCAGCATTTTGAGGAATCTTACCAGGAAACTGCTTGCTGGCCAAAGTTTTAATTTTGGCACCTGCATCATTGCTGTGCTTGGGCAATTGTCTGAATATTTCTATTACATCTTGTCATTATTTTATAAAAGGGAGAGGGGAATGGAACTATGAAAGTGCTGTGGCAAGATTTGTCATTCTCACAAAGGCAGTGACAATATGAAGTTGGACATCTGAAGTGGGCTGTCAGCTGCAGTCATACCTGTGAGCTCAATTGTTGAGAAAAGATTCAGAATTAGTGATGATGTCCATAATGCCAGAAGTAAACTGTGAAGGTTGCGTCTGAAAGGCAAGATTTGATTAGGGATTTGTATTATTCTTTCTATTATATTCGAAAGTAGAAAT', 'TATCAAAGAAAGAAAGGAGGTTGGTGTGACATGGTTAATCCTTAATAAATCTGTAGAGGACCTAGTAATACCAATTCCTCTTGTGTTCAGAGCCACCCATGGCCATTCGGTAAACTGCGCTCTGGTTTCAAAGAAGGCAAACTTAGGCTGATTTTTCCTGAAACTATACTTGGAAATATTTATGGAAGATAAAACTGACACACATAGTGCCTACTATGAGCCCATACTGTGCTGTGCACTTAGCATATTTTAGCTCATTTAATCCTTGCAATAAACTTATTAAGTAGATACTACTGTATCTACTATTCATTATTACCTACTGTTACCATCCTATTTAAAGATGGAAAACCAGGGCAGGTTTACTAACTTGTCGCAAAGCTGATAAGCAGCAGAGCCAGGATTTGAACCCAGGGAATCTGGCTTGTAACCACTTTGATCTGTTGCCCACAAGGATATAAAACTGACATTGTTTAGAAAGAGGCATCAGGTGCAAATGAGGA', 'AAGCTGCCCAGAGACCGTTCCCTGAATTATGTAAAGCCTTGCTGTGGCTGGGCACCGTGGCTCACACCTGTAATCCCAGCACTTTGGGAGGCCAAGGCGGGCGGATCACCTGAGGTCAGGAGTTCGAGACCAGGCTGGCCAACATGGTGAAACCCCATCTCTACTAAAATTACAAAAATTAGTCAGGCGTGATGACGCACGCCCATAATCCTAGCTACTGCGGAGGCTGAGGCACAAGAATCACTTGAACCTGGGAGGCAGAGGTTGCAGTGAGCCAAGATCACACCATTGCACTCCAGCCTGGGTGACAGAGTAAGACTCCGTCTCAAAAAAAAAAAAAAAAGTCTTGCTCTGCATCCCATCAGCCTAGACAACCCATCTCAAACTCCAACCAGAGTTCGGCATCTCACATGCTTCAACCCTGGTCTGATTAATGTCATCATGCTCAAATAACTCATGAGGCTGCCTCCACACCTATGGACACACACTGTCTCTGGGCC', 'GTAATTGTTTAGATAGAGGACAAATATATTATCTTTATAAGAAGCAGCCAAATAATATTTTATCTCTACCAGCAGTGTCTGAGAGTTCCAGTCGCTCCACATTTTCAACCAATTTAGTGTTGTCCATTTTTAACTTTTACCTAATCAAGAGTGTATAAAGTTTTTCAGTGTGGTTTTAATTTACATAATTTGAAGACTAATGATGTTCAATCAGTTGTCATATGCTTATTTGCTATTTGCATAGCTTCCTTTTAACAATTTGATATCCTTCATGTACAGTAGAACTCACTGTTTTTAGCATACAGTTCTGTGATCTCTGAGAAATGCATAAAATCATGTAACCATCATCAAAATCAATATATAGAACTGTAGTGTCACCCCCTCAAAATTTCCCTATGCACTAGTCAATTTGCTCCTCAATCTTCATGCCCTAGCATCAGTGATTTGTATCGTGCCCCTATAGTTTTTCCTATTCCAGAATATAATATAAATTAATCATA', 'CTAATAGCTGGAGCTGTCCAGAGTGGGTCAGAGGCCCCCTGGGGCTCATGACTCACGCACAAAGGTGCCCAAACCTCTGATATGTGGGAAGACCTTTGAACTGTATTATTCAGATTCTGAAATGACCTCTACGAGCAACCTATGTGTATGCGTACATTTGTAGGATAAATTCCTTAAAATTATGTTGTTTAAGCTCTGTGGTATATATGTGTTCTGGCTAAATTGGAGACATTTTCTGTTACATGATTTTTATAATGGACTTCAATTCTGTGATTGCGTTGTTGGTTCTAGAAAGCAGAGTTCGAAACGTAATGTGGAAAAGGCATTTGTTTTTTTTTTTTTTCTTAGTTTCTACTTTAGGGATAATATATCTTCTGAACGCTGCTATTAAAATGAACATTCAAAAAATAAATAAATAAAATGAACATTCACATGTACATACTTCACCTGATTCCAGTGCTCAGTTTGAAAAGGAAATTTAAATTTCTATTATGCAGTTT', 'CTGAGAGCGTATCAATCATAATTCTCGACTTCCTCCTTGGCTGCAATTCAAGAGCGGAGCCAGCTCCACATTCTGACCTTCACAGCCTGACCCTGGACAAGAGCCAGATTCTTTAATGAATCATCTGGCATACTACTTATTTTCGTCCTCTCACTCCTGTGAAACTCACAATTATCATGGCCTCCGGGAAGCAGTTCCTTGTGTTCTGACAAAAATGAGAGAGCTCACAAAATTTTCTCTTGTTTACCAACCAGCCTGGGCAACATGGTGAAACCCTGTCTCTATCAAAAAACTCACAAAAATTTGCCAGGCGTAGTGGCATGTATTTGTAGTCCCAGATACTCTGGAGGCTGAGGTGAGAGAATTACCTGAGCCCAGTAGGCAGAGGTTGTAGTGGGCTGTGATTGCACCACTGTACTCCAGCCTGGGCAACAGAGCCAGACCATGTCTCAAATACACATATATATCTATATAGATATATATCTATATCTATCTATATC', 'ATAGTTCACACATGCCCCGTCAGACAAATTGTCTGGTAGATTTGAATTTCTGCCATGGGTAATGAGTAGGTTTTGGAGAGTGGAACAAGGCTATCTTGGGTTTCACATTCCTCTGATTTCTCCAGAATATTTCCTGAGGACTGTGAAAGAAGGCAGTTCTAAACGCAAAGAAACTCTGGTATTGAAATGGTTTTGACATTCCAGGGAAAATCCACCAAATTAAGACAAGAACTGTGGTAGAGGGTGTACACATTTTTATTGGTTGAACTGCTATAATTCTGGATACAGTTCATTCAAATCTGCAAATAATTTTAGGATTTCATTTGTAAAAAAATGTAGTAGCATGGGAAACCTCATTGGACTCAAGAAACAAAGGCATCACAAAAATGATGAATTCTCTGTTTATTATGGAGGGATCAAGTCTGGTAATAAATTCAGGTGGACGTGCAAGATAGTCAGTATCTCACATGATGCTCAATGATGCCAGCCTTCACACAGAT', 'GTGCTTGGCTTGAAAATTGAAAACTGTGAATAAAGCATGATTTTTTTTTTGCTGGGCACAGTGGCTCGCGTCTGTAATCTCAGCACTTTGGGAGGCCCAGGTAGGCAGATTGCTTGAGTCCAGGAGTTCAAGACAAGCCTGGGCAACATAGCAAGACACCATGTTAAAAAAAATACAAAAATTAGCCGGGCATGGTAGCACGTGCCTGTGGTCCCAGCTACTTGGGAGGCTGAGGTGGGAGAATAGCTTGAGCTTGGGAGACAGAGGCTGCAGTGAACCAAGATCGCAGCACTGTACTCTACCATTGCTATCTAGCCTGAGTGACAGAGCAGGACCCTGTCTCAAAAAAAAAAAAAAAAAAAAAAAAGATTTTTTTCCCCGCAGAATTCTGTAAAAGTTGAAGATTACTGGATTAACTCTTCCTTTGTTTAGAACAGCTAGGCAAAGGGCTGGTGGCCATTTGGGGCTAGATAGGAAATTGAAGGAAAGGAGAAAAAGGC', 'ATACAGGAATGATACTGATTTTTGTATGTTGATTTTACATCTTGCAACTTTACTAAATTTGTTTATCAGTTCTAACAGTTTTGATGGCGTCTCTGGATTTTTCCAAATATAAGATCATATATCTGCAAACAAGGATAATTTGACTTATCTTCCTGTTTGGATGCCCTTTATTTCTTTCTGTTGTCTGATTGCTCTAGCTAGGACCTCCAGTACTATATTGAACAATAACAGTGAAAAAGAGTGTCCTTGTGGTGATCCAAATCTTAGAGGAAGGGCTTTCAGTTTGTTCCCATTCAGTATGATATTGGCTTGAGGTCAGCCATATATGGCTTTCATTCTCTTGAGGTATGTTCTTTCTATACTTAGTTTTTGAGGGTTTTTATCATGAAGGGATATTGAATTCTGTCACATGCTTTTTTGCATCAATTGAAATGATCCTATGGTTTTTGCCCTTCATTATGTTAATATGACCTATCATATTGATTGATTTGCACATTTTG', 'GGACTCCTCCCTTTTGATAAAATCTCTCTCCTAATCCTCATTACAATGCCTGAAGGTGTGCATAACGAGCCTTTTACACATGAACGCACTCAGGCTCTCCCAGGACTGGAGCTACCTGCCCATTGTCACTTGTTGACGGGATGTGGATTAGAACTCTGGTCTTCTCATTTCCGGATGGCTGCCCCATCCCCAGCTGCCCCTCCCAGCTGGAGTCAGTGCCTAGGAACAACCATGGGTCATCCTGGGTACAAAATTAGCCAGGCGTGGTGGCACATGCCTGTAATCTCAGCTACTCGGGAGGCTGAGGCAGGAGAATTGCTTGAAACCGGGAGGCGGAGTTTGCGGTGAGCCGAGATCTCACCATTGCACTCCAGTCTGGGCAACAAGAGCAAAACTCTGTCTCAAAAAAAAAGGAAGAGGTGCAATAGTGAGACAGACCATCTTGGGTAAATTCCGACTGTCTTGTTTCTAAGATGAGGGAGACTTTATTTGAACCTTGC', 'TGGGGTTTTATATGTTGGCATGAGGGAAGAGAGAGACCCTCTCATATTGTTTTATATTGTTTTATACTCAGTACCTGTTTTAAGAAAAAAACAAGAAAGTGAAATCAAAGACAGGCGGCCTGGCACCAGGCCCAAAACCAGGCCTGGGCCTGCCTGGCCTAAACCTAGTAGTTAAAAATCAACTCACGACTTAGAACCTGATGTTATCCATGGATTCCAGGCATTGTAAAGAAGAACATTTTGAAACTCCCTGTTCTGTTCTGTTTCACTCTGACCCCTGTCACATATCCCCTAGATTGCTTAATCAATCACGACCCTTTCATGTGAAATCTTTAGTGTTGTGAGCCCTTAAAAGGGACAGGAATTGCTCACTCGGAGAGCTCGGATTTTAAGACAGTAGCTTGCCGATGCTCCCAGCTGAATAAAGCCCTTCCTTCTACAACACGGTGTCTGAGAGGTTTTGTCCACGGCTCGTCCTGCTACAGGCATACTTCCAGGGT', 'AACATTTCTCATGTACCCATAATTACATGACTTCATATAATTATATGCTAAGCGACTTAACTGGATTATTTGATAAATTATAATTCAGGAAAATTTGGAAAACTTTCCATGACCGATGACAGCATTTTTGACCTTGACTTCAGTCACAGAGTTCTATAGTGTGAAAACATGCTGACTTCGATTCCATATGTACCTTGTACACAATTCCTTAAAACAGAACTCAATAGAATTATCCTAGATTTATAATATGCTCATTTTTGGGGATTGTTTTTCCAGATTTCTATTATATCTTTTCAATGTTTTAAGAAAATTTTGTCATTTATATGCAGGAAAAATTATGTTTTTGGCACACAGTTCTATTAAGCGTTACAAATGCAGAGATTTGTGTCAATAACACCAAAGAAAGGATAAGAACAATTGCGGCACACCAAAATTCCTCATGGAGCCCCTCCCCTTACCCTTGCCAACCATTGATCTGTTCTCTGTTTCCATATTTTTTT', 'GCTTAAAAATTCAATCAATAAAGTTGTGTTACAACACCTGGGGGAACAGCATGCAGCTACTCAATTGGACAAATATTTTCAAAGCAAACAAGAGTGCTATGGGTCAGAGTACAGGGATTGTGTGGGAAGGTCAACAGGAATTTATCACTTTGGTCATGCAGAAAGATTTGCCTCCAAAGTTCTGATTTGTAATAAATTCTTCTTGGCTTTAGAAACTAAAATGTAGGCTATGAAATGTGTTAGATTCAGGAGATAGAGACCAATGAAACACAAAACAAATAAGGGCTTAATAACGATGCAAGTGCTATAAGATTATGGTAAAAAATAAAATAAGTATATGAAAAGGGCACGCATGAAGAATTGAAAGAATTCATCCTTGGTAAATTAGGCTAGGTCTTGTGGCAAAGGCACCCAAAGCTAATGAAGAAGAGTAAATGATATTTGACTGTTACATATGTATATATAGACGAAAAAGAAAATATACCAATAAACATCTTCAT', 'GGAAGGATAGCATTAGGAGAAATACCTAATGTAGGTGACGGGTTGTTGAGTGCAGCAAACCACCATGGCACATGTATACCTATGTAACAAAACTGTATGTTCTGCACATGTACCCCAGAACTTAAAGTATAATAAAAAATTAATAAAGAAGGTCAGTTATATCATGTTTAACAGGATCAGCAGCAGCTTTGTAAGTGACTTTACAGAGACTAATAAGGGATTTGATCTTTCTTTTTTGTTATCGAGGCTTTTGAAATGTGGAACTTGTGTATTCTGCTTTGTTTATTTATTATCTTTTCAGACTCAGTCTATATTTTATGCTGAGTTTTGAAAATGAAATACTTTATGTGAACCGGCAAAACTGGTACCAAAGGGAAACATTAACCATTTGGAAGAACATTTCTGTAAGGGGAACAGGTGACAATATACACGTGTGCTAACTGTAAAATGAGCATCTTAATCCTTAAAGCAAATCAGAATTGAATACGAATAATCTTTTC', 'GAAGGCGGTCTGCAGACCTGTTCAGGGTACAGCATGGCCTTGGGAGTCAGACAGGCTTGGATTCAAACCCGGCCTCAGCTCTATGCTTGCTCTCCAACCTTGTTGGGTGACTTAATCTCTCTGAATCTATCCATATATAGGGACAATTTCCTATCCATATATAGGGATAATAACGTCTACCTTAGAGGTTGTTAGTGGGCAATAAGTGAAGTTACAAAGAACCTAACATGGACCATTTGAAGTCCTTGATAGGAGGATGTTATTATTATTGCTTCTCTCAACCTCATCCTTAAGAACACTAGTAATGAGAGCTGAAAGCAATATTCTACTCTGCACATCTACCCAGAACCTCTGAAGTCTATTTATAAAGGCAGTCATCATAGGCTTTTTACAAAAACTATAACGCCCTGCTTTTTGCCACAATTAACTCATCTTTTTTGTTCCAATTCACTTCAACTTAACACATGCTCACAAAGCACAACTTTGCACAAGGCTCAGAG', 'CCATGAATCATCAGATGAAGATGTTTAAAAGATTTATGGATGTATATGTCTGGATTCCTAGATGGAGCTAAGGATTAGAAGATCCACAGGATGTGGTGAGTAGTTGAAGCCAAAGGCAAAGATGGCACTATCCACTGAACGAGTATAGAAATAAACAGATTAAACCCTAAGATACAGCAGCACCCAGGTCAAGCAGATGTCCTGGAAATCAAGGACAGAGAAAGGTCAGAAAGTAGGAAAGGTCAATATTGAGCTAAATTTGATCATTTCATTTAGCACCAGAAAGTGACCATTAAACTTTAACCAGTTCCTATGAAACTGAGTCTAGTTAAATGTGGGAAGAAACAGTAGAAATGGCTTTTTTCCTTCTTGGAAGTAGATTATTTCTTTTTGTAAAGGCAAAAGGTTTCAATTGTTTATACACAAAAATATCTATCCATTTTTCACTATGTAAGTCTTGGAGTCAGAGGTGGAGAACAAGCCTCTTTGTTCTAAAATCA', 'GCTAGCTTTCCTCCATCTGTCTCCCCCTCCTCAGGCCTTCTTATTTCCTAAGGCACAGTAATACTGAAATCAGGTCAATTAATAACCTTACAATGGCCTCTAAGTGTTTAAGTGAGAGTCTCACCTCTCTTGCTTTAAAGCAAATGTTAGGTATAATTAAACTTAGTAAGGAAGGCATGTTGAAAGCCAAGAGAAGCTAAAAGCTAGGCCTCTCGCACCACACAGCCTATTGTGAATGCAAAGGAAAAGTTCCCAAATGAATGTAAAAGTGCTCTGGGTATATACCCAGTAATGAGATAAATCATGCTGCTATAAAGACACATGCACATGTATGTTTATCGCGGCTCTATTCACAATAGCAAAGACTTGGAACCAACCCAAATGTCCAACAATGATAGACTGGATTAAGAAAATATGGCACATATACACCATGGAATACTATGCAGCCATAAAAAATGATGAGTTCATGTCCTTTGTAGGGACATGGATGAAATTGGAAA', 'AACTGTAGTCCCTAGGGATAAGGGCTGAAGCCCTGGTCCCCAAATGCTTGCATTTGGATCCCAGATTCATTATTTACTTGTGGTGTGACCTTGGACAAGGCCTCTCATTGTCCCGTGCCTCAGTTTCTCCATCTGTAAAGTAGACCTGGTCTTAGTAACCTGCTGCCTAGAACTGTGGTGCGAACTGAGGGAGCTATGCAAAGCTTTAGACAGTGACTGGTTGGCGGCAAGCAATCAATCAATGAAGCCTCCATCACAGTGATCCCTTGGGCTCCCCAGGGAGTAGCAGTTTGGAGGACCCAGATTCTGAACCCACAGAGTTGGTGTGGAAGAGGAAGAGGGAGCCTGGTGAGCCCCCCACTTACACCCCCAGAAGCCTTGGAGCCAAAGCAGCCGGACCCCAGCCCCAGCTTCAGAGGAGCTGCCTTGGGGGTGGGGCTGCCCCGGGGCTGGCCCAGCCCCAGCAAGCTTGTTAATTACTTCTCAGGGTCACGGTCTTA')\n",
      "Labels: tensor([1, 0, 1, 1, 1, 0, 0, 0, 1, 1, 0, 0, 1, 0, 1, 0, 0, 1, 0, 0, 1, 1, 1, 0,\n",
      "        0, 1, 0, 1, 0, 1, 1, 1])\n"
     ]
    }
   ],
   "source": [
    "for batch, (x, y) in enumerate(train_loader):\n",
    "    print(f\"Batch number: {batch}\\nInputs: {x}\\nLabels: {y}\")\n",
    "    break"
   ]
  },
  {
   "cell_type": "markdown",
   "metadata": {},
   "source": [
    "Let's apply the transformation we just learned to convert the sequences into meaningful tensors:"
   ]
  },
  {
   "cell_type": "code",
   "execution_count": 17,
   "metadata": {},
   "outputs": [
    {
     "name": "stdout",
     "output_type": "stream",
     "text": [
      "Batch number: 0\n",
      "Inputs: tensor([[ 7,  9,  7,  ...,  8,  8,  1],\n",
      "        [ 9, 10,  7,  ...,  9,  7,  1],\n",
      "        [10, 10,  7,  ..., 10, 10,  1],\n",
      "        ...,\n",
      "        [ 7,  8,  9,  ...,  9,  7,  1],\n",
      "        [10, 10,  9,  ...,  7, 10,  1],\n",
      "        [ 7,  9,  8,  ...,  9,  9,  1]])\n",
      "Labels: tensor([0, 0, 1, 0, 0, 1, 1, 0, 0, 1, 0, 0, 0, 0, 0, 1, 1, 1, 1, 0, 0, 0, 1, 1,\n",
      "        0, 0, 1, 1, 1, 1, 1, 0])\n"
     ]
    }
   ],
   "source": [
    "for batch, (x, y) in enumerate(train_loader):\n",
    "    x = tokenizer(x, return_tensors='pt', padding=True, truncation=True, max_length=max_length)[\"input_ids\"]\n",
    "    print(f\"Batch number: {batch}\\nInputs: {x}\\nLabels: {y}\")\n",
    "    break"
   ]
  },
  {
   "cell_type": "markdown",
   "metadata": {},
   "source": [
    "Excellent! Now you can see the relationship between the sequences and labels contained in the dataset. Let's now load the model you're going to train! It's really important to keep in mind that if you're going to use a pretrained model (as you are doing right now), you have to use the same `checkpoint` for both the tokenizer and the model. Doing so you will give the inputs to the model as it expects and avoid lots of error messages."
   ]
  },
  {
   "cell_type": "markdown",
   "metadata": {},
   "source": [
    "## Model training"
   ]
  },
  {
   "cell_type": "code",
   "execution_count": 18,
   "metadata": {},
   "outputs": [
    {
     "name": "stderr",
     "output_type": "stream",
     "text": [
      "Some weights of HyenaDNAForSequenceClassification were not initialized from the model checkpoint at LongSafari/hyenadna-tiny-1k-seqlen-hf and are newly initialized: ['score.weight']\n",
      "You should probably TRAIN this model on a down-stream task to be able to use it for predictions and inference.\n"
     ]
    }
   ],
   "source": [
    "# Load the model using the same checkpoint as the tokenizer\n",
    "# The num_labels parameter is set to 2 because we have two classes in the dataset (positive and negative)\n",
    "\n",
    "model = AutoModelForSequenceClassification.from_pretrained(checkpoint, trust_remote_code=True, labels=2)"
   ]
  },
  {
   "cell_type": "markdown",
   "metadata": {},
   "source": [
    "You are almost there to train your model! You're a few parameters and functions away of training the model. Let's finish the set up to start the training process!\n",
    "\n",
    "To start its training a deep learning model needs:\n",
    "* a `device`: the piece of hardware where all the math will happen. It's advised to use a GPU for accelerated training\n",
    "* `loss function`: this tells you how much difference is there between the model's precictions and the ground-truth labels in the dataset\n",
    "* a number of `epochs`: the amount of times the model will \"see\" the samples within the dataset\n",
    "* an `optimizer`: a way of calculating and update the model's parameters to fit better the data after each iteration\n",
    "* a `training` and `test` loops: to declare how the information will pass through the network and in which moment to update the parameters\n",
    "\n",
    "Let's declare them in the following code cell:"
   ]
  },
  {
   "cell_type": "code",
   "execution_count": 19,
   "metadata": {},
   "outputs": [
    {
     "name": "stdout",
     "output_type": "stream",
     "text": [
      "Using device: mps\n"
     ]
    }
   ],
   "source": [
    "# Define the optimizer and the loss function\n",
    "loss_fn = nn.CrossEntropyLoss()\n",
    "\n",
    "# create optimizer and define its parameters\n",
    "learning_rate = 1e-5\n",
    "weight_decay = 0.1\n",
    "optimizer = optim.AdamW(model.parameters(), lr=learning_rate, weight_decay=weight_decay)\n",
    "\n",
    "# Define a device\n",
    "device = torch.device(\"cuda\" if torch.cuda.is_available() else \"mps\" if torch.backends.mps.is_available() else \"cpu\")\n",
    "print(f\"Using device: {device}\")"
   ]
  },
  {
   "cell_type": "code",
   "execution_count": 20,
   "metadata": {},
   "outputs": [],
   "source": [
    "# Define the training loop\n",
    "def train(model, device, train_loader, max_length):\n",
    "    model.to(device)\n",
    "    model.train()\n",
    "    size = len(train_loader.dataset)\n",
    "    for batch, (x, y) in enumerate(train_loader):\n",
    "        x = tokenizer(x, return_tensors='pt', padding=True, truncation=True, max_length=max_length)[\"input_ids\"] # Tokenize the input sequences\n",
    "        x, y = x.to(device), y.to(device) # Move the data to the device\n",
    "        # Forward pass\n",
    "        outputs = model(x, labels=y) # Get the outputs of the model\n",
    "        # Backward pass\n",
    "        loss = outputs.loss\n",
    "        loss.backward()\n",
    "        optimizer.step()\n",
    "        # Zero the gradients\n",
    "        optimizer.zero_grad()\n",
    "        if batch % 100 == 0:\n",
    "            loss, current = loss.item(), (batch + 1) * len(x)\n",
    "            print(f\"loss: {loss:>7f}  [{current:>5d}/{size:>5d}]\")"
   ]
  },
  {
   "cell_type": "code",
   "execution_count": 21,
   "metadata": {},
   "outputs": [],
   "source": [
    "# Define the test loop\n",
    "def test(model, device, test_loader, max_length, losses, accuracies):\n",
    "    model.to(device) # Move the model to the device\n",
    "    model.eval() # Set the model to evaluation mode\n",
    "    size = len(test_loader.dataset)\n",
    "    test_loss, correct = 0, 0\n",
    "    with torch.no_grad(): # Disable gradient calculation\n",
    "        for x, y in test_loader:\n",
    "            x = tokenizer(x, return_tensors='pt', padding=True, truncation=True, max_length=max_length)[\"input_ids\"] # Tokenize the input sequences\n",
    "            x, y = x.to(device), y.to(device) # Move the data to the device\n",
    "            outputs = model(x, labels=y) # Get the outputs of the model\n",
    "            test_loss += outputs.loss.item() # Get the loss value\n",
    "            correct += (outputs.logits.argmax(1) == y).type(torch.float).sum().item() # Get the number of correct predictions\n",
    "    test_loss /= size\n",
    "    losses.append(test_loss) # Save the loss value in the current epoch\n",
    "    correct /= size\n",
    "    accuracies.append(correct) # Save the accuracy value in the current epoch\n",
    "    print(f\"Test Error: \\n Accuracy: {(100*correct):>0.1f}%, Avg loss: {test_loss:>8f} \\n\")"
   ]
  },
  {
   "cell_type": "markdown",
   "metadata": {},
   "source": [
    "Now you have all the parameters, objects, and functions needed to train a deep learning model! The last thing you have to do is to declare how many **epochs** the training phase will have. This is how many times will the model \"see\" or process all the samples contained in the training dataset. This is done to try to fit the model as most as possible to the data. That's why your dataset has to include a wide variety of examples, covering the most cases as possible from the phenomenon you're studying."
   ]
  },
  {
   "cell_type": "code",
   "execution_count": 22,
   "metadata": {},
   "outputs": [
    {
     "name": "stdout",
     "output_type": "stream",
     "text": [
      "Epoch 1\n",
      "-------------------------------\n",
      "loss: 0.703496  [   32/20843]\n",
      "loss: 0.667997  [ 3232/20843]\n",
      "loss: 0.635347  [ 6432/20843]\n",
      "loss: 0.643703  [ 9632/20843]\n",
      "loss: 0.557363  [12832/20843]\n",
      "loss: 0.542455  [16032/20843]\n",
      "loss: 0.639422  [19232/20843]\n",
      "Test Error: \n",
      " Accuracy: 67.3%, Avg loss: 0.018850 \n",
      "\n",
      "Epoch 2\n",
      "-------------------------------\n",
      "loss: 0.619926  [   32/20843]\n",
      "loss: 0.523954  [ 3232/20843]\n",
      "loss: 0.572760  [ 6432/20843]\n",
      "loss: 0.489192  [ 9632/20843]\n",
      "loss: 0.476640  [12832/20843]\n",
      "loss: 0.527408  [16032/20843]\n",
      "loss: 0.643266  [19232/20843]\n",
      "Test Error: \n",
      " Accuracy: 69.0%, Avg loss: 0.018230 \n",
      "\n",
      "Epoch 3\n",
      "-------------------------------\n",
      "loss: 0.487059  [   32/20843]\n",
      "loss: 0.507019  [ 3232/20843]\n",
      "loss: 0.591919  [ 6432/20843]\n",
      "loss: 0.464435  [ 9632/20843]\n",
      "loss: 0.477468  [12832/20843]\n",
      "loss: 0.494074  [16032/20843]\n",
      "loss: 0.574226  [19232/20843]\n",
      "Test Error: \n",
      " Accuracy: 70.2%, Avg loss: 0.017901 \n",
      "\n",
      "Epoch 4\n",
      "-------------------------------\n",
      "loss: 0.624282  [   32/20843]\n",
      "loss: 0.408304  [ 3232/20843]\n",
      "loss: 0.604461  [ 6432/20843]\n",
      "loss: 0.665493  [ 9632/20843]\n",
      "loss: 0.729584  [12832/20843]\n",
      "loss: 0.592579  [16032/20843]\n",
      "loss: 0.630830  [19232/20843]\n",
      "Test Error: \n",
      " Accuracy: 70.3%, Avg loss: 0.017738 \n",
      "\n",
      "Epoch 5\n",
      "-------------------------------\n",
      "loss: 0.555175  [   32/20843]\n",
      "loss: 0.613993  [ 3232/20843]\n",
      "loss: 0.520956  [ 6432/20843]\n",
      "loss: 0.616006  [ 9632/20843]\n",
      "loss: 0.528471  [12832/20843]\n",
      "loss: 0.427144  [16032/20843]\n",
      "loss: 0.499034  [19232/20843]\n",
      "Test Error: \n",
      " Accuracy: 70.6%, Avg loss: 0.017730 \n",
      "\n"
     ]
    }
   ],
   "source": [
    "# Define the number of epochs\n",
    "epochs = 5\n",
    "\n",
    "# Define the lists to store the losses and accuracies\n",
    "losses = []\n",
    "accuracies = []\n",
    "\n",
    "for epoch in range(epochs):\n",
    "    print(f\"Epoch {epoch + 1}\\n-------------------------------\")\n",
    "    train(model, device, train_loader, max_length)\n",
    "    test(model, device, test_loader, max_length, losses, accuracies)"
   ]
  },
  {
   "cell_type": "markdown",
   "metadata": {},
   "source": [
    "## Evaluation\n",
    "\n",
    "Excellent! You just finished training your model, now what? Is it ready to predict which sequence is an enhancer and which is not? As you may saw during the training process at the end of each epoch the accuracy and average loss values were displayed. These tell us how **reliable** our model is. You can plot these values and watch the model's evolution through the epochs because each time the `test` function was working it saved them.\n",
    "\n",
    "### Accuracy and Loss"
   ]
  },
  {
   "cell_type": "code",
   "execution_count": 23,
   "metadata": {},
   "outputs": [
    {
     "data": {
      "image/png": "[encoded data removed]",
      "text/plain": [
       "<Figure size 1800x600 with 2 Axes>"
      ]
     },
     "metadata": {},
     "output_type": "display_data"
    }
   ],
   "source": [
    "# Plot the loss and accuracy values agianst the number of epochs\n",
    "n_epochs = np.arange(1, epochs + 1) # Create an array with the number of epochs\n",
    "plt.figure(figsize=(18, 6))\n",
    "plt.subplot(1, 2, 1)\n",
    "plt.plot(n_epochs, losses)\n",
    "plt.xticks(n_epochs)\n",
    "plt.title(\"Loss vs. Number of epochs\")\n",
    "plt.xlabel(\"Number of epochs\")\n",
    "plt.ylabel(\"Loss\")\n",
    "plt.subplot(1, 2, 2)\n",
    "plt.plot(n_epochs, accuracies)\n",
    "plt.xticks(n_epochs)\n",
    "plt.title(\"Accuracy vs. Number of epochs\")\n",
    "plt.xlabel(\"Number of epochs\")\n",
    "plt.ylabel(\"Accuracy\")\n",
    "plt.show()"
   ]
  },
  {
   "cell_type": "markdown",
   "metadata": {},
   "source": [
    "As you may see in the plots, the **loss value** decreases as the number of epochs increases. The loss value is a metric that tells you how far from the actual values the model's predictions are. This value and they way it is calculated are directly related to the **loss function**, in this example you used the *Cross Entropy* loss function. \n",
    "\n",
    "On the other hand, the **accuracy** represents the quantity of correct predictions out of the total number of samples (in the test dataset). With this model, in the specific iteration when preparing this workshop, the maxmimum obtained value was 70.6%. This means that if you use this model for any medical or diagnostic application you would detect an enhancer correctly 70% percent of the time. Do you think this accuracy is enough?"
   ]
  },
  {
   "cell_type": "markdown",
   "metadata": {},
   "source": [
    "### Confusion matrix\n",
    "\n",
    "Another way of assessing how well your model works is with a **confusion matrix**. This is a metric that quantifies and shows the number of correct predictions against the incorrect ones. It compares the number of predicted values against the true ones, allowing to check how often the model misses to clasify correctly a sample.\n",
    "\n",
    "To calculate it you just need to generate predictions with your model and compare them against the labels contained in the dataset. In the next code cell it's showed how to do this."
   ]
  },
  {
   "cell_type": "code",
   "execution_count": 24,
   "metadata": {},
   "outputs": [],
   "source": [
    "# Do infenrece on the test set\n",
    "model.to(device) # Move the model to the device\n",
    "model.eval() # Set the model to evaluation mode\n",
    "size = len(test_loader.dataset) # Get the size of the test set\n",
    "test_loss, correct = 0, 0 \n",
    "y_pred = [] # Create a list to store the predictions\n",
    "with torch.no_grad(): # Disable gradient calculation\n",
    "    for x, y in test_loader:\n",
    "        x = tokenizer(x, return_tensors='pt', padding=True, truncation=True, max_length=max_length)[\"input_ids\"] # Tokenize the input sequences\n",
    "        x, y = x.to(device), y.to(device) # Move the data to the device\n",
    "        outputs = model(x, labels=y) # Get the outputs of the model\n",
    "        test_loss += outputs.loss.item() # Get the loss value\n",
    "        correct += (outputs.logits.argmax(1) == y).type(torch.float).sum().item() # Get the number of correct predictions\n",
    "        y_pred.extend(outputs.logits.argmax(1).cpu().numpy()) # Save the predictions in the y_pred list"
   ]
  },
  {
   "cell_type": "code",
   "execution_count": 46,
   "metadata": {},
   "outputs": [
    {
     "data": {
      "image/png": "[encoded data removed]",
      "text/plain": [
       "<Figure size 800x600 with 2 Axes>"
      ]
     },
     "metadata": {},
     "output_type": "display_data"
    }
   ],
   "source": [
    "# Calculate confusion matrix \n",
    "y_true = test_dataset.all_labels # Get the true labels\n",
    "confusion_matrix(y_true, y_pred) # Calculate the confusion matrix\n",
    "\n",
    "# Display the confusion matrix\n",
    "\n",
    "plt.figure(figsize=(8, 6)) \n",
    "sns.heatmap(confusion_matrix(y_true, y_pred), annot=True, fmt='d', cmap=sns.light_palette(\"seagreen\", as_cmap=True)) # Create a heatmap of the confusion matrix\n",
    "plt.xlabel('Predicted labels')\n",
    "plt.ylabel('True labels')\n",
    "plt.title('Confusion Matrix')\n",
    "plt.show()"
   ]
  },
  {
   "cell_type": "markdown",
   "metadata": {},
   "source": [
    "The confusion matrix might initially suggest that the classifier performed well, but this isn’t entirely accurate. Remember that the model’s maximum accuracy was only 70.6%. In a medical setting, this means that out of every 10 patients, 7 would be correctly diagnosed, while 3 would not. As the number of patients increases, the number of incorrect diagnoses will also rise. That's why it is important to use more than one evaluation metric to assess your model's performance!"
   ]
  },
  {
   "cell_type": "markdown",
   "metadata": {},
   "source": [
    "### Receiver-Operator Characteristic (ROC) curve\n",
    "The **ROC curve** plots the true positive rate (TPR) against the false positive rate (FPR). While it’s typically used for binary classification tasks, it can also be adapted for multi-class classification with some adjustments. An ideal ROC curve would rise sharply from the origin to the top-left corner and then extend horizontally to the top-right corner. The greater the area under the curve (AUC), the better the classifier’s performance, with a full AUC representing a perfect classifier.\n",
    "\n",
    "In the next code cell, it is shown how to generate a ROC curve using the same `y_true` and `y_pred` variables as in the confusion matrix."
   ]
  },
  {
   "cell_type": "code",
   "execution_count": 48,
   "metadata": {},
   "outputs": [
    {
     "data": {
      "image/png": "[encoded data removed]",
      "text/plain": [
       "<Figure size 800x600 with 1 Axes>"
      ]
     },
     "metadata": {},
     "output_type": "display_data"
    }
   ],
   "source": [
    "# Plot a ROC curve \n",
    "roc_auc = roc_auc_score(y_true, y_pred) # Calculate the ROC AUC score\n",
    "fpr, tpr, _ = roc_curve(y_true, y_pred) # Calculate the false positive rate and true positive rate\n",
    "plt.figure(figsize=(8, 6))\n",
    "plt.plot(fpr, tpr, color='darkorange', lw=2, label=f'ROC curve (area = {roc_auc:.2f})') # Plot the ROC curve\n",
    "plt.plot([0, 1], [0, 1], color='navy', lw=2, linestyle='--') \n",
    "plt.xlabel('False Positive Rate')\n",
    "plt.ylabel('True Positive Rate')\n",
    "plt.title('ROC Curve')\n",
    "plt.legend(loc=\"lower right\")\n",
    "plt.show()"
   ]
  },
  {
   "cell_type": "markdown",
   "metadata": {},
   "source": [
    "With the help of the ROC curve it is more clear that the classifier is not ideal for inference in a medical or biological contexts as it would misclassify new and unseen samples."
   ]
  },
  {
   "cell_type": "markdown",
   "metadata": {},
   "source": [
    "### Summary on evaluation metrics\n",
    "* $TP$: True Positives\n",
    "* $TN$: True Negative\n",
    "* $FP$: False Positive\n",
    "* $FN$: False Negative\n",
    "\n",
    "#### Accuracy\n",
    "It's the quantity of correct predictions out of the total number of samples within a dataset. Its value is commonly represented from 0% to 100%.\n",
    "\n",
    "$$Accuracy = \\frac{TP + TN}{TP + FN + TN + FP}$$\n",
    "\n",
    "#### Sensitivity \n",
    "It is the true positive rate of the model's test. In other words, means how many of the enhancer sequences were actually categorized as enhancers.\n",
    "Recall the confusion matrix where 2,465 out of 3,474 sequences were correctly classified (results when preparing the workshop). Its value goes from 0 to 100% as well.\n",
    "\n",
    "$$Sensitivity = \\frac{TP}{TP+FN}$$\n",
    "\n",
    "#### Specificity\n",
    "This is the true negative rate when testing a predictive model. In this case it represents the proportion of the sequences that **are not** enhancers are were correctly differentiated from the enhancer sequences. Again, if you see the confusion matrix you can see in the first row that 2,438 sequences out of 3474 were correctly classified as **not enhacers**.\n",
    "\n",
    "$$Specificity = \\frac{TN}{TN+FP}$$\n",
    "\n",
    "#### Precision\n",
    "This one represents the truly positive sequences from all the samples that were classified as *positive* by the model. In this case only the second column in the confusion matrix is considered. Its values goes from 0 to 100% too. \n",
    "\n",
    "$$Precision = \\frac{TP}{TP+FP}$$\n",
    "\n",
    "#### Confusion matrix\n",
    "\n",
    "<fig>\n",
    "<img    src=\"images/ENG_Confusion_matrix.png\"\n",
    "        width=700\n",
    "        height=600>\n",
    "<figcaption>Fig. 3: The confusion matrix explained.\n",
    "</figure>"
   ]
  },
  {
   "cell_type": "markdown",
   "metadata": {},
   "source": [
    "# Train a model with your data!\n",
    "\n",
    "You have successfully trained a deep learning model using a dataset that contains genomic sequences that either are or are not **enhancers**. But what if you have data that are different? Can you still train the same model? How would you pre-process your data to make it compatible with these neural networks?\n",
    "\n",
    "To finish this workshop, you will download a new dataset in `csv` format containing coding and non-coding sequences (extracted from [7]), transform it into representable tensors, train the model again, and evaluate its performance."
   ]
  },
  {
   "cell_type": "markdown",
   "metadata": {},
   "source": [
    "## Prepare the data\n",
    "The data you're about to download is a `csv` file with genomic sequences representing coding **or** non-coding sequences. This data is located in a drive folder, you can download and give a check to the data with the following code cell."
   ]
  },
  {
   "cell_type": "code",
   "execution_count": 56,
   "metadata": {},
   "outputs": [
    {
     "name": "stderr",
     "output_type": "stream",
     "text": [
      "Downloading...\n",
      "From (original): https://drive.google.com/uc?id=1AzsSCpzxleJ6_FNXIRczgNtQkq51k2ZP\n",
      "From (redirected): https://drive.google.com/uc?id=1AzsSCpzxleJ6_FNXIRczgNtQkq51k2ZP&confirm=t&uuid=28326c9d-f7d4-4841-8166-4235be37d35c\n",
      "To: /Users/msr/Documents/workshops/deep_sequence_classification/data.csv\n",
      "100%|██████████| 477M/477M [02:21<00:00, 3.37MB/s] \n"
     ]
    },
    {
     "name": "stdout",
     "output_type": "stream",
     "text": [
      "                                           sequences  value\n",
      "0  GTACTTATTTCAACAGCACATATTTTAAATTGGATCAATACAGAGC...      0\n",
      "1  ATCACTTCTCGGCCTTTTGGCTAAGATCAACTGTAGTATCTGTTGT...      0\n",
      "2  GTGCCTGCTTTGGCGGCACATATCCTAAAATTGGAACAATACAGAG...      0\n",
      "3  ATCACTTCTCGGCCTTTTGGCTAAGATCAACTGTAGTATCTGTTGT...      0\n",
      "4  ATACTTACCTGGCAGGGCAGATACCATGATCTTAAAGGCAGTTTTC...      0\n"
     ]
    }
   ],
   "source": [
    "# Step 1: Get the URL of the CSV file\n",
    "file_id = \"1itLZCkFbeqlscbrrZdhX-9qA5j2Hc_W_\"\n",
    "url = f\"https://drive.google.com/uc?id={file_id}\"  # Replace with the actual URL of the CSV file\n",
    "\n",
    "# Step 2: Download the file using gdown\n",
    "output = 'data.csv'  # The name of the downloaded file\n",
    "gdown.download(url, output, quiet=False)\n",
    "\n",
    "# Step 3: Load the CSV file into a DataFrame\n",
    "df = pd.read_csv(output)\n",
    "\n",
    "# Display the first few rows of the DataFrame\n",
    "df.head()"
   ]
  },
  {
   "cell_type": "markdown",
   "metadata": {},
   "source": [
    "As you can see you have the raw sequences and their corresponding labels contained in the csv file. To make this data set compatible with PyTorch and HuggingFace models you need to turn it into a `Dataset` object. As you already have many variables containing the information about the model, the tokenizer, the loss function and many others, training again the model will be pretty straightforward.\n",
    "\n",
    "To create a `Dataset` object run the next code cell:"
   ]
  },
  {
   "cell_type": "code",
   "execution_count": 57,
   "metadata": {},
   "outputs": [],
   "source": [
    "# Class for ncRNA and cDNA Dataset object\n",
    "from sklearn.model_selection import train_test_split\n",
    "\n",
    "class coding_and_noncoding_dataset(Dataset):\n",
    "    '''\n",
    "    Class for the coding and noncoding dataset from Ensembl.\n",
    "    The dataset is a CSV file with two columns: \"sequences\" and \"value\". Being 0 for noncoding and 1 for coding.\n",
    "    You can split the dataset into train and test sets by setting split=True and defining the test_size.\n",
    "    For reproducibility, you can set the random_seed (defaulted to 42).\n",
    "    '''\n",
    "    def __init__(\n",
    "        self,\n",
    "        data_path,\n",
    "        max_length,\n",
    "        tokenizer = None,\n",
    "        split='train',\n",
    "        test_size=0.2,\n",
    "        random_seed=42,\n",
    "        use_padding=None,\n",
    "        add_eos=False,\n",
    "    ):\n",
    "        \n",
    "        self.data = pd.read_csv(data_path)\n",
    "        self.max_length = max_length\n",
    "        self.tokenizer = tokenizer\n",
    "        self.split = split\n",
    "        self.test_size = test_size\n",
    "        self.random_seed = random_seed\n",
    "        self.use_padding = use_padding\n",
    "        self.add_eos = add_eos\n",
    "\n",
    "        if self.split == 'train':\n",
    "            self.seq, _, self.label, _ = train_test_split(self.data['sequences'], self.data['value'],\n",
    "                                                          test_size=self.test_size, random_state=self.random_seed)\n",
    "        elif self.split == 'test':\n",
    "            _, self.seq, _, self.label = train_test_split(self.data['sequences'], self.data['value'],\n",
    "                                                          test_size=self.test_size, random_state=self.random_seed)\n",
    "\n",
    "    def __len__(self):\n",
    "        return len(self.seq)\n",
    "\n",
    "    def __getitem__(self, idx):\n",
    "        x = self.seq.iloc[idx]\n",
    "        y = self.label.iloc[idx]\n",
    "\n",
    "        seq = self.tokenizer(x,\n",
    "            add_special_tokens=False,\n",
    "            padding=\"max_length\" if self.use_padding else None,\n",
    "            max_length=self.max_length,\n",
    "            truncation=True,\n",
    "        )  # add cls and eos token (+2)\n",
    "        seq = seq[\"input_ids\"]  # get input_ids\n",
    "\n",
    "        # need to handle eos here\n",
    "        if self.add_eos:\n",
    "            # append list seems to be faster than append tensor\n",
    "            seq.append(self.tokenizer.sep_token_id)\n",
    "\n",
    "        # Convert into Long Tensors (y has to be wrapped in a list)\n",
    "        seq = torch.LongTensor(seq)\n",
    "        target = torch.LongTensor([y])\n",
    "        \n",
    "        return seq, target"
   ]
  },
  {
   "cell_type": "markdown",
   "metadata": {},
   "source": [
    "Now let's instantiate the train and test sets:"
   ]
  },
  {
   "cell_type": "code",
   "execution_count": 80,
   "metadata": {},
   "outputs": [],
   "source": [
    "train_set = coding_and_noncoding_dataset(data_path=\"data.csv\",\n",
    "                                         split='train',\n",
    "                                         tokenizer=tokenizer,\n",
    "                                         use_padding=True,\n",
    "                                         max_length=max_length)\n",
    "\n",
    "test_set = coding_and_noncoding_dataset(data_path=\"data.csv\",\n",
    "                                        split='test',\n",
    "                                        tokenizer=tokenizer,\n",
    "                                        use_padding=True,\n",
    "                                        max_length=max_length)"
   ]
  },
  {
   "cell_type": "markdown",
   "metadata": {},
   "source": [
    "## Train the model\n",
    "All you have to do is repeat the process you did some minutes ago! As it is already specified in the `coding_and_noncoding_dataset`, the sequences are already tokenized, all you have to do is a little adjustment in the train and test loops and you're good to go!"
   ]
  },
  {
   "cell_type": "code",
   "execution_count": 66,
   "metadata": {},
   "outputs": [],
   "source": [
    "# Define the training loop\n",
    "def train(model, device, train_loader, max_length):\n",
    "    model.to(device)\n",
    "    model.train()\n",
    "    size = len(train_loader.dataset)\n",
    "    for batch, (x, y) in enumerate(train_loader):\n",
    "        x, y = x.to(device), y.to(device) # Move the data to the device\n",
    "        # Forward pass\n",
    "        outputs = model(x, labels=y) # Get the outputs of the model\n",
    "        # Backward pass\n",
    "        loss = outputs.loss\n",
    "        loss.backward()\n",
    "        optimizer.step()\n",
    "        # Zero the gradients\n",
    "        optimizer.zero_grad()\n",
    "        if batch % 100 == 0:\n",
    "            loss, current = loss.item(), (batch + 1) * len(x)\n",
    "            print(f\"loss: {loss:>7f}  [{current:>5d}/{size:>5d}]\")\n",
    "\n",
    "\n",
    "# Define the test loop\n",
    "def test(model, device, test_loader, max_length, losses, accuracies):\n",
    "    model.to(device) # Move the model to the device\n",
    "    model.eval() # Set the model to evaluation mode\n",
    "    size = len(test_loader.dataset)\n",
    "    test_loss, correct = 0, 0\n",
    "    with torch.no_grad(): # Disable gradient calculation\n",
    "        for x, y in test_loader:\n",
    "            x, y = x.to(device), y.to(device) # Move the data to the device\n",
    "            outputs = model(x, labels=y) # Get the outputs of the model\n",
    "            test_loss += outputs.loss.item() # Get the loss value\n",
    "            correct += (outputs.logits.argmax(1) == y).type(torch.float).sum().item() # Get the number of correct predictions\n",
    "    test_loss /= size\n",
    "    losses.append(test_loss) # Save the loss value in the current epoch\n",
    "    correct /= size\n",
    "    accuracies.append(correct) # Save the accuracy value in the current epoch\n",
    "    print(f\"Test Error: \\n Accuracy: {(100*correct):>0.1f}%, Avg loss: {test_loss:>8f} \\n\")"
   ]
  },
  {
   "cell_type": "code",
   "execution_count": 81,
   "metadata": {},
   "outputs": [],
   "source": [
    "# Redefine the data loaders \n",
    "train_loader = DataLoader(train_set, batch_size=32, shuffle=True)\n",
    "test_loader = DataLoader(test_set, batch_size=32, shuffle=False)"
   ]
  },
  {
   "cell_type": "code",
   "execution_count": 82,
   "metadata": {},
   "outputs": [
    {
     "name": "stdout",
     "output_type": "stream",
     "text": [
      "Epoch 1\n",
      "-------------------------------\n",
      "loss: 0.876782  [   32/24000]\n",
      "loss: 0.636981  [ 3232/24000]\n",
      "loss: 0.494365  [ 6432/24000]\n",
      "loss: 0.684757  [ 9632/24000]\n",
      "loss: 0.661679  [12832/24000]\n",
      "loss: 0.524564  [16032/24000]\n",
      "loss: 0.561022  [19232/24000]\n",
      "loss: 0.639533  [22432/24000]\n",
      "Test Error: \n",
      " Accuracy: 1620.4%, Avg loss: 0.017357 \n",
      "\n",
      "Epoch 2\n",
      "-------------------------------\n",
      "loss: 0.417926  [   32/24000]\n",
      "loss: 0.551330  [ 3232/24000]\n",
      "loss: 0.631925  [ 6432/24000]\n",
      "loss: 0.512798  [ 9632/24000]\n",
      "loss: 0.541104  [12832/24000]\n",
      "loss: 0.517274  [16032/24000]\n",
      "loss: 0.583631  [19232/24000]\n",
      "loss: 0.541040  [22432/24000]\n",
      "Test Error: \n",
      " Accuracy: 1622.9%, Avg loss: 0.016723 \n",
      "\n",
      "Epoch 3\n",
      "-------------------------------\n",
      "loss: 0.475853  [   32/24000]\n",
      "loss: 0.537079  [ 3232/24000]\n",
      "loss: 0.412526  [ 6432/24000]\n",
      "loss: 0.543385  [ 9632/24000]\n",
      "loss: 0.545025  [12832/24000]\n",
      "loss: 0.546756  [16032/24000]\n",
      "loss: 0.480246  [19232/24000]\n",
      "loss: 0.359384  [22432/24000]\n",
      "Test Error: \n",
      " Accuracy: 1620.2%, Avg loss: 0.016138 \n",
      "\n"
     ]
    }
   ],
   "source": [
    "# Define the number of epochs\n",
    "epochs = 3\n",
    "\n",
    "# Define the lists to store the losses and accuracies\n",
    "losses = []\n",
    "accuracies = []\n",
    "\n",
    "for epoch in range(epochs):\n",
    "    print(f\"Epoch {epoch + 1}\\n-------------------------------\")\n",
    "    train(model, device, train_loader, max_length)\n",
    "    test(model, device, test_loader, max_length, losses, accuracies)"
   ]
  },
  {
   "cell_type": "markdown",
   "metadata": {},
   "source": [
    "To evaluate the performance of the model, you can repeat the steps that were introduced in the *Evaluation* section."
   ]
  },
  {
   "cell_type": "markdown",
   "metadata": {},
   "source": [
    "# References\n",
    "\n",
    "1. Dive into Deep Learning\n",
    "2. [Genomic Benchmarks paper and repository](https://doi.org/10.1186/s12863-023-01123-8)\n",
    "3. HuggingFace\n",
    "4. HyenaDNA\n",
    "5. [Scikit learn \"Multiclass Receiver Operating Characteristic (ROC)\"](https://scikit-learn.org/stable/auto_examples/model_selection/plot_roc.html#sphx-glr-auto-examples-model-selection-plot-roc-py)\n",
    "6. Erickson, B. J., & Kitamura, F. (2021). Magician’s corner: 9. Performance metrics for machine learning models. Radiology: Artificial Intelligence, 3(3), e200126. https://doi.org/10.1148/ryai.2021200126\n",
    "7. Harrison, P. W., Amode, M. R., Austine-Orimoloye, O., Azov, A. G., Barba, M., Barnes, I., Becker, A., Bennett, R., Berry, A., Bhai, J., Bhurji, S. K., Boddu, S., Branco Lins, P. R., Brooks, L., Ramaraju, S. B., Campbell, L. I., Martinez, M. C., Charkhchi, M., Chougule, K., … Yates, A. D. (2024). Ensembl 2024. Nucleic Acids Research, 52(D1), D891–D899. https://doi.org/10.1093/nar/gkad1049\n"
   ]
  }
 ],
 "metadata": {
  "kernelspec": {
   "display_name": "gsc_pt",
   "language": "python",
   "name": "python3"
  },
  "language_info": {
   "codemirror_mode": {
    "name": "ipython",
    "version": 3
   },
   "file_extension": ".py",
   "mimetype": "text/x-python",
   "name": "python",
   "nbconvert_exporter": "python",
   "pygments_lexer": "ipython3",
   "version": "3.12.4"
  }
 },
 "nbformat": 4,
 "nbformat_minor": 2
}
