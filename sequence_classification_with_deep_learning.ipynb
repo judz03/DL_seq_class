{
 "cells": [
  {
   "cell_type": "markdown",
   "metadata": {},
   "source": [
    "# Genomic sequence classification with deep learning\n",
    "\n",
    "## Outline:\n",
    "1. Objectives\n",
    "2. What is *deep learning*?\n",
    "3. Why the sequence classification problem is important?\n",
    "4. Practice\n",
    "    * Dataset\n",
    "    * Models\n",
    "    * Training\n",
    "    * Evaluation\n",
    "5. Conclusions"
   ]
  },
  {
   "cell_type": "markdown",
   "metadata": {},
   "source": [
    "# Objectives\n",
    "\n",
    "1. Learn the basic theory and practice of deep learning\n",
    "2. Understand the basic deep learning workflow\n",
    "3. Deploy a model for genomic sequence classification\n",
    "    * With helpers\n",
    "    * Manually"
   ]
  },
  {
   "cell_type": "markdown",
   "metadata": {},
   "source": [
    "# What is *Deep Learning*?\n",
    "Deep Learning is a subset of machine learning techniques that uses **artificial neural network**-based models (ANN). What makes it **deep** is the presence of many transformation *layers* within the models. Figure 1 shows a Venn diagram of the organization between artificial intelligence, machine and deep learning. \n",
    "Deep learning models are able to learn from raw data. This is one of the main differences against traditional learning pipelines. With these kind of models you can assemble a learning system that tunes itself automatically rather than fixing and updating each individial component one by one. It replaces some of the labor-intensive processes needed for other methods, like field-specific data preprocessing and/or manual feature extraction. Deep learning models can learn and process these features in an automated fashion, generate accurate predictions, and be fine-tuned for specific applications when an available model exist.\n",
    "\n",
    "One of the most common and persistent disadvantages of applying deep learning methods in your work is the large amount of data needed to train the model. To capture the features and generalize the phenomena in your studies, a substantial amount of data (sometimes labeled) must be available so the model can fit them and produce accurate predictions. However, with the ever-increasing availability of graphical processing units (GPUs), the massive amounts of data generated in clinical and biological scenarios, and the possibility of fine-tuning existing models, implementing a deep learning architecture for your specific applications is becoming increasingly simple.\n",
    "\n",
    "<fig>\n",
    "<img    src=\"images/ENG_IA_ML_DL.png\"\n",
    "        width=600\n",
    "        height=600>\n",
    "<figcaption>Fig. 1: Venn diagram displaying the organization between AI, machine, and deep learning.\n",
    "</figure>"
   ]
  },
  {
   "cell_type": "markdown",
   "metadata": {},
   "source": [
    "# Deep Learning implementation workflow"
   ]
  },
  {
   "cell_type": "code",
   "execution_count": 1,
   "metadata": {},
   "outputs": [],
   "source": [
    "# This cell of code is used to import the necessary libraries for the notebook\n",
    "import torch\n",
    "import torch.nn as nn\n",
    "from torch.utils.data import DataLoader, Dataset\n",
    "from torchtext.data.utils import get_tokenizer\n",
    "import torch.optim as optim\n",
    "\n",
    "import matplotlib.pyplot as plt\n",
    "import numpy as np\n",
    "from sklearn.metrics import confusion_matrix\n",
    "\n",
    "from transformers import AutoModelForSequenceClassification, AutoTokenizer, Trainer, TrainingArguments\n",
    "from tqdm.auto import tqdm\n",
    "\n",
    "from genomic_benchmarks.data_check import list_datasets, info, is_downloaded\n",
    "from genomic_benchmarks.loc2seq import download_dataset\n",
    "from genomic_benchmarks.dataset_getters.pytorch_datasets import HumanEnhancersCohn"
   ]
  },
  {
   "cell_type": "markdown",
   "metadata": {},
   "source": [
    "## Dataset"
   ]
  },
  {
   "cell_type": "markdown",
   "metadata": {},
   "source": [
    "We will be working with the **Genomic Benchmarks** datasets, a set of benchmarks for classification of genomic sequences to test models' capabilities. All the datasets are described in [[2]](https://doi.org/10.1186/s12863-023-01123-8). Grešová and their collaborators created this python module for easy access to well-labeled and balanced datasets as well as to enable reproducibility for genomic-related deep learning models.\n",
    "\n",
    "In the next code cell we list the available datasets in the **Genomic Benchmarks** module:"
   ]
  },
  {
   "cell_type": "code",
   "execution_count": 2,
   "metadata": {},
   "outputs": [
    {
     "data": {
      "text/plain": [
       "['human_ensembl_regulatory',\n",
       " 'human_enhancers_cohn',\n",
       " 'demo_coding_vs_intergenomic_seqs',\n",
       " 'demo_human_or_worm',\n",
       " 'human_enhancers_ensembl',\n",
       " 'human_ocr_ensembl',\n",
       " 'dummy_mouse_enhancers_ensembl',\n",
       " 'human_nontata_promoters',\n",
       " 'drosophila_enhancers_stark']"
      ]
     },
     "execution_count": 2,
     "metadata": {},
     "output_type": "execute_result"
    }
   ],
   "source": [
    "list_datasets()"
   ]
  },
  {
   "cell_type": "markdown",
   "metadata": {},
   "source": [
    "For illustrative pourpuses you will work on the `human_enhancers_cohn` dataset which contains multiple genomic sequences that **are** or **are not** enhancers. \n",
    "In machine learning verbose, you will work on a **binary classification** problem. We can display some information of this dataset as follows:"
   ]
  },
  {
   "cell_type": "code",
   "execution_count": 3,
   "metadata": {},
   "outputs": [
    {
     "name": "stdout",
     "output_type": "stream",
     "text": [
      "Dataset `human_enhancers_cohn` has 2 classes: negative, positive.\n",
      "\n",
      "All lengths of genomic intervals equals 500.\n",
      "\n",
      "Totally 27791 sequences have been found, 20843 for training and 6948 for testing.\n"
     ]
    },
    {
     "data": {
      "text/html": [
       "<div>\n",
       "<style scoped>\n",
       "    .dataframe tbody tr th:only-of-type {\n",
       "        vertical-align: middle;\n",
       "    }\n",
       "\n",
       "    .dataframe tbody tr th {\n",
       "        vertical-align: top;\n",
       "    }\n",
       "\n",
       "    .dataframe thead th {\n",
       "        text-align: right;\n",
       "    }\n",
       "</style>\n",
       "<table border=\"1\" class=\"dataframe\">\n",
       "  <thead>\n",
       "    <tr style=\"text-align: right;\">\n",
       "      <th></th>\n",
       "      <th>train</th>\n",
       "      <th>test</th>\n",
       "    </tr>\n",
       "  </thead>\n",
       "  <tbody>\n",
       "    <tr>\n",
       "      <th>negative</th>\n",
       "      <td>10422</td>\n",
       "      <td>3474</td>\n",
       "    </tr>\n",
       "    <tr>\n",
       "      <th>positive</th>\n",
       "      <td>10421</td>\n",
       "      <td>3474</td>\n",
       "    </tr>\n",
       "  </tbody>\n",
       "</table>\n",
       "</div>"
      ],
      "text/plain": [
       "          train  test\n",
       "negative  10422  3474\n",
       "positive  10421  3474"
      ]
     },
     "execution_count": 3,
     "metadata": {},
     "output_type": "execute_result"
    }
   ],
   "source": [
    "info(\"human_enhancers_cohn\", version=0)"
   ]
  },
  {
   "cell_type": "markdown",
   "metadata": {},
   "source": [
    "### What is an enhancer?\n",
    "\n",
    "An **enhancer** is a genomic regulatory element that influences gene transcription. It can be located quite far from the gene it regulates, sometimes up to 1 million base pairs away. Although enhancers don't produce any direct products, they play a crucial role in regulating gene expression. This is significant because many diseases are caused or associated with deficiencies in specific genes. \n",
    "\n",
    "You may have encountered a similar term, which is **promoter**. The difference between promoters and enhancers is their proximity to the gene they regulate. Promoters are close to the gene they affect. Their functionality are pretty the same, cause the affected gene to over-express and generate more products or proteins than it would normally do."
   ]
  },
  {
   "cell_type": "markdown",
   "metadata": {},
   "source": [
    "<fig>\n",
    "<img    src=\"images/dna_double_helix.jpg\"\n",
    "        width=600\n",
    "        height=600>\n",
    "<figcaption>Fig. 2: AI-generated representation of a DNA double-helix.\n",
    "</figure>"
   ]
  },
  {
   "cell_type": "markdown",
   "metadata": {},
   "source": [
    "The `genomic_benchmarks` module offers multiple data handlers and helpers to load, show and give you an idea of how each of its datasets are composed.\n",
    "In the next code cell we use the `HumanEnhancersCohn` function to download and assign the dataset into two variables, `train_dataset` and `test_dataset`, respectively."
   ]
  },
  {
   "cell_type": "code",
   "execution_count": 4,
   "metadata": {},
   "outputs": [],
   "source": [
    "# Load the dataset and split it into training and test sets\n",
    "train_dataset = HumanEnhancersCohn(split=\"train\", version=0)\n",
    "test_dataset = HumanEnhancersCohn(split=\"test\", version=0)"
   ]
  },
  {
   "cell_type": "markdown",
   "metadata": {},
   "source": [
    "Just to make sure we imported the correct dataset we can print the lengths of each set and check if the numbers match the ones shown above."
   ]
  },
  {
   "cell_type": "code",
   "execution_count": 5,
   "metadata": {},
   "outputs": [
    {
     "name": "stdout",
     "output_type": "stream",
     "text": [
      "Length of the training dataset: 20843. Length of the test dataset: 6948\n"
     ]
    }
   ],
   "source": [
    "# Print the lengths of each set check if they match the info we saw previously\n",
    "print(f\"Length of the training dataset: {len(train_dataset)}. Length of the test dataset: {len(test_dataset)}\") "
   ]
  },
  {
   "cell_type": "markdown",
   "metadata": {},
   "source": [
    "But how this data actually look like? You have only downloaded some data from a library for binary classification up to this point. How can you actually see some samples? Turns out to be very easy to do so! Let's see two examples, one for the `positive` and one for the `negative` dianogses, correspondingly."
   ]
  },
  {
   "cell_type": "code",
   "execution_count": 6,
   "metadata": {},
   "outputs": [
    {
     "name": "stdout",
     "output_type": "stream",
     "text": [
      "('AGCAGCAGGTCAACATTTTTGCACTCACAAAATAATTTGGAAAAACTATATACCTCTTTCACATTTTTTTTTTTTTGAGATGGAGTCTCACTCTGTCGCCCAGGCTGGAGTGCAGTGGTGCAATCTCGGCTCACTGCAAGCTCTGACTCCTGGATTCATGCCATTCGCCTGCCTCAGCCTCCCGAGTAGCTGGGACTATAGGCGCCCGCCACCATGCCTGGCTAATTTTTTGTATTTTTAGTAGAGACGGGGTTTCCCCGTGTTAGCCAGGACGGTCTCTAGCTCCTGACCTTGCGATCCACCTGCCTCGGCCTCCCAAAGTGCTGGGATTACAGGCATGAGCCACTGCACCAGGCCCTCTTTCACATTTTTAAGTTTTCTGTTATCTATTTCAAAAGGTGTAGTTAACATATTTTAAATATTAACAATTCAAAAATAAAACTATTATAGAATTTTTAAACAGTATCCAGATAAATTTTTATTATTAATTTCATACTCAA', 1)\n",
      "('CTGATGAAACCCGGCGAGGTGTGGTCTGCCCTGGAGGACAGCAGCCAGTGTGGGGGGCAGTCCCTTCTCTCTGTCCCAAGGGAGGATACAGCTCCACTGTGGTCACTGGCTCTATGTGAGGGGGTGCATGCATCAGAGACAACAGATGAGAGGGCCCTTCAGTTGGCTTTTCTGCCTCCAGTTCTTTCTGTTCATGAGAGGAAAAGCTACTGGTAGACAGAACAATGTTAAATGTAATAAAAATAAGCAAGTTCCCTGGGTTTATGCAGTGCCAAATGTCAAGATGGTTGTATACAGGAGAAGACGTCCAAGACACGTCTTTTCCGAGTGTCCCAGAGCTCAGAACTCTGTGAGCACTTTGAGCTTCCCCAGACCTCTTTCTTCCCTGGGTGTGAGCCCTGCACAGTGCTCCGAAAAGAGCTGGGGTCCGTAAATACGGATGGCAAACAGCTCACCTGGGTTTCTCACATGGATTTGTTTTCTTGGGGGTCTCTGTATGG', 0)\n"
     ]
    }
   ],
   "source": [
    "# Get a sample from train_dataset with a 1 on the second element of the tuple\n",
    "positive_sample = next(filter(lambda x: x[1] == 1, train_dataset)) # A 1 indicates that the sample is a positive sample\n",
    "negative_sample = next(filter(lambda x: x[1] == 0, train_dataset)) # A 0 indicates that the sample is a negative sample\n",
    "print(f\"{positive_sample}\\n{negative_sample}\")"
   ]
  },
  {
   "cell_type": "markdown",
   "metadata": {},
   "source": [
    "Can you tell, without looking at the corresponding labels, which of these sequences is positive for an enhancer and which is not?\n",
    "Well, you can determine this by some other studies like genome-wide chromatin immunoprecipitation or RNA sequencing. But if you saw these sequences alone, would you be able to tell whether it is an enhacer or not? A deep learning model can do it! At the cost of massive amounts of already-labeled data that were obtained with techniques like the previously mentioned ones (that is, what we just downloaded)."
   ]
  },
  {
   "cell_type": "markdown",
   "metadata": {},
   "source": [
    "You already have downloaded the dataset, but it isn't ready to be used with a neural network yet. PyTorch neural networks expect their inputs to be arranged in a special data structure known as **tensor**s. If you have experience with Numpy's `ndarray`s getting to know tensors will be pretty easy. These are *n*-dimensional number arrays optimized for gradient calculus and other operations that run in the background when training a neural network. More information about tensors and specifications on [Pytorch's website](https://pytorch.org).\n",
    "\n",
    "Now, how does a tensor look like? In the following code cells we initialize random tensors and display them just for illustrative purposes."
   ]
  },
  {
   "cell_type": "code",
   "execution_count": 7,
   "metadata": {},
   "outputs": [
    {
     "name": "stdout",
     "output_type": "stream",
     "text": [
      "tensor([1, 2, 3, 4, 5])\n"
     ]
    }
   ],
   "source": [
    "my_tensor = torch.tensor([1, 2, 3, 4, 5]) # As you can see, it takes a list an input\n",
    "print(my_tensor)"
   ]
  },
  {
   "cell_type": "markdown",
   "metadata": {},
   "source": [
    "Tensor's data type is an important consideration always. Many errors arise when tensor's data types aren't the same bewteen the inputs and the labels. Specifically, this error arises when calculating the **loss**, a value that measures the difference between the model predictions and the ground-truth (your labels)."
   ]
  },
  {
   "cell_type": "code",
   "execution_count": 8,
   "metadata": {},
   "outputs": [
    {
     "data": {
      "text/plain": [
       "torch.int64"
      ]
     },
     "execution_count": 8,
     "metadata": {},
     "output_type": "execute_result"
    }
   ],
   "source": [
    "my_tensor.dtype # Using the dtype attribute, we can see the data type of the tensor"
   ]
  },
  {
   "cell_type": "markdown",
   "metadata": {},
   "source": [
    "You can manipulate tensors by adding or removing elements, changing their data types, do any mathematical or arithmetical operation with them, etc."
   ]
  },
  {
   "cell_type": "code",
   "execution_count": 9,
   "metadata": {},
   "outputs": [
    {
     "name": "stdout",
     "output_type": "stream",
     "text": [
      "torch.float64\n"
     ]
    }
   ],
   "source": [
    "my_tensor = my_tensor.to(torch.float64) # We can change the data type of the tensor using the .float() method\n",
    "print(my_tensor.dtype)"
   ]
  },
  {
   "cell_type": "code",
   "execution_count": 10,
   "metadata": {},
   "outputs": [
    {
     "name": "stdout",
     "output_type": "stream",
     "text": [
      "tensor([ 1.,  4.,  9., 16., 25.], dtype=torch.float64)\n"
     ]
    }
   ],
   "source": [
    "tensor_mul = my_tensor * my_tensor # We can perform element-wise multiplication on tensors\n",
    "print(tensor_mul)"
   ]
  },
  {
   "cell_type": "markdown",
   "metadata": {},
   "source": [
    "## Tokenizaton\n",
    "Now that you know you need these sequences in a specific format, the next question is: how do you transform these sequences into representable tensors? The answer lies in the **Natural Language Processing** (NLP) field. NLP is a sub-field in computer science and AI that uses different kinds of algorithms to enable computers to understand human spoken language. Its applications range from text encoding and generation to voice recognition and speaking systems. Some examples in daily life are chatbots and digital assistants (Alexa, Bixby, Siri, Google Assistant).\n",
    "\n",
    "In this case you are working on sequence classification, this means each of these sequences have an inherent \"grammar\" or structure that define them as an enhancer or not. As in NLP they analyze sentence grammatics and decompose them by encoding each word, you're going to do the same. The process of encoding words and turning them into meaningful numerical representations is called **tokenization**.\n",
    "\n",
    "Nowadays it is really easy to implement and use a tokenizer to convert your raw genomic sequences into representable numbers. Thanks to HuggingFace's `transformers` and `tokenizers` libraries, you can download and use pretrained neural networks and their corresponding tokenizers."
   ]
  },
  {
   "cell_type": "code",
   "execution_count": 30,
   "metadata": {},
   "outputs": [],
   "source": [
    "# instantiate tokenizer\n",
    "checkpoint = 'LongSafari/hyenadna-tiny-1k-seqlen-hf' # This is the model's name we are going to use\n",
    "max_length = 1024 # This variable will represent the maximum length of the input sequences\n",
    "\n",
    "# Load the model and tokenizer\n",
    "tokenizer = AutoTokenizer.from_pretrained(checkpoint, trust_remote_code=True)"
   ]
  },
  {
   "cell_type": "markdown",
   "metadata": {},
   "source": [
    "Let's apply this tokenizer to the first sequence to look how the data comes out of it."
   ]
  },
  {
   "cell_type": "code",
   "execution_count": 31,
   "metadata": {},
   "outputs": [
    {
     "name": "stdout",
     "output_type": "stream",
     "text": [
      "{'input_ids': [8, 10, 9, 7, 10, 9, 7, 7, 7, 8, 8, 8, 9, 9, 8, 9, 7, 9, 9, 10, 9, 10, 9, 9, 10, 8, 10, 9, 8, 8, 8, 10, 9, 9, 7, 9, 9, 7, 8, 7, 9, 8, 7, 9, 8, 8, 7, 9, 10, 9, 10, 9, 9, 9, 9, 9, 9, 8, 7, 9, 10, 8, 8, 8, 10, 10, 8, 10, 8, 10, 8, 10, 9, 10, 8, 8, 8, 7, 7, 9, 9, 9, 7, 9, 9, 7, 10, 7, 8, 7, 9, 8, 10, 8, 8, 7, 8, 10, 9, 10, 9, 9, 10, 8, 7, 8, 10, 9, 9, 8, 10, 8, 10, 7, 10, 9, 10, 9, 7, 9, 9, 9, 9, 9, 10, 9, 8, 7, 10, 9, 8, 7, 10, 8, 7, 9, 7, 9, 7, 8, 7, 7, 8, 7, 9, 7, 10, 9, 7, 9, 7, 9, 9, 9, 8, 8, 8, 10, 10, 8, 7, 9, 10, 10, 9, 9, 8, 10, 10, 10, 10, 8, 10, 9, 8, 8, 10, 8, 8, 7, 9, 10, 10, 8, 10, 10, 10, 8, 10, 9, 10, 10, 8, 7, 10, 9, 7, 9, 7, 9, 9, 7, 7, 7, 7, 9, 8, 10, 7, 8, 10, 9, 9, 10, 7, 9, 7, 8, 7, 9, 7, 7, 8, 7, 7, 10, 9, 10, 10, 7, 7, 7, 10, 9, 10, 7, 7, 10, 7, 7, 7, 7, 7, 10, 7, 7, 9, 8, 7, 7, 9, 10, 10, 8, 8, 8, 10, 9, 9, 9, 10, 10, 10, 7, 10, 9, 8, 7, 9, 10, 9, 8, 8, 7, 7, 7, 10, 9, 10, 8, 7, 7, 9, 7, 10, 9, 9, 10, 10, 9, 10, 7, 10, 7, 8, 7, 9, 9, 7, 9, 7, 7, 9, 7, 8, 9, 10, 8, 8, 7, 7, 9, 7, 8, 7, 8, 9, 10, 8, 10, 10, 10, 10, 8, 8, 9, 7, 9, 10, 9, 10, 8, 8, 8, 7, 9, 7, 9, 8, 10, 8, 7, 9, 7, 7, 8, 10, 8, 10, 9, 10, 9, 7, 9, 8, 7, 8, 10, 10, 10, 9, 7, 9, 8, 10, 10, 8, 8, 8, 8, 7, 9, 7, 8, 8, 10, 8, 10, 10, 10, 8, 10, 10, 8, 8, 8, 10, 9, 9, 9, 10, 9, 10, 9, 7, 9, 8, 8, 8, 10, 9, 8, 7, 8, 7, 9, 10, 9, 8, 10, 8, 8, 9, 7, 7, 7, 7, 9, 7, 9, 8, 10, 9, 9, 9, 9, 10, 8, 8, 9, 10, 7, 7, 7, 10, 7, 8, 9, 9, 7, 10, 9, 9, 8, 7, 7, 7, 8, 7, 9, 8, 10, 8, 7, 8, 8, 10, 9, 9, 9, 10, 10, 10, 8, 10, 8, 7, 8, 7, 10, 9, 9, 7, 10, 10, 10, 9, 10, 10, 10, 10, 8, 10, 10, 9, 9, 9, 9, 9, 10, 8, 10, 8, 10, 9, 10, 7, 10, 9, 9, 1]}\n"
     ]
    }
   ],
   "source": [
    "enconded_sequence = tokenizer(train_dataset[0][0])\n",
    "print(enconded_sequence)"
   ]
  },
  {
   "cell_type": "markdown",
   "metadata": {},
   "source": [
    "As you can see, now your sequences is represented as a bunch of numbers. Each of them represents each of the nucleotides that conform the sequences we used as input and the tokenizer adds some special tokens to differentiate from sequence to sequence when passed into the training phase. Let's see how the network will read your sequences in meaningful way for you."
   ]
  },
  {
   "cell_type": "code",
   "execution_count": 26,
   "metadata": {},
   "outputs": [
    {
     "name": "stdout",
     "output_type": "stream",
     "text": [
      "[CLS] [UNK] [SEP]\n"
     ]
    }
   ],
   "source": [
    "decoded = tokenizer.decode(enconded_sequence['input_ids'])\n",
    "print(decoded)"
   ]
  },
  {
   "cell_type": "markdown",
   "metadata": {},
   "source": [
    "If you want to obtain the PyTorch tensors directly just add the `return_tensors=\"pt\"` parameter."
   ]
  },
  {
   "cell_type": "code",
   "execution_count": 15,
   "metadata": {},
   "outputs": [
    {
     "name": "stdout",
     "output_type": "stream",
     "text": [
      "{'input_ids': tensor([[ 8, 10,  9,  7, 10,  9,  7,  7,  7,  8,  8,  8,  9,  9,  8,  9,  7,  9,\n",
      "          9, 10,  9, 10,  9,  9, 10,  8, 10,  9,  8,  8,  8, 10,  9,  9,  7,  9,\n",
      "          9,  7,  8,  7,  9,  8,  7,  9,  8,  8,  7,  9, 10,  9, 10,  9,  9,  9,\n",
      "          9,  9,  9,  8,  7,  9, 10,  8,  8,  8, 10, 10,  8, 10,  8, 10,  8, 10,\n",
      "          9, 10,  8,  8,  8,  7,  7,  9,  9,  9,  7,  9,  9,  7, 10,  7,  8,  7,\n",
      "          9,  8, 10,  8,  8,  7,  8, 10,  9, 10,  9,  9, 10,  8,  7,  8, 10,  9,\n",
      "          9,  8, 10,  8, 10,  7, 10,  9, 10,  9,  7,  9,  9,  9,  9,  9, 10,  9,\n",
      "          8,  7, 10,  9,  8,  7, 10,  8,  7,  9,  7,  9,  7,  8,  7,  7,  8,  7,\n",
      "          9,  7, 10,  9,  7,  9,  7,  9,  9,  9,  8,  8,  8, 10, 10,  8,  7,  9,\n",
      "         10, 10,  9,  9,  8, 10, 10, 10, 10,  8, 10,  9,  8,  8, 10,  8,  8,  7,\n",
      "          9, 10, 10,  8, 10, 10, 10,  8, 10,  9, 10, 10,  8,  7, 10,  9,  7,  9,\n",
      "          7,  9,  9,  7,  7,  7,  7,  9,  8, 10,  7,  8, 10,  9,  9, 10,  7,  9,\n",
      "          7,  8,  7,  9,  7,  7,  8,  7,  7, 10,  9, 10, 10,  7,  7,  7, 10,  9,\n",
      "         10,  7,  7, 10,  7,  7,  7,  7,  7, 10,  7,  7,  9,  8,  7,  7,  9, 10,\n",
      "         10,  8,  8,  8, 10,  9,  9,  9, 10, 10, 10,  7, 10,  9,  8,  7,  9, 10,\n",
      "          9,  8,  8,  7,  7,  7, 10,  9, 10,  8,  7,  7,  9,  7, 10,  9,  9, 10,\n",
      "         10,  9, 10,  7, 10,  7,  8,  7,  9,  9,  7,  9,  7,  7,  9,  7,  8,  9,\n",
      "         10,  8,  8,  7,  7,  9,  7,  8,  7,  8,  9, 10,  8, 10, 10, 10, 10,  8,\n",
      "          8,  9,  7,  9, 10,  9, 10,  8,  8,  8,  7,  9,  7,  9,  8, 10,  8,  7,\n",
      "          9,  7,  7,  8, 10,  8, 10,  9, 10,  9,  7,  9,  8,  7,  8, 10, 10, 10,\n",
      "          9,  7,  9,  8, 10, 10,  8,  8,  8,  8,  7,  9,  7,  8,  8, 10,  8, 10,\n",
      "         10, 10,  8, 10, 10,  8,  8,  8, 10,  9,  9,  9, 10,  9, 10,  9,  7,  9,\n",
      "          8,  8,  8, 10,  9,  8,  7,  8,  7,  9, 10,  9,  8, 10,  8,  8,  9,  7,\n",
      "          7,  7,  7,  9,  7,  9,  8, 10,  9,  9,  9,  9, 10,  8,  8,  9, 10,  7,\n",
      "          7,  7, 10,  7,  8,  9,  9,  7, 10,  9,  9,  8,  7,  7,  7,  8,  7,  9,\n",
      "          8, 10,  8,  7,  8,  8, 10,  9,  9,  9, 10, 10, 10,  8, 10,  8,  7,  8,\n",
      "          7, 10,  9,  9,  7, 10, 10, 10,  9, 10, 10, 10, 10,  8, 10, 10,  9,  9,\n",
      "          9,  9,  9, 10,  8, 10,  8, 10,  9, 10,  7, 10,  9,  9,  1]])}\n"
     ]
    }
   ],
   "source": [
    "encoded_tensors = tokenizer(train_dataset[0][0], return_tensors='pt')\n",
    "print(encoded_tensors)"
   ]
  },
  {
   "cell_type": "markdown",
   "metadata": {},
   "source": [
    "The output's data structure is a dictionary containing the `input_ids` key which contains the actual tensors you're going to use to train your model."
   ]
  },
  {
   "cell_type": "markdown",
   "metadata": {},
   "source": [
    "The `genomic_benchmarks` datasets contain their labels already in a tensor format. If we load these dataset in another pytorch-specific data structure called `DataLoader` we can display mini-batches of samples from the whole dataset. This looks as follows:"
   ]
  },
  {
   "cell_type": "code",
   "execution_count": 16,
   "metadata": {},
   "outputs": [],
   "source": [
    "train_loader = DataLoader(train_dataset, batch_size=32, shuffle=True)\n",
    "test_loader = DataLoader(test_dataset, batch_size=32, shuffle=False)"
   ]
  },
  {
   "cell_type": "code",
   "execution_count": 17,
   "metadata": {},
   "outputs": [
    {
     "name": "stdout",
     "output_type": "stream",
     "text": [
      "Batch number: 0\n",
      "Inputs: ('TCTGGAAGAGGTGCAGGAGAGTAGCAAAGAGCCTCTGGCTGTTGTCTCCCGACTGGTCACTAGAGGGAGGCCTGGGCTCAGAAGTGACACCACACCCACCTATTGTTGAGGGGCTGGCTGCTAGTCTTGGGCTGTGAAGAGGCATGCAGCCCCTGCATACACTTGCTAGATTACAGGTAAGAGGAGGAAGGAAAGGAACACCCCGATGTACTGTGGAGACCTAGACCTCTGTGCGTCATCTCCTTTCCAGGAGGTGAGGCCTCCTTCTCCTCCTGCCCTGCCTCAGACCCACACCATGAGTGTGGGCACTCCACAGCCCAGCCTGCAGGGCTAAGCTTTGGCCAGTTCCCACCAAGAGCTGCCCTGGGCTTGGGGGTGTGTACACAGGCGGGAGGATGAACTTGAGGATGAGGCTGCAGAGGCTGAGAAGCAGGCTCGGGGCCACTTGGGAAGAGGATGTTGGGGTCCTGGGTCCTCAGAGCGCAAGGAGGCCAAGGTCT', 'AGGGTTTATGACTAAGTCCTCAAACGCAATTGAATCAAAAACAAAAATTAACAAGTAAGATCTAATTAAACTAAACAGCTTCTGCACAGCAAAAATAACCATCAATAGAGTAAAGATACAACCTAAAGGATCAGAGAAAATATTCACAATCTATGCATCACACAGAGGTCTAATATTCAGAACCTATAAAGAACTTAGAGTATCCAACAAATAACGAACAAATAATCTCATTAAAAACTGTGCCAGGCCAGGCGCAGTGATGCATACCTGTAATCCCAGCCCTTTGGGAGGCCAAGACAGGTGGATCACGAGGTCAGGAGTTCAAGACCAGCCTAGCCAAGATGCTGAAACCCTGTCTCTACTAAAAATACAAAAATCAGCCCAGCGTGGTGGCTCGTGCCTGTAATCCCAGCTACTCAGGAGGCTGAAGCAGGAGAATCTCTTGAACCCGGGCAGCAGAGGTTGCTGTGAGCTGAGATTGCACCATTGCACTCCAGCCT', 'TGGCCACGGATATCTCTCTGCATTTTGCCTTGGATTCTGTGATCAAATCCTGCCTAATAGAATTATCCAAGGTTATACAGAATCTTGTTTAAAGATATGTCTTTTCATTTGGAATTGTCTGATGCCCTCACTGTATTTTTTTTTTAATTTAAGCTTTCTGCTTATCTCATGCTGCTTAAATTGATTTTTATGAATCATTTGGCTTCTCTACTGATTTTTCCATTTTATTTCATTAGTGTTTTTTTTTGTGGGGAGGGTGCTAGTGACCGTTCATTGTTTGCTTTTTCAGTCAACCAAGTTATGGGCTATCAGACTTTCACCCTCAGCTGGGGAGCCAGGTGCAAACTTTCATTTTCTTCAATATATAAATTGGTTCGGAAGAGGATTCATGAATGAATTTAATTCCTGCCATTTCAGGCATGAGTGCACTATTCAGCCTCCCTGCTGATGCCTCAGCCTAACTTTACACAAGTTGTCCCATGTTCAGTTGTCATCCAGAA', 'GCTGGAAATGCCGACAGGTTAATAGTTACAATCAAAGAAGCCTCAATGAAGTGGCAAGAAAAGGGACAGAGGCTTGTCAGGGAAGAGCCAGCAGGTCTAAGGAGTCACTGAAGAGGCCAAGGAGATCTCGTTTGTGGTGATGACTGATTGACAAGGAAGACAGGGCCTCCTGGGGACTTCCTTCACCAAGACCTCTCTGAGCCCCATCGTAGCAGGACTCAGGCTGTCCAGGTCACCGTGGCTCAGGCCTCTCCAAAATGGCAGGGGTGAGCTGGAACAGGGCTTTCTGGTAATGTTTTTCAGTCTCACCTGGTATTTGTTCATTTCTTCCTTTCTTCCTACTCTTTGGGGAAGCTCCTCCACCCCCAGCCTGCCTTCCCTCTGGATCCTCCTGCTTCACGCTTTGCGTGTTTGCCTGGTGGGAGGTTGTAGGTACCTTAAAGACCTTAATAAGATCTGTAAACATGCACTTCCAGCAGCATCACTCTTGCCTGCCTTGG', 'CTGTGAGGAGGGCCAGGGGCTTAGAGTAGGTACAAGAATCCCTAAAAGAGGCCAGGGAGTACATTTCCCTCCCATCCTATTGCATTCCCCTAAGATCCCCAAATTCCTATGGGAAGGCGCCACACACACACATGTATGCTCACAGAGCCACAGCCTTGTCTGCTGTACCCACCAACCCCAGCCGAACCGAGTTCTTAATTCCTCCTTAAGATCAGCAGGCCCGCACTTGGGGTAGCACTGGAATGCAGCCCTGCAGTCTGACCCTGACATTTTCTATACACTGGAAGTCCAGGCATTTGCACAATATTCCATCATGACAGTTTTGTTCTTTGAACACAATAGACACACAGATAAGCTCCGATGAAATCTCTGGAGGAGAGGAAGCTTGACTCCTGTCCCTGTCACATTTAGTTAATGATAAAGGGGGAAGAAAGATCTTCCCAGATAGAAGCTTCCTGGTTGTTGCATTGACTTGGGGAGAGGGGGTGAAGCTCTCTAAC', 'AAGTGGTCTATTGAAGTCTCCAACTATAATTGCTGAATTGTCTACCTCTCTCTTTAATTCTGCTTCTCTCTGAGTGGCATTCCTGCTTTACAAGAGCAGGATGCTGGATGCAGGCTGCTGCCTCTGGTCCTCTCTGCTTGCCTTTCTTAGCTGCTATCCCAGTAATCCTAGCCACCCAAGCCAGGGTAGGGCATGTGCTCTTTGAGTAGGGGCTGGGCAGAAGAGACCCCTGACCTCTCAGCAGCACAGGCCAGGAATTTAGCCTCCACAACACGGAACTAGACTGGGACTAGGAATACAAGCTGCCTGGCCTTTTTGGCCTGAGAGGGGAAAGGAGGGAGTCTGATCTTTGTGTTCTCACTCACCTCAAGTAGCACTTCTGTCACACTGAGCTGGCAGTGCAGGGAGGGAGCAGGATGTGGGACATGGTTCAAATGCCAGAGACTTTCACAGATCTTACTGAGATTTAGTAGATTTTACTGAAAAAAAAAAAAAAAACA', 'ATTTAAGTTCCATAGATTCTGGATATTAGCCCTATGTCAGATGGATAGATTGCAAAAGTTTTCTCCCATTCTGTAGGTTGCCTGTTCACTCTGATGATAGTTTCTTTTATTGTGCAGAAGTTCTTTAGTTTAATTAGATCCCGTTGTATATTTTGGTTTTTGTTGCCATTGCTTTTGGGGTTTTAGTCATGCAGTCTTTGCCCAGACTTATGTCCTGAATGGTATTGCCTAGGTTTTCTTCTAGGGTTTTTATGGTTTTAGGTCTTACTTTTAAGTCTTTAATCCATCTTGAGTTAATTTTTGTATAAGGTATAAGGAAGGGGTCCAGTTTCAGTTTTCTGCATATGGCTAGCCAGTTTTTCCAACACCATTTATTAAATAGGAAATCATTTCCCCATTTCTTGTTTTTGTCACGTTTTCAAAGATCATATGGTTGTAGATATGTGGCATTATTTCTGAGGCCTCTGTTCTGTTCCATTGGTCTATATATCTGTTTTGGT', 'ACTTGGAGTGGGGCCTGGAGCCCGGGATGCTTCCTGCGGACCTTCAACTCCCACATTCCAGGCTGTTCCCAAGACTCCTCGCTCCTCCTCCCTTCTCTACCCATCCCGTGTTGCGGGCGGGGGCGCGGGTGTTAGTGGCCAGGGTCTGAGCTAGCTGCCTGGGGCCTGTGGGGGTACTCGGGGGCCCCTCCTAGGGAGGGATTAGATCTACACTAGAGGGGCTGCCCTGGAGGCCTGTCCAAGCACCACCCAAGGGTACTTGTGATTGTCGTAAACAGGAAGCCCCCCTTTCCCCACCGCACCATGTAGACAGGCCCTGTGTGTCCAGACGCTGCGCTCTGGAGGCCGGGGGCTCTTGACCTCCCCGGCTGCGTTTCCTGTTAGCTGAGCCAGAGGAGAAAGAAGGGGACTGAAATGGGCTGGACAGGGGAGGTGCCTCAGGGAGTGAGAGCAGAAGGGGAAAGAGCCAAGGAGTGAAAGGCCAGAGCTGCCTGGCACAC', 'ATTAATGGTTCTAAACATGTGGTCCAGGCATACATTGGGGATCACCAAACTATCTCAGGGTTATGTGTCTGGTTGAAATTATTTTGATCATAATATGAAGGTATAATTTGCCTTTTCACTCATTGTCTTGAGTATACAGTAAAGATTTTCTGAGGCTACATTCATGTGATCCTGCAATAGATAGAATGAGAAGTTAATATGAAAAATTGGTTGAACTGTATCAAGTTAAACATTAAGGGGAACAGACTAAATGTTTTGGAAAATAAAGTTATCTTTTGCAAAATATCATCTACATTAGCATTATATAACGTAATATACTTAATTTGTTATTTTTAAGTAAAATAATGAGCATATATTGTTTAAACTTCTTAGTTTGAATTTTAATATTTTAACTGTTGACACATATAACCAATATAGACTAAAGCTCTTTAATATATAAGGTATATAAAGCTCTTTAATAGTGTACAGAAATCCTAAAACCAAAAGCTTTAGAATCACTG', 'TGGGAAGAGGGTCAGGGTCATGAGCACAGCTTCTGGAAAAAGTTCCTTCTGCCCCAGTGTTCTTCCAGATCTAAATCATGTGGCTACAAAAATGTCCTTTGAAGGTACTTTAAAATAATTTACAGGTATACAGAAGGGTTAATGCCTGGCTAGCAATGTGTGAAGCACATAGAAAGTTTACCCTACAGACTCAGGTGTGCAAGAATGTCATGTTTATTTAAAACAATTCAACTTTAGTTTATGTCTTGATTTGTCAGAGTTGTTGGGAAATTCAATCTCAGGATTATTAGGCTTTCCTATCAGGTCCGGGGTGGTTCTGGCAATCTTATAGAGAGAAGAATGGTTCAAAGGTGTAAGAAGCATTCAGGAGTTTGATCCCTCTGTGTTACTTACATGCATTAGCAAAAGCTATATGGTTGCTGAAAGTCAGGGGTGCTGCTCTTGGCTTGGGCCAAGGTATGAGATTCTGATGACATTCATTTTCTGATATCTCCCAGGAC', 'TGCCCCCTGACTCACCTGTCCCTGGGTCTGACCACAGTAGCAATCCGAGTAGGATCCAGAGGACACCCTGGGCCATTGTTGCAGGATTCCAGCTTCCAAGGGGTATTTCTGGTTGGCCTCGGCAGAGAACCTCGGCAGTGCTGGAGGGAGACAGGCACAGAGAACTGAGCAGAGCCTTTGACCACTGTCAAAGTCCAGCGGCGAATGACAGACCTGCCTCTCGTAGAGCTGTGGGCGGGAGGCAGCAGGGACATGGGGCAGCGTACCCTGGGTCAAGGTCATCTGGGCATCCTGGTCTCCCCCAGTCTCTTCTGTCCCTCCTAGGCTGAGGTCAGTGGTCAGTAAGCCAGGCCCATCCCCAGAGGGGCCTGGAGACCAGGTGGTTCAGACTCCATAAACTCTGCCCATTCTCCAGTGAGGTGGACCGAGGCAACCCCTCAAGTCCTGTCCCTCCCCATAGTGACGGCTCTGTAGCCGCTGCTGGCCACCAGAGGGGACTC', 'CTGTTGCCCAGTTGCCCAGGCTGGAGTGCAGTGGCGTGATCTCGGCTCACTGCCACCTCCACCTCCCAGGTTCAAGTGATTCTCCTGTCTCAGCCTCCCAGGTAGCTGGGATTACAGGCGTGTGCCACCACACCTGGCTAATTTTTGTATTTTTAGTACAGATGAGGTTTCACCATGTTGGCCAGGCTGGTCTTGAACTCCTGGCCTCAAGTGATATGCCAGCCTTGGCCTCCCAAAGTGCTGGAATTATGGGCGTGAGCCATCACACCCAGCCTGCCATTTGTATGTCTTCTTTTGAGAAATGTCTATTCAGATCTTTTGCCAATTTTTTAATCAGATTATTAGACTTTTTTCCTATAGAATTGTTGGAGCTCCTTATATATTCTAGTTATTAATCCCTTATCAGATGGGTAGTTTGCAAATATTTTCTCCTATTCTATGGGTTGCCTCTTCACTTTATTGACTGTATTCCTTGCTGTGCAGAAGCTTTTTAACTTGGT', 'AAAGAGCAGAACAAGGAGGGTCTTCTGATTTTGAATCCGTTGCATACACTGGAGTTAAAAGTCGAGTTGTCTATAGCAGCCAGGCAGATAAGTGGTTACTGTTCACCAATCTATATGCTCCCCTGTATTTCCCAGTCTCCGTTGCAGTTAGCTTAGGACCATGTGACTAGTTCTGGCCAATGGGCTGTTAGGGGAAGCTTCTCGTATCACTTTCAGGTCAAGGTTGCTAACAGGGGGCCTGCCTTCTCCATCTCCTTCCTCTGCTGTAGTGACTTTGGAGGCCACATCTTCCATATAAGAGAGAGCTATCTGGCCTTTGACCTATAGTCCACATTACATAAAGTAGAAATAAATCTTCAGCATGAGGCCACTGAGATTTTCAAGATTTGTCTAGAGCAGCTGCTACTCAAATGCAACATCTTCAGTTGTATATTTTAGGATAAGACACACTTTATCAAATATAAAGACATGTTCTTCACTGTCCCAAGAGAATATTCTGT', 'ATTGTGGCACTAATTCACAATAGCAAAGACTTGGAACCAACCCAAATGTCCAACAATGATAGACTGGATTAAGAAAATGTGGCACATATATACCATGGAATACTATGCAGCCATAAAAAATGATGAGTTCATGTCCTTTGTAGGGACATGGATGAAACTGGAAATCATCATTCTCAGTAAACTATCGCAAGGACAAAAAACCAAACACCGCATATTCTCACTCATAGGTGGGAATTGAACAATGAGAACACATGGACACAGGAAGGGGAACATCACACTCTGGGGACTGCTGTGGGGTGGGGGAAGGGGGGAGGGATAGCATTGGGAGATACACCTAATGCTAGATGACGAGTTAGTGGGTGCAGCGCACCAGCATGGCACATGTATACATATGTAACTAACCTGCACATCGTGCACATGTACCGTAAAACTTAAAGTATAATAATAATTAAAAAATAAATAAAAATAAAAAATAAAAAAATAAAATGTATTGAAAATGC', 'ACAGGCAGATCCTGCAAATATTCATTTAGTGATAGGGCCTGCTTAACTCAATACAGCCTTGTTGTCACTTGTCAGGTAAATCAAAGGCACATAGTGTGTATTAAATGCCTGATATTATCTAAGTGTATCAGCCATGCTCGAGTAATCCCAAGGGTTTAATTTAAAGAGAGAATTAGAAAGCCTGTATTGTATAAGAGTTGGGGGTCTAGGACATATGTTCCAGAAATAGGAAATTGCAAAGTGCTACATGCGATTCCTCCCCCTTTGCAATTTTAATATCTTAGTTTATTGGGCATATGAATCAAACTAGAAATATAGTTTTATTTTATTATAGTTAGCATAAAATATATTTAAAATTGCTCTCTGTCCACCCAGCTTTGTTTAGAGTAATGATTTTCAAATTATTATGATAATTATATTTCAGAACTCTTAATATTTATTTTCCTTTTTTTCTTTCATGTTTCAAAGTGTCATGTCTTTTAATCTCTCACTTACCCCAC', 'GACTCTCTCTAAACCAGTGAGTTCCTGTAAAAGCGGCTTTTATTAACTTAACAGGTAGATCCAGCAGGCTCCAGTCCTCTTTGCAATCGTTCGCCTCTGGCCCCCAGCGGGAGGAAAGAGGAGGGTGAAAGGAGAAGCCCCCGGGCTGTCCCCAAGGGAGTGCTCCCTGGCAGAGTGCGCTGGGCCCTGCCCTCCTGACGAGGGAGCGCCCCTACACTAGTGCATATTTTCCATATAGACATTGGATAGGATCCACCGTCCAGAGAGGGGAGGGTGGCCCCCAGCGCCATCCCCAACTGACAGGAGACCCCGCCTTAGCGAGCGCTGTCCCCAGCCCGCCAGCCTCGCCTTTCTCTCTGCACAGTGCAGCCCTGACCACCTGGCGTGAGCCTCCTTCCCGAGCGCCATCTGCCTGCGCCCCTGGAAAGCCACTGGGCCTGCGACAGCCAGGGAGCCCCTCAGCTCGCTGGTATCCTTCGGGGGCGCGGGGGGCACACAGA', 'ATGTGGGTTGCTGCCTTCCCATTTACTTGGTGAGTTAGATGTGTCCCCTTTAGCTTTAGAATTCAGTGAAACAGTTAGCTTGAAATGCTCTGGATGATTAGTAGGAATCTGTTACTGTGTAACTTGGGAATTTCAAAAGCAGGACCATGAGTATGTAGTATCAAATACACTTAATATGTGTTTAGTAAAAAGGGCCATTGCTATTTTTAGATGTATTGGCTGAGAACTCCTTTTGTAGGTGATGGTTTTCGTTTTGTTTTGTTTTGTTTTGTTTTGTTTTTTAACAGCTTAAGTCGATGATAAGAGTTAAACAGTACTTCATTGACTTCCTGTGAGGCTTTGTGGAAAACAGTTCCGTTGTATCTATTTTTAAAGCTGATTACTGTGAGCAGAGGATGCTGCTATTGAGTTATAAATGTCATCTCAGTATGTTCTCACTCAGCATTCTTTAGATGACACTAGTGTTTGGATATAAGGTTTCTGGAGTTTATCTGATAGGA', 'TAGTTTATATTCCAGAGTTGTGAAATAATTAAGAAGGAGCCCCAAGTAAGAGTTGAATGAAATAGGTCCCTAATAATTGATGAACTACAAATGCCTTTGAGTTGGAAAGATGAAGTGGCATGAGCTTTATCCTCCAAGGTGAGATAGTAAACAGACAGCATTTAGAAAATATTATTTGAATATTGCCTAGGAATATTTGTCTAAAATTATATTAGTTCATTGTCATATTGCTATAAAGAAATACCTGAGGCTGGGCAATTTGTAAGAAATGAGGTTTAATTGGTTCACGGTTCTGCGGGTTGTACAGGAAGCAGAGTACTGGCATCTGCTTTTGGGGAGGCCTCAGGAAGCTTACAATCATGAAGGAAGGTGAAAAGGGAGTGGGCACATTACATGGCGAAAGCAGGAGCAAGAGAGTGAAGAGGGAGGGTGCTACATACTTTTAAACAACCAGATCTCAGGAGAACTCACTCACTATTGAGAGGACAGTACCAAGGGGG', 'ATTCACAATAACAGTCTTGAAAGAACTTCAGTGGGAATGTTGAGTTCAACATTTTAGCGGCATCCTTAACTTAAATAAAAAAGCTTCAGAGCCTCTTGAAGACATGAACCGTTTTGACTAAAACGTTTAATATCGACCACATGGGCTAAATGATTGCAGAACAAATTTTTTATTGCATTATAAATCTGCTGGAAACAACAACAAAAAAAGGTCATCAATCTCTTCCTTACTTCTTGTTGGTTTTCAAAAATTACTCTCTTTGCCTTTCTTATTTCCCAAACTAAACTAGGGTATTCAATGTTGTCACAACTTTTATTTGTCAATAATTTTTTTTTCGTGAACTGTTGAAACTTGCAGGCTAGATGAGAGGAAATCACATAAAAACTCAAGCCATCTTTAAAAATCAAAAGTGCAATAAAAAGAAACTGGTCAACAGCTATTATGTGAAATGAAGGAAAGTCAAAAGAGAGTAGTTTAAAAGAAGACATGAATTGTAGCCT', 'GGAAACAACTGCCTTATGAAAAAGGTTCTCACTTAAAAGATGTTTTACAAAGGTCGTTAGATACTTTTGCTTTCTTTTTCAACCCTGTAAACCAAAGAAGCCGGGAAGGCAAAGTTCCAAGACTGAAATTGTAAAGTCAGAAACAATTAGTCAAATACAAAAACAAACAAAAAAACCCAGGTTGGTGTATACAATTTAATACAGTGAGTAGTGAGTAAATTAATCTATCACTTCCAACCCCTGCAATCACTTGGTATTTGCTGTAAGTAAACAGCCCACTGGCTGAAGGAAAACAAATATCAATTAAAAGCTTATATTCTTTCTTCCTTAACTCTCACTTAGAACAAAGTCTGTCTTTGTAGAGGCTGTTTACCAGACACTTTGTTTCCCTAATCATAGTGTTCTTTGACACAATTAAGATTATCTACCTGGACAGTACTGTTTTTTGAAGGCTGACTTTTCTACATCAAGGACTTGATCTCTCAAAAGCTTTTGATTTT', 'CAGTAGAGAAACTAATCAGTTGGAAAAATGCAAATTTGTTTTCTGCACAGAGTTGGAAACTCATTACCCTGAACCACTCCTTAAATTAAGTTCAGAGTAGTGACTCAAAATCTGGGTCAGATAAGGAACAATGTAAAGCTGTAATAAGCAGGCTTGAGAGCAGGAGCACTCTTTGAATCCCATCATTGAAGGCATTTGTGTTCATTTCTTCTTAGGCCCCTTAACTGTGTCTACAGAACAGAAAATGGCCAACTCAGTTTGGATTGGATTGTTTTTTCCTAGCTGTCCCATATTTATGTGGATGAAAATTTTCTTGTAATGCGTTTTAGTTTCAGTTTGAACAGTGCCCTCTGATCCTTTAGCCCAACTGTCAAACCTTAAGCTACTTTATCTTTCTAAACAAACGGTGGATTGCTATAACCTATTACCTGGGTCATCAGATTCCAGAGGTGAACATCTCATGGACTAACCCTGTCCCTTGCTACCTGGAACCCCTGGGT', 'ATTGGATAAATTTATGTAAAAAATGTCCATTTTAATGTAACAGTTTTGCCCTCAAGGGCTAATATCACAAGTTTTCAGTAAACAGAACCTGCCACAACATAATATGCTTCAGTGAATGTTTCCCAAGAAGAAAGAAAAAAGCAGTGAAGAAACTTGCTTCTTTTGTTTTAGTAACATTACTATAGCTCAGGCTTTGAAGGCTCTGTTGTATGTCACCCAGTGCAGGATTGCCAGAGTGAACAATTAACAACAGAGGATGCCAAATTCAATTTAATTTAAGATGAGCAATGAGATAACAACATAAGTATATGCCACGCAATGTCTGGGACATAGTTACACTAACAAGAAAATACCTGTTGATCTGATACTCAAAATTGCTTTGTTTTTTAATTTTATCTGGCAACCCTAGTCTAGTCATATTAATTCTTAGTCTGTTAAGATACTTTCTAATTTTCCAGTGAAAATTAGAAAGTAAATGTGGAAAATTAGAAAGTTCAGTG', 'AATTTCATGCAATAGAATGGCTGTGGGGTATACAAAGATAAATAAAATATAATTTCTACTTTCTAAGATCTCATACCTAGTTAAGAGATAGTTATAACAACCAGAAATATGCTGAATGTTTTAAGAATTATGTGCATAGGTCATCTACCTCCATATCTCCAAGTTAAGTTGCCATTTTCTCTTTTCATTGTTCTATTCGACCTACCCTAGACTTTTATCTACATTTGTCTAAAATTGGCACACCAGATAAATTAGGTTATCTAATTTATCTAAAATTGGCAGACCAGATAAATCAAACAACTTTGTGTGTGTGTGTGTTTTGGTGAATCAGAGATTACATTTTGTATCCTTTTCAAGAGAGTGTTTGTAGGCAGCATTGGTAAATGTTTTATACTTGTTTGCAAAGCTGGTATAAATATTTCAGGACACAATTGAGCTTTTCTCATTAAAGCCCATTTTTCTGTCTCTGTATGCAGAAGTTTCTAGCTGTGGAGAGAAAG', 'CCCAAGATGACTGACATCTTACATGACGGAAGGACAGTACTGACACCCAGAGCTGATGCTGGGACATCTCCACCCACCAGACCACAGAACCTGCCCAGCCACGCCTGCCCTCAGGTTCAAAGGCCCCGATCTCCCTTTCCCCGCTACAGTAAAGCTGCAGGTGGGCCCGGCTTCACCTGCGCCTGTCAGCAGGAGCAGGAGCTGCTGATACAGCAAGCATTGGGTTCATGTCCACTGCCCAGCCCATCAGGGACCACTGGAGGCTCCCCCAGAAGCCTGAGGGTCCCTGGCACACACGAGGACTGGCACTGTCTCAAGGCCCTGCTGTGGCTGTGTGAACCACACGCTTGCCTTTTTCCACCCAGTGCTTCGGGCGGAGGCGGACCTGAGCTTTCCAAGGCTGCTCCGGTTTGGAAGAGGCTGCCTGCAGTACGGGGACAGAAATAGCAAGTCCGCGGCTGCACACTTCAGGAGGGAGGGAGGGCAGCACTCTAGAGGCC', 'TTTGATAACACTACTGTTATCAAACTCACAACCCCGAGCATGCAAATGGCTGATATTACAATTTATTCTAAGGGTGGGGGCTGTTATGTTTGTGGAATTTCTGAGATAGTTGGTATGTGGCCATAATAAGAGAAGGAAGCCCAGATCAAGGAGTTACACATAGCTGGTTACATACTCTTTCTCATTTTTTTGTAACAGCTTCCTATCCAGATTTCCCCCTCCCACCCAGCACCACTCCACTGAGTTCCAAGACCAAGTGTACTTTCTGTCCTATTGCTTTTTAGGTTCTGACATCTTCCTCTTTAATGTTCCTAAACTGGTGACTTGCCTTTTTTTGGCAGTGACGGGCTCGTCACTCAATATCTACTTCTCTTTTTTATTTGTCATAACTTTTATCACTCATCTCAGTCCCAACTTTCAGACTTCCATACCAAACACTTGGAAACAGAAAAATGTTTCTGACATTTCACTGTTTTCCCCTCCCTTCTATCATTCAAATA', 'AAGGTAACATGAAGCCTCCAGCTTTGTTCTTTTTGCTTAGGATTGTCTTGGCTATACAGGCTTATTTTTGTTTCCATATGAAATTTAAAGTAATTTTTTCTTATTCAGTGAAGAAAGTCAATGGTAGCTTGGTGGGAATAGCATTGAATCTATAAATTACTTTGGGCACTATGGCCATTTTCACGACATTGATTCTTCTTATCCATGAGCATGGAATGTTTTTCCATTTGTTTGTGTCCTCTCTTATTTCCTTGAGCAGTGGTTTATAGTTCTCCTTGAAGAGGTCTTTCACATCCCTTGTAAGTTGTATTCCTAGGCATTTTATTCTGTTTGTAGCAATTGTGAATGGGAGTTTGCTCATGATTTGGCTCTCTGTTTGTCTATTATTGGTGTATAGGAACGCTTGTGATTTTTGCACATTGATCTTGTATCCTGAGACTTTGCTGAAGTTGCTTATCAGCTTAAGGAGTTTTGGGGCTGAGAAGATGGAGTTTTCTAAA', 'AAGGATGTTGTAGGCTTGTCCTGGGAGGTGGAATGAATTGGAGACTGGGGGCCGTCTCTGCAGGCAGGATCTGGGGATCAGAGCAGCAAGAGGTGGGAGGCAAACTCCAGGCAGAAGAGGAGTGACGGCAAGAGAAGGCACAGAGAAGGATGTAGCCTGCAGGAGCCCTCTCAGGACCCAGGGGGTCAACCAGGAAGAACCCCGGTCTGAAAAGGGCAGGACTGAGCAGCAGCAATGGCTAGAGACCCCATTAACCTGTAAGCCTGCGAAGGTTGGGGACCAGACCCCTGCCTTCCTCATCACAGTCCCAGGTTCTGGAAACTGGACATATAAGCCGTGACCTTGCTTGAATGGAATTTACTTTGTTTCTCTTTCTGACCATTCCCCAAATCAGAAACAGTTCTTCCACTTGTAGAAATGGGCAGGGAGAGGAAGTGTTGCCCCTTCCCACAGAGGGGCTATCAGAGGGAAGGTAGAAGGAGCTGGGACCGGAGAGATGA', 'GCAACTTGGTGAAACCCCATCACTACTAAAAATACAAACATTAGCTGGGCATGGTGGCATGTGCCTGTAGTCCCAGCTACTCGGAAGGCTGAGAATCGCTTGAACTCGGGAGGGGGGGGTTGCAGTGAGCTGAGATCACGCCACTGCACTCCAGCCTGGGCGACAGAGTGACACTCTGTCTTAAAAAAAAAAAAAAAATCCATCTTTTGCCATCAAATCATCAGGCGACACTTGCTGATAGTCTACCTAATATCCCCAAGACCCTGGGAAGGCTACAAAGTTGGGTGAGAATAAACAGATCCCACCGGTAAGGATCTTACAACTAAGCAGAGAAGAAAGACCACTAAAAATATGGTCTATCATAAGAATGGGAAAGGAACAAGGCATTTTGATGAGAGTGCTGGGGAGAAAGAGCAGTGATTTTAGTTGGCAGAATTTGGGCGGACAGAGCCGAAACTCACGGGTGGCCAGCAGCACGTGGGAATTTTCAAAGTAATTTG', 'GGCGGATCACAAGGTCAGGAGATGGAGACCATCCTGGCTAACACGGTGAAACCCTGTATCTACTAAAAATACAAAAAAATTAGCTAGGCATGGTGGTGCGTGCCTGTAGTCCCAGCTACTAGGGTGGCTGAGGCAGGAGAATCACTTGAACCCGGGAGGCGGAGGTTGCAGTTAGCCGAGATCGCGCCACTACACTCCAGCCTGGGCGACAGAGCAAGACTCCGTCTCAAAAAAAAAAATCTAGCAGATGTCCTTCTTCTGAGACTTATCCCATGAGCGTTTGGCCTAACAATGAAGGATTCTTCCCTCTCAAAAGAGAGAGTTCTCTAGTTAATCAAATATTTAACACCAAATTTTCTGAATCAAAACAATTAGCTGGTAACTTAGAGCTGATTTTCTCATGGTTATTAGGCTGTTTGAAAACCTGTGAATGATCTGGATAACTTATTTGAATAATTATCCTTAAAGCAATTACTCTGCTATGAAGCACTGATAGTGTA', 'GGAGGTTGCAGTAAGCCGAGATTGCGTCATTGCACTCCAGCTTGGGCAACAACAGCGAAACTCTGTCTAAAAAAAAAAAAAAAGAAAAGAAAAGAAAAGAAAACCCTCCAAACCACAAAAATAAATGATGAACCACCTGGGCTGTACCAAATGGTGAACTCTCAACCTTCCCTTCAGTCACAGCAAGTGACTCAACGCAACACAAAATTCAAACAGAACTGTTCTCAAATTGTTCTTGGATTTCTAATACCTGTTTGTTTTTTCAATTAACAGGATTTCAGGACAAAGTTCAACAAGTAACTGCACTGACATGATTTGAATGGGAAATCCGAATTAGAGGGATTCAAATTTGATGGTTCAAAGGAAATTTGGATTCACATGTGGGCTGCAACTTTTAAAATCTTAGACTCCAAGAAGAAAAGAAATTTAAAAAGCAATTGTTTTCCCATTTTATAAAGGGAAACAGCCCTCTGATGACAGGAGCAACCTGTTTCCAAATC', 'TGATTAATTAGTATATACTATGTTTTTAAACCTTGTTGGTTTCCTTAAGAATATGATTGTCTTAGTCAGTTTGGCTTCCTATAACAAATGTACCATAGACTGAGTGGCTTAAACCATAAACATTCATTTCTCACAGTTCTGGAGGCTTGGAAGTTCAAGCTCAAGGTACTGGCAGATGTGGTGTCTGGAGAGAGCCTGCTTCCTGATTTGCAGAAGGTCATCTTCTGGTTGTATCCTCACATGGCAGAGAAAAACAAGCTCTTCTGTCTCATCTTCTAGGGGCACAAGTCCTATTCACGAGGGCTCCATCCTTACGACCTAATTACCTCCCAGAGGTAATTACCTATGACCTAGTTACCTCTTACTACCATCACATTGAGGATTTCAATATATGAATTTGGGGGAACACAAACATTCAGTCAACAACAATAATCATCATAATAGTTGACACATACACAGTGCCTCTTATGTTCCAGAAACTCTTTTGCATGCTTTACCTA', 'TCGATCAATTTTGATCAATGTTTAGTAAACCAAAACATGTACTGTGTACAACGGAAATAATATGGCATATTAGCCAGGCATGATGGTTGCCCAAGACAGTTAAATTAAGCTCAATTCTGTATTTTATTAGGGCTCTGTTATGTCCTTCATCTGAAATGTACACATTTTTGGTGTATGCTTGGTACTGGAGATTCATATATGCAAATATTCTCATGCAAGAAGTTCCACAGTAACAACAGCAAAAAGAAAAAATTAGTTGTCCAGCCAGTGCTGGAGGAAAATGTTTCTGGGGAAGATGACTCAGTCATTTTGTGGCGAGACACCCTTTGGTAACTCCCACTGACCAGTCTTGGGAGCCTTCCTGGAATGATCGTGGGCTGAGCGGAGATGTTTTTTGCAAAATGAAACTGAAGCTGAAAGAAAGGAGAATTCGAGTGAACCAAGAGAAATCCAAAGACCTGGGGAAGGAGGACTTAAGATGAAAGTGAAGCAAGAGAGGG')\n",
      "Labels: tensor([0, 1, 0, 1, 0, 1, 1, 0, 1, 1, 0, 0, 0, 1, 1, 1, 0, 1, 1, 0, 0, 1, 1, 0,\n",
      "        0, 1, 0, 0, 0, 0, 0, 0])\n"
     ]
    }
   ],
   "source": [
    "for batch, (x, y) in enumerate(train_loader):\n",
    "    print(f\"Batch number: {batch}\\nInputs: {x}\\nLabels: {y}\")\n",
    "    break"
   ]
  },
  {
   "cell_type": "markdown",
   "metadata": {},
   "source": [
    "Let's apply the transformation we just learned to convert the sequences into meaningful tensors:"
   ]
  },
  {
   "cell_type": "code",
   "execution_count": 18,
   "metadata": {},
   "outputs": [
    {
     "name": "stdout",
     "output_type": "stream",
     "text": [
      "Batch number: 0\n",
      "Inputs: tensor([[10,  7,  9,  ...,  7,  7,  1],\n",
      "        [ 9,  7,  9,  ...,  9,  7,  1],\n",
      "        [ 7, 10,  9,  ..., 10,  8,  1],\n",
      "        ...,\n",
      "        [ 9,  9,  9,  ...,  7,  7,  1],\n",
      "        [ 9,  9, 10,  ...,  8, 10,  1],\n",
      "        [ 8,  7,  7,  ...,  9,  7,  1]])\n",
      "Labels: tensor([0, 0, 0, 1, 1, 0, 0, 1, 1, 0, 0, 0, 0, 1, 1, 1, 1, 1, 1, 1, 0, 1, 0, 0,\n",
      "        1, 1, 1, 0, 1, 0, 0, 0])\n"
     ]
    }
   ],
   "source": [
    "for batch, (x, y) in enumerate(train_loader):\n",
    "    x = tokenizer(x, return_tensors='pt', padding=True, truncation=True, max_length=max_length)[\"input_ids\"]\n",
    "    print(f\"Batch number: {batch}\\nInputs: {x}\\nLabels: {y}\")\n",
    "    break"
   ]
  },
  {
   "cell_type": "markdown",
   "metadata": {},
   "source": [
    "Excellent! Now you can see the relationship between the sequences and labels contained in the dataset. Let's now load the model you're going to train! It's really important to keep in mind that if you're going to use a pretrained model (as you are doing right now), you have to use the same `checkpoint` for both the tokenizer and the model. Doing so you will give the inputs to the model as it expects and avoid lots of error messages."
   ]
  },
  {
   "cell_type": "markdown",
   "metadata": {},
   "source": [
    "## Model training"
   ]
  },
  {
   "cell_type": "code",
   "execution_count": 19,
   "metadata": {},
   "outputs": [
    {
     "name": "stderr",
     "output_type": "stream",
     "text": [
      "Some weights of HyenaDNAForSequenceClassification were not initialized from the model checkpoint at LongSafari/hyenadna-tiny-1k-seqlen-hf and are newly initialized: ['score.weight']\n",
      "You should probably TRAIN this model on a down-stream task to be able to use it for predictions and inference.\n"
     ]
    }
   ],
   "source": [
    "# Load the model using the same checkpoint as the tokenizer\n",
    "# The num_labels parameter is set to 2 because we have two classes in the dataset (positive and negative)\n",
    "\n",
    "model = AutoModelForSequenceClassification.from_pretrained(checkpoint, trust_remote_code=True, labels=2)"
   ]
  },
  {
   "cell_type": "markdown",
   "metadata": {},
   "source": [
    "You are almost there to train your model! You're a few parameters and functions away of training the model. Let's finish the set up to start the training process!\n",
    "\n",
    "To start its training a deep learning model needs:\n",
    "* a `device`: the piece of hardware where all the math will happen. It's advised to use a GPU for accelerated training\n",
    "* `loss function`: this tells you how much difference is there between the model's precictions and the ground-truth labels in the dataset\n",
    "* a number of `epochs`: the amount of times the model will \"see\" the samples within the dataset\n",
    "* an `optimizer`: a way of calculating and update the model's parameters to fit better the data after each iteration\n",
    "* a `training` and `test` loops: to declare how the information will pass through the network and in which moment to update the parameters\n",
    "\n",
    "Let's declare them in the following code cell:"
   ]
  },
  {
   "cell_type": "code",
   "execution_count": 20,
   "metadata": {},
   "outputs": [
    {
     "name": "stdout",
     "output_type": "stream",
     "text": [
      "Using device: mps\n"
     ]
    }
   ],
   "source": [
    "# Define the optimizer and the loss function\n",
    "loss_fn = nn.CrossEntropyLoss()\n",
    "\n",
    "# create optimizer and define its parameters\n",
    "learning_rate = 1e-5\n",
    "weight_decay = 0.1\n",
    "optimizer = optim.AdamW(model.parameters(), lr=learning_rate, weight_decay=weight_decay)\n",
    "\n",
    "# Define a device\n",
    "device = torch.device(\"cuda\" if torch.cuda.is_available() else \"mps\" if torch.backends.mps.is_available() else \"cpu\")\n",
    "print(f\"Using device: {device}\")"
   ]
  },
  {
   "cell_type": "code",
   "execution_count": 21,
   "metadata": {},
   "outputs": [],
   "source": [
    "# Define the training loop\n",
    "def train(model, device, train_loader, max_length):\n",
    "    model.to(device)\n",
    "    model.train()\n",
    "    size = len(train_loader.dataset)\n",
    "    for batch, (x, y) in enumerate(train_loader):\n",
    "        x = tokenizer(x, return_tensors='pt', padding=True, truncation=True, max_length=max_length)[\"input_ids\"] # Tokenize the input sequences\n",
    "        x, y = x.to(device), y.to(device) # Move the data to the device\n",
    "        # Forward pass\n",
    "        outputs = model(x, labels=y) # Get the outputs of the model\n",
    "        # Backward pass\n",
    "        loss = outputs.loss\n",
    "        loss.backward()\n",
    "        optimizer.step()\n",
    "        # Zero the gradients\n",
    "        optimizer.zero_grad()\n",
    "        if batch % 100 == 0:\n",
    "            loss, current = loss.item(), (batch + 1) * len(x)\n",
    "            print(f\"loss: {loss:>7f}  [{current:>5d}/{size:>5d}]\")"
   ]
  },
  {
   "cell_type": "code",
   "execution_count": 22,
   "metadata": {},
   "outputs": [],
   "source": [
    "# Define the test loop\n",
    "def test(model, device, test_loader, max_length, losses, accuracies):\n",
    "    model.to(device) # Move the model to the device\n",
    "    model.eval() # Set the model to evaluation mode\n",
    "    size = len(test_loader.dataset)\n",
    "    test_loss, correct = 0, 0\n",
    "    with torch.no_grad(): # Disable gradient calculation\n",
    "        for x, y in test_loader:\n",
    "            x = tokenizer(x, return_tensors='pt', padding=True, truncation=True, max_length=max_length)[\"input_ids\"] # Tokenize the input sequences\n",
    "            x, y = x.to(device), y.to(device) # Move the data to the device\n",
    "            outputs = model(x, labels=y) # Get the outputs of the model\n",
    "            test_loss += outputs.loss.item() # Get the loss value\n",
    "            correct += (outputs.logits.argmax(1) == y).type(torch.float).sum().item() # Get the number of correct predictions\n",
    "    test_loss /= size\n",
    "    losses.append(test_loss) # Save the loss value in the current epoch\n",
    "    correct /= size\n",
    "    accuracies.append(correct) # Save the accuracy value in the current epoch\n",
    "    print(f\"Test Error: \\n Accuracy: {(100*correct):>0.1f}%, Avg loss: {test_loss:>8f} \\n\")"
   ]
  },
  {
   "cell_type": "markdown",
   "metadata": {},
   "source": [
    "Now you have all the parameters, objects, and functions needed to train a deep learning model! The last thing you have to do is to declare how many **epochs** the training phase will have. This is how many times will the model \"see\" or process all the samples contained in the training dataset. This is done to try to fit the model as most as possible to the data. That's why your dataset has to include a wide variety of examples, covering the most cases as possible from the phenomenon you're studying."
   ]
  },
  {
   "cell_type": "code",
   "execution_count": 23,
   "metadata": {},
   "outputs": [
    {
     "name": "stdout",
     "output_type": "stream",
     "text": [
      "Epoch 1\n",
      "-------------------------------\n"
     ]
    },
    {
     "ename": "NotImplementedError",
     "evalue": "The operator 'aten::_fft_r2c' is not currently implemented for the MPS device. If you want this op to be added in priority during the prototype phase of this feature, please comment on https://github.com/pytorch/pytorch/issues/77764. As a temporary fix, you can set the environment variable `PYTORCH_ENABLE_MPS_FALLBACK=1` to use the CPU as a fallback for this op. WARNING: this will be slower than running natively on MPS.",
     "output_type": "error",
     "traceback": [
      "\u001b[0;31m---------------------------------------------------------------------------\u001b[0m",
      "\u001b[0;31mNotImplementedError\u001b[0m                       Traceback (most recent call last)",
      "Cell \u001b[0;32mIn[23], line 10\u001b[0m\n\u001b[1;32m      8\u001b[0m \u001b[38;5;28;01mfor\u001b[39;00m epoch \u001b[38;5;129;01min\u001b[39;00m \u001b[38;5;28mrange\u001b[39m(epochs):\n\u001b[1;32m      9\u001b[0m     \u001b[38;5;28mprint\u001b[39m(\u001b[38;5;124mf\u001b[39m\u001b[38;5;124m\"\u001b[39m\u001b[38;5;124mEpoch \u001b[39m\u001b[38;5;132;01m{\u001b[39;00mepoch\u001b[38;5;250m \u001b[39m\u001b[38;5;241m+\u001b[39m\u001b[38;5;250m \u001b[39m\u001b[38;5;241m1\u001b[39m\u001b[38;5;132;01m}\u001b[39;00m\u001b[38;5;130;01m\\n\u001b[39;00m\u001b[38;5;124m-------------------------------\u001b[39m\u001b[38;5;124m\"\u001b[39m)\n\u001b[0;32m---> 10\u001b[0m     \u001b[43mtrain\u001b[49m\u001b[43m(\u001b[49m\u001b[43mmodel\u001b[49m\u001b[43m,\u001b[49m\u001b[43m \u001b[49m\u001b[43mdevice\u001b[49m\u001b[43m,\u001b[49m\u001b[43m \u001b[49m\u001b[43mtrain_loader\u001b[49m\u001b[43m,\u001b[49m\u001b[43m \u001b[49m\u001b[43mmax_length\u001b[49m\u001b[43m)\u001b[49m\n\u001b[1;32m     11\u001b[0m     test(model, device, test_loader, max_length, losses, accuracies)\n",
      "Cell \u001b[0;32mIn[21], line 10\u001b[0m, in \u001b[0;36mtrain\u001b[0;34m(model, device, train_loader, max_length)\u001b[0m\n\u001b[1;32m      8\u001b[0m x, y \u001b[38;5;241m=\u001b[39m x\u001b[38;5;241m.\u001b[39mto(device), y\u001b[38;5;241m.\u001b[39mto(device) \u001b[38;5;66;03m# Move the data to the device\u001b[39;00m\n\u001b[1;32m      9\u001b[0m \u001b[38;5;66;03m# Forward pass\u001b[39;00m\n\u001b[0;32m---> 10\u001b[0m outputs \u001b[38;5;241m=\u001b[39m \u001b[43mmodel\u001b[49m\u001b[43m(\u001b[49m\u001b[43mx\u001b[49m\u001b[43m,\u001b[49m\u001b[43m \u001b[49m\u001b[43mlabels\u001b[49m\u001b[38;5;241;43m=\u001b[39;49m\u001b[43my\u001b[49m\u001b[43m)\u001b[49m \u001b[38;5;66;03m# Get the outputs of the model\u001b[39;00m\n\u001b[1;32m     11\u001b[0m \u001b[38;5;66;03m# Backward pass\u001b[39;00m\n\u001b[1;32m     12\u001b[0m loss \u001b[38;5;241m=\u001b[39m outputs\u001b[38;5;241m.\u001b[39mloss\n",
      "File \u001b[0;32m~/miniconda3/envs/gsc_pt/lib/python3.12/site-packages/torch/nn/modules/module.py:1511\u001b[0m, in \u001b[0;36mModule._wrapped_call_impl\u001b[0;34m(self, *args, **kwargs)\u001b[0m\n\u001b[1;32m   1509\u001b[0m     \u001b[38;5;28;01mreturn\u001b[39;00m \u001b[38;5;28mself\u001b[39m\u001b[38;5;241m.\u001b[39m_compiled_call_impl(\u001b[38;5;241m*\u001b[39margs, \u001b[38;5;241m*\u001b[39m\u001b[38;5;241m*\u001b[39mkwargs)  \u001b[38;5;66;03m# type: ignore[misc]\u001b[39;00m\n\u001b[1;32m   1510\u001b[0m \u001b[38;5;28;01melse\u001b[39;00m:\n\u001b[0;32m-> 1511\u001b[0m     \u001b[38;5;28;01mreturn\u001b[39;00m \u001b[38;5;28;43mself\u001b[39;49m\u001b[38;5;241;43m.\u001b[39;49m\u001b[43m_call_impl\u001b[49m\u001b[43m(\u001b[49m\u001b[38;5;241;43m*\u001b[39;49m\u001b[43margs\u001b[49m\u001b[43m,\u001b[49m\u001b[43m \u001b[49m\u001b[38;5;241;43m*\u001b[39;49m\u001b[38;5;241;43m*\u001b[39;49m\u001b[43mkwargs\u001b[49m\u001b[43m)\u001b[49m\n",
      "File \u001b[0;32m~/miniconda3/envs/gsc_pt/lib/python3.12/site-packages/torch/nn/modules/module.py:1520\u001b[0m, in \u001b[0;36mModule._call_impl\u001b[0;34m(self, *args, **kwargs)\u001b[0m\n\u001b[1;32m   1515\u001b[0m \u001b[38;5;66;03m# If we don't have any hooks, we want to skip the rest of the logic in\u001b[39;00m\n\u001b[1;32m   1516\u001b[0m \u001b[38;5;66;03m# this function, and just call forward.\u001b[39;00m\n\u001b[1;32m   1517\u001b[0m \u001b[38;5;28;01mif\u001b[39;00m \u001b[38;5;129;01mnot\u001b[39;00m (\u001b[38;5;28mself\u001b[39m\u001b[38;5;241m.\u001b[39m_backward_hooks \u001b[38;5;129;01mor\u001b[39;00m \u001b[38;5;28mself\u001b[39m\u001b[38;5;241m.\u001b[39m_backward_pre_hooks \u001b[38;5;129;01mor\u001b[39;00m \u001b[38;5;28mself\u001b[39m\u001b[38;5;241m.\u001b[39m_forward_hooks \u001b[38;5;129;01mor\u001b[39;00m \u001b[38;5;28mself\u001b[39m\u001b[38;5;241m.\u001b[39m_forward_pre_hooks\n\u001b[1;32m   1518\u001b[0m         \u001b[38;5;129;01mor\u001b[39;00m _global_backward_pre_hooks \u001b[38;5;129;01mor\u001b[39;00m _global_backward_hooks\n\u001b[1;32m   1519\u001b[0m         \u001b[38;5;129;01mor\u001b[39;00m _global_forward_hooks \u001b[38;5;129;01mor\u001b[39;00m _global_forward_pre_hooks):\n\u001b[0;32m-> 1520\u001b[0m     \u001b[38;5;28;01mreturn\u001b[39;00m \u001b[43mforward_call\u001b[49m\u001b[43m(\u001b[49m\u001b[38;5;241;43m*\u001b[39;49m\u001b[43margs\u001b[49m\u001b[43m,\u001b[49m\u001b[43m \u001b[49m\u001b[38;5;241;43m*\u001b[39;49m\u001b[38;5;241;43m*\u001b[39;49m\u001b[43mkwargs\u001b[49m\u001b[43m)\u001b[49m\n\u001b[1;32m   1522\u001b[0m \u001b[38;5;28;01mtry\u001b[39;00m:\n\u001b[1;32m   1523\u001b[0m     result \u001b[38;5;241m=\u001b[39m \u001b[38;5;28;01mNone\u001b[39;00m\n",
      "File \u001b[0;32m~/.cache/huggingface/modules/transformers_modules/LongSafari/hyenadna-tiny-1k-seqlen-hf/e8c1effa8673814e257e627d2e1eda9ea5a373f6/modeling_hyena.py:515\u001b[0m, in \u001b[0;36mHyenaDNAForSequenceClassification.forward\u001b[0;34m(self, input_ids, inputs_embeds, labels, output_hidden_states, return_dict)\u001b[0m\n\u001b[1;32m    507\u001b[0m \u001b[38;5;250m\u001b[39m\u001b[38;5;124mr\u001b[39m\u001b[38;5;124;03m\"\"\"\u001b[39;00m\n\u001b[1;32m    508\u001b[0m \u001b[38;5;124;03mlabels (`torch.LongTensor` of shape `(batch_size,)`, *optional*):\u001b[39;00m\n\u001b[1;32m    509\u001b[0m \u001b[38;5;124;03m    Labels for computing the sequence classification/regression loss. Indices should be in `[0, ...,\u001b[39;00m\n\u001b[1;32m    510\u001b[0m \u001b[38;5;124;03m    config.num_labels - 1]`. If `config.num_labels == 1` a regression loss is computed (Mean-Square loss), If\u001b[39;00m\n\u001b[1;32m    511\u001b[0m \u001b[38;5;124;03m    `config.num_labels > 1` a classification loss is computed (Cross-Entropy).\u001b[39;00m\n\u001b[1;32m    512\u001b[0m \u001b[38;5;124;03m\"\"\"\u001b[39;00m\n\u001b[1;32m    513\u001b[0m return_dict \u001b[38;5;241m=\u001b[39m return_dict \u001b[38;5;28;01mif\u001b[39;00m return_dict \u001b[38;5;129;01mis\u001b[39;00m \u001b[38;5;129;01mnot\u001b[39;00m \u001b[38;5;28;01mNone\u001b[39;00m \u001b[38;5;28;01melse\u001b[39;00m \u001b[38;5;28mself\u001b[39m\u001b[38;5;241m.\u001b[39mconfig\u001b[38;5;241m.\u001b[39muse_return_dict\n\u001b[0;32m--> 515\u001b[0m transformer_outputs \u001b[38;5;241m=\u001b[39m \u001b[38;5;28;43mself\u001b[39;49m\u001b[38;5;241;43m.\u001b[39;49m\u001b[43mhyena\u001b[49m\u001b[43m(\u001b[49m\n\u001b[1;32m    516\u001b[0m \u001b[43m    \u001b[49m\u001b[43minput_ids\u001b[49m\u001b[43m,\u001b[49m\n\u001b[1;32m    517\u001b[0m \u001b[43m    \u001b[49m\u001b[43minputs_embeds\u001b[49m\u001b[38;5;241;43m=\u001b[39;49m\u001b[43minputs_embeds\u001b[49m\u001b[43m,\u001b[49m\n\u001b[1;32m    518\u001b[0m \u001b[43m    \u001b[49m\u001b[43moutput_hidden_states\u001b[49m\u001b[38;5;241;43m=\u001b[39;49m\u001b[43moutput_hidden_states\u001b[49m\u001b[43m,\u001b[49m\n\u001b[1;32m    519\u001b[0m \u001b[43m    \u001b[49m\u001b[43mreturn_dict\u001b[49m\u001b[38;5;241;43m=\u001b[39;49m\u001b[43mreturn_dict\u001b[49m\u001b[43m,\u001b[49m\n\u001b[1;32m    520\u001b[0m \u001b[43m\u001b[49m\u001b[43m)\u001b[49m\n\u001b[1;32m    521\u001b[0m hidden_states \u001b[38;5;241m=\u001b[39m transformer_outputs[\u001b[38;5;241m0\u001b[39m]\n\u001b[1;32m    522\u001b[0m logits \u001b[38;5;241m=\u001b[39m \u001b[38;5;28mself\u001b[39m\u001b[38;5;241m.\u001b[39mscore(hidden_states)\n",
      "File \u001b[0;32m~/miniconda3/envs/gsc_pt/lib/python3.12/site-packages/torch/nn/modules/module.py:1511\u001b[0m, in \u001b[0;36mModule._wrapped_call_impl\u001b[0;34m(self, *args, **kwargs)\u001b[0m\n\u001b[1;32m   1509\u001b[0m     \u001b[38;5;28;01mreturn\u001b[39;00m \u001b[38;5;28mself\u001b[39m\u001b[38;5;241m.\u001b[39m_compiled_call_impl(\u001b[38;5;241m*\u001b[39margs, \u001b[38;5;241m*\u001b[39m\u001b[38;5;241m*\u001b[39mkwargs)  \u001b[38;5;66;03m# type: ignore[misc]\u001b[39;00m\n\u001b[1;32m   1510\u001b[0m \u001b[38;5;28;01melse\u001b[39;00m:\n\u001b[0;32m-> 1511\u001b[0m     \u001b[38;5;28;01mreturn\u001b[39;00m \u001b[38;5;28;43mself\u001b[39;49m\u001b[38;5;241;43m.\u001b[39;49m\u001b[43m_call_impl\u001b[49m\u001b[43m(\u001b[49m\u001b[38;5;241;43m*\u001b[39;49m\u001b[43margs\u001b[49m\u001b[43m,\u001b[49m\u001b[43m \u001b[49m\u001b[38;5;241;43m*\u001b[39;49m\u001b[38;5;241;43m*\u001b[39;49m\u001b[43mkwargs\u001b[49m\u001b[43m)\u001b[49m\n",
      "File \u001b[0;32m~/miniconda3/envs/gsc_pt/lib/python3.12/site-packages/torch/nn/modules/module.py:1520\u001b[0m, in \u001b[0;36mModule._call_impl\u001b[0;34m(self, *args, **kwargs)\u001b[0m\n\u001b[1;32m   1515\u001b[0m \u001b[38;5;66;03m# If we don't have any hooks, we want to skip the rest of the logic in\u001b[39;00m\n\u001b[1;32m   1516\u001b[0m \u001b[38;5;66;03m# this function, and just call forward.\u001b[39;00m\n\u001b[1;32m   1517\u001b[0m \u001b[38;5;28;01mif\u001b[39;00m \u001b[38;5;129;01mnot\u001b[39;00m (\u001b[38;5;28mself\u001b[39m\u001b[38;5;241m.\u001b[39m_backward_hooks \u001b[38;5;129;01mor\u001b[39;00m \u001b[38;5;28mself\u001b[39m\u001b[38;5;241m.\u001b[39m_backward_pre_hooks \u001b[38;5;129;01mor\u001b[39;00m \u001b[38;5;28mself\u001b[39m\u001b[38;5;241m.\u001b[39m_forward_hooks \u001b[38;5;129;01mor\u001b[39;00m \u001b[38;5;28mself\u001b[39m\u001b[38;5;241m.\u001b[39m_forward_pre_hooks\n\u001b[1;32m   1518\u001b[0m         \u001b[38;5;129;01mor\u001b[39;00m _global_backward_pre_hooks \u001b[38;5;129;01mor\u001b[39;00m _global_backward_hooks\n\u001b[1;32m   1519\u001b[0m         \u001b[38;5;129;01mor\u001b[39;00m _global_forward_hooks \u001b[38;5;129;01mor\u001b[39;00m _global_forward_pre_hooks):\n\u001b[0;32m-> 1520\u001b[0m     \u001b[38;5;28;01mreturn\u001b[39;00m \u001b[43mforward_call\u001b[49m\u001b[43m(\u001b[49m\u001b[38;5;241;43m*\u001b[39;49m\u001b[43margs\u001b[49m\u001b[43m,\u001b[49m\u001b[43m \u001b[49m\u001b[38;5;241;43m*\u001b[39;49m\u001b[38;5;241;43m*\u001b[39;49m\u001b[43mkwargs\u001b[49m\u001b[43m)\u001b[49m\n\u001b[1;32m   1522\u001b[0m \u001b[38;5;28;01mtry\u001b[39;00m:\n\u001b[1;32m   1523\u001b[0m     result \u001b[38;5;241m=\u001b[39m \u001b[38;5;28;01mNone\u001b[39;00m\n",
      "File \u001b[0;32m~/.cache/huggingface/modules/transformers_modules/LongSafari/hyenadna-tiny-1k-seqlen-hf/e8c1effa8673814e257e627d2e1eda9ea5a373f6/modeling_hyena.py:391\u001b[0m, in \u001b[0;36mHyenaDNAModel.forward\u001b[0;34m(self, input_ids, inputs_embeds, output_hidden_states, return_dict)\u001b[0m\n\u001b[1;32m    386\u001b[0m output_hidden_states \u001b[38;5;241m=\u001b[39m (\n\u001b[1;32m    387\u001b[0m     output_hidden_states \u001b[38;5;28;01mif\u001b[39;00m output_hidden_states \u001b[38;5;129;01mis\u001b[39;00m \u001b[38;5;129;01mnot\u001b[39;00m \u001b[38;5;28;01mNone\u001b[39;00m \u001b[38;5;28;01melse\u001b[39;00m \u001b[38;5;28mself\u001b[39m\u001b[38;5;241m.\u001b[39mconfig\u001b[38;5;241m.\u001b[39moutput_hidden_states\n\u001b[1;32m    388\u001b[0m )\n\u001b[1;32m    389\u001b[0m return_dict \u001b[38;5;241m=\u001b[39m return_dict \u001b[38;5;28;01mif\u001b[39;00m return_dict \u001b[38;5;129;01mis\u001b[39;00m \u001b[38;5;129;01mnot\u001b[39;00m \u001b[38;5;28;01mNone\u001b[39;00m \u001b[38;5;28;01melse\u001b[39;00m \u001b[38;5;28mself\u001b[39m\u001b[38;5;241m.\u001b[39mconfig\u001b[38;5;241m.\u001b[39muse_return_dict\n\u001b[0;32m--> 391\u001b[0m hidden_states, all_hidden_states \u001b[38;5;241m=\u001b[39m \u001b[38;5;28;43mself\u001b[39;49m\u001b[38;5;241;43m.\u001b[39;49m\u001b[43mbackbone\u001b[49m\u001b[43m(\u001b[49m\u001b[43minput_ids\u001b[49m\u001b[43m,\u001b[49m\u001b[43m \u001b[49m\u001b[43minputs_embeds\u001b[49m\u001b[38;5;241;43m=\u001b[39;49m\u001b[43minputs_embeds\u001b[49m\u001b[43m,\u001b[49m\u001b[43m \u001b[49m\u001b[43moutput_hidden_states\u001b[49m\u001b[38;5;241;43m=\u001b[39;49m\u001b[43moutput_hidden_states\u001b[49m\u001b[43m)\u001b[49m\n\u001b[1;32m    392\u001b[0m \u001b[38;5;28;01mif\u001b[39;00m return_dict:\n\u001b[1;32m    393\u001b[0m     \u001b[38;5;28;01mreturn\u001b[39;00m BaseModelOutputWithNoAttention(last_hidden_state\u001b[38;5;241m=\u001b[39mhidden_states,\n\u001b[1;32m    394\u001b[0m                                           hidden_states\u001b[38;5;241m=\u001b[39mall_hidden_states \u001b[38;5;28;01mif\u001b[39;00m output_hidden_states \u001b[38;5;28;01melse\u001b[39;00m \u001b[38;5;28;01mNone\u001b[39;00m)\n",
      "File \u001b[0;32m~/miniconda3/envs/gsc_pt/lib/python3.12/site-packages/torch/nn/modules/module.py:1511\u001b[0m, in \u001b[0;36mModule._wrapped_call_impl\u001b[0;34m(self, *args, **kwargs)\u001b[0m\n\u001b[1;32m   1509\u001b[0m     \u001b[38;5;28;01mreturn\u001b[39;00m \u001b[38;5;28mself\u001b[39m\u001b[38;5;241m.\u001b[39m_compiled_call_impl(\u001b[38;5;241m*\u001b[39margs, \u001b[38;5;241m*\u001b[39m\u001b[38;5;241m*\u001b[39mkwargs)  \u001b[38;5;66;03m# type: ignore[misc]\u001b[39;00m\n\u001b[1;32m   1510\u001b[0m \u001b[38;5;28;01melse\u001b[39;00m:\n\u001b[0;32m-> 1511\u001b[0m     \u001b[38;5;28;01mreturn\u001b[39;00m \u001b[38;5;28;43mself\u001b[39;49m\u001b[38;5;241;43m.\u001b[39;49m\u001b[43m_call_impl\u001b[49m\u001b[43m(\u001b[49m\u001b[38;5;241;43m*\u001b[39;49m\u001b[43margs\u001b[49m\u001b[43m,\u001b[49m\u001b[43m \u001b[49m\u001b[38;5;241;43m*\u001b[39;49m\u001b[38;5;241;43m*\u001b[39;49m\u001b[43mkwargs\u001b[49m\u001b[43m)\u001b[49m\n",
      "File \u001b[0;32m~/miniconda3/envs/gsc_pt/lib/python3.12/site-packages/torch/nn/modules/module.py:1520\u001b[0m, in \u001b[0;36mModule._call_impl\u001b[0;34m(self, *args, **kwargs)\u001b[0m\n\u001b[1;32m   1515\u001b[0m \u001b[38;5;66;03m# If we don't have any hooks, we want to skip the rest of the logic in\u001b[39;00m\n\u001b[1;32m   1516\u001b[0m \u001b[38;5;66;03m# this function, and just call forward.\u001b[39;00m\n\u001b[1;32m   1517\u001b[0m \u001b[38;5;28;01mif\u001b[39;00m \u001b[38;5;129;01mnot\u001b[39;00m (\u001b[38;5;28mself\u001b[39m\u001b[38;5;241m.\u001b[39m_backward_hooks \u001b[38;5;129;01mor\u001b[39;00m \u001b[38;5;28mself\u001b[39m\u001b[38;5;241m.\u001b[39m_backward_pre_hooks \u001b[38;5;129;01mor\u001b[39;00m \u001b[38;5;28mself\u001b[39m\u001b[38;5;241m.\u001b[39m_forward_hooks \u001b[38;5;129;01mor\u001b[39;00m \u001b[38;5;28mself\u001b[39m\u001b[38;5;241m.\u001b[39m_forward_pre_hooks\n\u001b[1;32m   1518\u001b[0m         \u001b[38;5;129;01mor\u001b[39;00m _global_backward_pre_hooks \u001b[38;5;129;01mor\u001b[39;00m _global_backward_hooks\n\u001b[1;32m   1519\u001b[0m         \u001b[38;5;129;01mor\u001b[39;00m _global_forward_hooks \u001b[38;5;129;01mor\u001b[39;00m _global_forward_pre_hooks):\n\u001b[0;32m-> 1520\u001b[0m     \u001b[38;5;28;01mreturn\u001b[39;00m \u001b[43mforward_call\u001b[49m\u001b[43m(\u001b[49m\u001b[38;5;241;43m*\u001b[39;49m\u001b[43margs\u001b[49m\u001b[43m,\u001b[49m\u001b[43m \u001b[49m\u001b[38;5;241;43m*\u001b[39;49m\u001b[38;5;241;43m*\u001b[39;49m\u001b[43mkwargs\u001b[49m\u001b[43m)\u001b[49m\n\u001b[1;32m   1522\u001b[0m \u001b[38;5;28;01mtry\u001b[39;00m:\n\u001b[1;32m   1523\u001b[0m     result \u001b[38;5;241m=\u001b[39m \u001b[38;5;28;01mNone\u001b[39;00m\n",
      "File \u001b[0;32m~/.cache/huggingface/modules/transformers_modules/LongSafari/hyenadna-tiny-1k-seqlen-hf/e8c1effa8673814e257e627d2e1eda9ea5a373f6/modeling_hyena.py:333\u001b[0m, in \u001b[0;36mHyenaLMBackbone.forward\u001b[0;34m(self, input_ids, inputs_embeds, output_hidden_states)\u001b[0m\n\u001b[1;32m    331\u001b[0m     hidden_states \u001b[38;5;241m=\u001b[39m \u001b[38;5;28mself\u001b[39m\u001b[38;5;241m.\u001b[39m_gradient_checkpointing_func(layer\u001b[38;5;241m.\u001b[39m\u001b[38;5;21m__call__\u001b[39m, hidden_states)\n\u001b[1;32m    332\u001b[0m \u001b[38;5;28;01melse\u001b[39;00m:\n\u001b[0;32m--> 333\u001b[0m     hidden_states \u001b[38;5;241m=\u001b[39m \u001b[43mlayer\u001b[49m\u001b[43m(\u001b[49m\u001b[43mhidden_states\u001b[49m\u001b[43m)\u001b[49m\n\u001b[1;32m    334\u001b[0m \u001b[38;5;28;01mif\u001b[39;00m output_hidden_states:\n\u001b[1;32m    335\u001b[0m     all_hidden_states\u001b[38;5;241m.\u001b[39mappend(hidden_states)\n",
      "File \u001b[0;32m~/miniconda3/envs/gsc_pt/lib/python3.12/site-packages/torch/nn/modules/module.py:1511\u001b[0m, in \u001b[0;36mModule._wrapped_call_impl\u001b[0;34m(self, *args, **kwargs)\u001b[0m\n\u001b[1;32m   1509\u001b[0m     \u001b[38;5;28;01mreturn\u001b[39;00m \u001b[38;5;28mself\u001b[39m\u001b[38;5;241m.\u001b[39m_compiled_call_impl(\u001b[38;5;241m*\u001b[39margs, \u001b[38;5;241m*\u001b[39m\u001b[38;5;241m*\u001b[39mkwargs)  \u001b[38;5;66;03m# type: ignore[misc]\u001b[39;00m\n\u001b[1;32m   1510\u001b[0m \u001b[38;5;28;01melse\u001b[39;00m:\n\u001b[0;32m-> 1511\u001b[0m     \u001b[38;5;28;01mreturn\u001b[39;00m \u001b[38;5;28;43mself\u001b[39;49m\u001b[38;5;241;43m.\u001b[39;49m\u001b[43m_call_impl\u001b[49m\u001b[43m(\u001b[49m\u001b[38;5;241;43m*\u001b[39;49m\u001b[43margs\u001b[49m\u001b[43m,\u001b[49m\u001b[43m \u001b[49m\u001b[38;5;241;43m*\u001b[39;49m\u001b[38;5;241;43m*\u001b[39;49m\u001b[43mkwargs\u001b[49m\u001b[43m)\u001b[49m\n",
      "File \u001b[0;32m~/miniconda3/envs/gsc_pt/lib/python3.12/site-packages/torch/nn/modules/module.py:1520\u001b[0m, in \u001b[0;36mModule._call_impl\u001b[0;34m(self, *args, **kwargs)\u001b[0m\n\u001b[1;32m   1515\u001b[0m \u001b[38;5;66;03m# If we don't have any hooks, we want to skip the rest of the logic in\u001b[39;00m\n\u001b[1;32m   1516\u001b[0m \u001b[38;5;66;03m# this function, and just call forward.\u001b[39;00m\n\u001b[1;32m   1517\u001b[0m \u001b[38;5;28;01mif\u001b[39;00m \u001b[38;5;129;01mnot\u001b[39;00m (\u001b[38;5;28mself\u001b[39m\u001b[38;5;241m.\u001b[39m_backward_hooks \u001b[38;5;129;01mor\u001b[39;00m \u001b[38;5;28mself\u001b[39m\u001b[38;5;241m.\u001b[39m_backward_pre_hooks \u001b[38;5;129;01mor\u001b[39;00m \u001b[38;5;28mself\u001b[39m\u001b[38;5;241m.\u001b[39m_forward_hooks \u001b[38;5;129;01mor\u001b[39;00m \u001b[38;5;28mself\u001b[39m\u001b[38;5;241m.\u001b[39m_forward_pre_hooks\n\u001b[1;32m   1518\u001b[0m         \u001b[38;5;129;01mor\u001b[39;00m _global_backward_pre_hooks \u001b[38;5;129;01mor\u001b[39;00m _global_backward_hooks\n\u001b[1;32m   1519\u001b[0m         \u001b[38;5;129;01mor\u001b[39;00m _global_forward_hooks \u001b[38;5;129;01mor\u001b[39;00m _global_forward_pre_hooks):\n\u001b[0;32m-> 1520\u001b[0m     \u001b[38;5;28;01mreturn\u001b[39;00m \u001b[43mforward_call\u001b[49m\u001b[43m(\u001b[49m\u001b[38;5;241;43m*\u001b[39;49m\u001b[43margs\u001b[49m\u001b[43m,\u001b[49m\u001b[43m \u001b[49m\u001b[38;5;241;43m*\u001b[39;49m\u001b[38;5;241;43m*\u001b[39;49m\u001b[43mkwargs\u001b[49m\u001b[43m)\u001b[49m\n\u001b[1;32m   1522\u001b[0m \u001b[38;5;28;01mtry\u001b[39;00m:\n\u001b[1;32m   1523\u001b[0m     result \u001b[38;5;241m=\u001b[39m \u001b[38;5;28;01mNone\u001b[39;00m\n",
      "File \u001b[0;32m~/.cache/huggingface/modules/transformers_modules/LongSafari/hyenadna-tiny-1k-seqlen-hf/e8c1effa8673814e257e627d2e1eda9ea5a373f6/modeling_hyena.py:273\u001b[0m, in \u001b[0;36mHyenaBlock.forward\u001b[0;34m(self, hidden_states)\u001b[0m\n\u001b[1;32m    271\u001b[0m residual \u001b[38;5;241m=\u001b[39m residual\u001b[38;5;241m.\u001b[39mto(torch\u001b[38;5;241m.\u001b[39mfloat32)\n\u001b[1;32m    272\u001b[0m hyena_normed \u001b[38;5;241m=\u001b[39m \u001b[38;5;28mself\u001b[39m\u001b[38;5;241m.\u001b[39mnorm1(residual\u001b[38;5;241m.\u001b[39mto(dtype\u001b[38;5;241m=\u001b[39m\u001b[38;5;28mself\u001b[39m\u001b[38;5;241m.\u001b[39mnorm1\u001b[38;5;241m.\u001b[39mweight\u001b[38;5;241m.\u001b[39mdtype))\n\u001b[0;32m--> 273\u001b[0m hidden_states \u001b[38;5;241m=\u001b[39m \u001b[38;5;28;43mself\u001b[39;49m\u001b[38;5;241;43m.\u001b[39;49m\u001b[43mmixer\u001b[49m\u001b[43m(\u001b[49m\u001b[43mhyena_normed\u001b[49m\u001b[43m)\u001b[49m\n\u001b[1;32m    274\u001b[0m \u001b[38;5;66;03m# Tested above here and all is equivalent. That means the mixer is fine!!!\u001b[39;00m\n\u001b[1;32m    275\u001b[0m residual \u001b[38;5;241m=\u001b[39m hidden_states \u001b[38;5;241m+\u001b[39m residual\n",
      "File \u001b[0;32m~/miniconda3/envs/gsc_pt/lib/python3.12/site-packages/torch/nn/modules/module.py:1511\u001b[0m, in \u001b[0;36mModule._wrapped_call_impl\u001b[0;34m(self, *args, **kwargs)\u001b[0m\n\u001b[1;32m   1509\u001b[0m     \u001b[38;5;28;01mreturn\u001b[39;00m \u001b[38;5;28mself\u001b[39m\u001b[38;5;241m.\u001b[39m_compiled_call_impl(\u001b[38;5;241m*\u001b[39margs, \u001b[38;5;241m*\u001b[39m\u001b[38;5;241m*\u001b[39mkwargs)  \u001b[38;5;66;03m# type: ignore[misc]\u001b[39;00m\n\u001b[1;32m   1510\u001b[0m \u001b[38;5;28;01melse\u001b[39;00m:\n\u001b[0;32m-> 1511\u001b[0m     \u001b[38;5;28;01mreturn\u001b[39;00m \u001b[38;5;28;43mself\u001b[39;49m\u001b[38;5;241;43m.\u001b[39;49m\u001b[43m_call_impl\u001b[49m\u001b[43m(\u001b[49m\u001b[38;5;241;43m*\u001b[39;49m\u001b[43margs\u001b[49m\u001b[43m,\u001b[49m\u001b[43m \u001b[49m\u001b[38;5;241;43m*\u001b[39;49m\u001b[38;5;241;43m*\u001b[39;49m\u001b[43mkwargs\u001b[49m\u001b[43m)\u001b[49m\n",
      "File \u001b[0;32m~/miniconda3/envs/gsc_pt/lib/python3.12/site-packages/torch/nn/modules/module.py:1520\u001b[0m, in \u001b[0;36mModule._call_impl\u001b[0;34m(self, *args, **kwargs)\u001b[0m\n\u001b[1;32m   1515\u001b[0m \u001b[38;5;66;03m# If we don't have any hooks, we want to skip the rest of the logic in\u001b[39;00m\n\u001b[1;32m   1516\u001b[0m \u001b[38;5;66;03m# this function, and just call forward.\u001b[39;00m\n\u001b[1;32m   1517\u001b[0m \u001b[38;5;28;01mif\u001b[39;00m \u001b[38;5;129;01mnot\u001b[39;00m (\u001b[38;5;28mself\u001b[39m\u001b[38;5;241m.\u001b[39m_backward_hooks \u001b[38;5;129;01mor\u001b[39;00m \u001b[38;5;28mself\u001b[39m\u001b[38;5;241m.\u001b[39m_backward_pre_hooks \u001b[38;5;129;01mor\u001b[39;00m \u001b[38;5;28mself\u001b[39m\u001b[38;5;241m.\u001b[39m_forward_hooks \u001b[38;5;129;01mor\u001b[39;00m \u001b[38;5;28mself\u001b[39m\u001b[38;5;241m.\u001b[39m_forward_pre_hooks\n\u001b[1;32m   1518\u001b[0m         \u001b[38;5;129;01mor\u001b[39;00m _global_backward_pre_hooks \u001b[38;5;129;01mor\u001b[39;00m _global_backward_hooks\n\u001b[1;32m   1519\u001b[0m         \u001b[38;5;129;01mor\u001b[39;00m _global_forward_hooks \u001b[38;5;129;01mor\u001b[39;00m _global_forward_pre_hooks):\n\u001b[0;32m-> 1520\u001b[0m     \u001b[38;5;28;01mreturn\u001b[39;00m \u001b[43mforward_call\u001b[49m\u001b[43m(\u001b[49m\u001b[38;5;241;43m*\u001b[39;49m\u001b[43margs\u001b[49m\u001b[43m,\u001b[49m\u001b[43m \u001b[49m\u001b[38;5;241;43m*\u001b[39;49m\u001b[38;5;241;43m*\u001b[39;49m\u001b[43mkwargs\u001b[49m\u001b[43m)\u001b[49m\n\u001b[1;32m   1522\u001b[0m \u001b[38;5;28;01mtry\u001b[39;00m:\n\u001b[1;32m   1523\u001b[0m     result \u001b[38;5;241m=\u001b[39m \u001b[38;5;28;01mNone\u001b[39;00m\n",
      "File \u001b[0;32m~/.cache/huggingface/modules/transformers_modules/LongSafari/hyenadna-tiny-1k-seqlen-hf/e8c1effa8673814e257e627d2e1eda9ea5a373f6/modeling_hyena.py:211\u001b[0m, in \u001b[0;36mHyenaOperator.forward\u001b[0;34m(self, u)\u001b[0m\n\u001b[1;32m    209\u001b[0m \u001b[38;5;28;01mfor\u001b[39;00m o, x_i \u001b[38;5;129;01min\u001b[39;00m \u001b[38;5;28menumerate\u001b[39m(\u001b[38;5;28mreversed\u001b[39m(x[\u001b[38;5;241m1\u001b[39m:])):\n\u001b[1;32m    210\u001b[0m     v \u001b[38;5;241m=\u001b[39m \u001b[38;5;28mself\u001b[39m\u001b[38;5;241m.\u001b[39mdropout(v \u001b[38;5;241m*\u001b[39m x_i)\n\u001b[0;32m--> 211\u001b[0m     v \u001b[38;5;241m=\u001b[39m \u001b[38;5;28;43mself\u001b[39;49m\u001b[38;5;241;43m.\u001b[39;49m\u001b[43mfilter_fn\u001b[49m\u001b[43m(\u001b[49m\u001b[43mv\u001b[49m\u001b[43m,\u001b[49m\u001b[43m \u001b[49m\u001b[43ml_filter\u001b[49m\u001b[43m,\u001b[49m\u001b[43m \u001b[49m\u001b[43mk\u001b[49m\u001b[38;5;241;43m=\u001b[39;49m\u001b[43mk\u001b[49m\u001b[43m[\u001b[49m\u001b[43mo\u001b[49m\u001b[43m]\u001b[49m\u001b[43m,\u001b[49m\u001b[43m \u001b[49m\u001b[43mbias\u001b[49m\u001b[38;5;241;43m=\u001b[39;49m\u001b[43mbias\u001b[49m\u001b[43m[\u001b[49m\u001b[43mo\u001b[49m\u001b[43m]\u001b[49m\u001b[43m)\u001b[49m\n\u001b[1;32m    213\u001b[0m y \u001b[38;5;241m=\u001b[39m (v \u001b[38;5;241m*\u001b[39m x[\u001b[38;5;241m0\u001b[39m])\u001b[38;5;241m.\u001b[39mtranspose(\u001b[38;5;241m1\u001b[39m, \u001b[38;5;241m2\u001b[39m)\n\u001b[1;32m    215\u001b[0m y \u001b[38;5;241m=\u001b[39m \u001b[38;5;28mself\u001b[39m\u001b[38;5;241m.\u001b[39mout_proj(y)\n",
      "File \u001b[0;32m~/miniconda3/envs/gsc_pt/lib/python3.12/site-packages/torch/nn/modules/module.py:1511\u001b[0m, in \u001b[0;36mModule._wrapped_call_impl\u001b[0;34m(self, *args, **kwargs)\u001b[0m\n\u001b[1;32m   1509\u001b[0m     \u001b[38;5;28;01mreturn\u001b[39;00m \u001b[38;5;28mself\u001b[39m\u001b[38;5;241m.\u001b[39m_compiled_call_impl(\u001b[38;5;241m*\u001b[39margs, \u001b[38;5;241m*\u001b[39m\u001b[38;5;241m*\u001b[39mkwargs)  \u001b[38;5;66;03m# type: ignore[misc]\u001b[39;00m\n\u001b[1;32m   1510\u001b[0m \u001b[38;5;28;01melse\u001b[39;00m:\n\u001b[0;32m-> 1511\u001b[0m     \u001b[38;5;28;01mreturn\u001b[39;00m \u001b[38;5;28;43mself\u001b[39;49m\u001b[38;5;241;43m.\u001b[39;49m\u001b[43m_call_impl\u001b[49m\u001b[43m(\u001b[49m\u001b[38;5;241;43m*\u001b[39;49m\u001b[43margs\u001b[49m\u001b[43m,\u001b[49m\u001b[43m \u001b[49m\u001b[38;5;241;43m*\u001b[39;49m\u001b[38;5;241;43m*\u001b[39;49m\u001b[43mkwargs\u001b[49m\u001b[43m)\u001b[49m\n",
      "File \u001b[0;32m~/miniconda3/envs/gsc_pt/lib/python3.12/site-packages/torch/nn/modules/module.py:1520\u001b[0m, in \u001b[0;36mModule._call_impl\u001b[0;34m(self, *args, **kwargs)\u001b[0m\n\u001b[1;32m   1515\u001b[0m \u001b[38;5;66;03m# If we don't have any hooks, we want to skip the rest of the logic in\u001b[39;00m\n\u001b[1;32m   1516\u001b[0m \u001b[38;5;66;03m# this function, and just call forward.\u001b[39;00m\n\u001b[1;32m   1517\u001b[0m \u001b[38;5;28;01mif\u001b[39;00m \u001b[38;5;129;01mnot\u001b[39;00m (\u001b[38;5;28mself\u001b[39m\u001b[38;5;241m.\u001b[39m_backward_hooks \u001b[38;5;129;01mor\u001b[39;00m \u001b[38;5;28mself\u001b[39m\u001b[38;5;241m.\u001b[39m_backward_pre_hooks \u001b[38;5;129;01mor\u001b[39;00m \u001b[38;5;28mself\u001b[39m\u001b[38;5;241m.\u001b[39m_forward_hooks \u001b[38;5;129;01mor\u001b[39;00m \u001b[38;5;28mself\u001b[39m\u001b[38;5;241m.\u001b[39m_forward_pre_hooks\n\u001b[1;32m   1518\u001b[0m         \u001b[38;5;129;01mor\u001b[39;00m _global_backward_pre_hooks \u001b[38;5;129;01mor\u001b[39;00m _global_backward_hooks\n\u001b[1;32m   1519\u001b[0m         \u001b[38;5;129;01mor\u001b[39;00m _global_forward_hooks \u001b[38;5;129;01mor\u001b[39;00m _global_forward_pre_hooks):\n\u001b[0;32m-> 1520\u001b[0m     \u001b[38;5;28;01mreturn\u001b[39;00m \u001b[43mforward_call\u001b[49m\u001b[43m(\u001b[49m\u001b[38;5;241;43m*\u001b[39;49m\u001b[43margs\u001b[49m\u001b[43m,\u001b[49m\u001b[43m \u001b[49m\u001b[38;5;241;43m*\u001b[39;49m\u001b[38;5;241;43m*\u001b[39;49m\u001b[43mkwargs\u001b[49m\u001b[43m)\u001b[49m\n\u001b[1;32m   1522\u001b[0m \u001b[38;5;28;01mtry\u001b[39;00m:\n\u001b[1;32m   1523\u001b[0m     result \u001b[38;5;241m=\u001b[39m \u001b[38;5;28;01mNone\u001b[39;00m\n",
      "File \u001b[0;32m~/.cache/huggingface/modules/transformers_modules/LongSafari/hyenadna-tiny-1k-seqlen-hf/e8c1effa8673814e257e627d2e1eda9ea5a373f6/modeling_hyena.py:158\u001b[0m, in \u001b[0;36mHyenaFilter.forward\u001b[0;34m(self, x, L, k, bias, *args, **kwargs)\u001b[0m\n\u001b[1;32m    155\u001b[0m \u001b[38;5;66;03m# Ensure compatibility with filters that return a tuple\u001b[39;00m\n\u001b[1;32m    156\u001b[0m k \u001b[38;5;241m=\u001b[39m k[\u001b[38;5;241m0\u001b[39m] \u001b[38;5;28;01mif\u001b[39;00m \u001b[38;5;28mtype\u001b[39m(k) \u001b[38;5;129;01mis\u001b[39;00m \u001b[38;5;28mtuple\u001b[39m \u001b[38;5;28;01melse\u001b[39;00m k\n\u001b[0;32m--> 158\u001b[0m y \u001b[38;5;241m=\u001b[39m \u001b[43mfftconv\u001b[49m\u001b[43m(\u001b[49m\u001b[43mx\u001b[49m\u001b[43m,\u001b[49m\u001b[43m \u001b[49m\u001b[43mk\u001b[49m\u001b[43m,\u001b[49m\u001b[43m \u001b[49m\u001b[43mbias\u001b[49m\u001b[43m)\u001b[49m\n\u001b[1;32m    159\u001b[0m \u001b[38;5;28;01mreturn\u001b[39;00m y\n",
      "File \u001b[0;32m~/.cache/huggingface/modules/transformers_modules/LongSafari/hyenadna-tiny-1k-seqlen-hf/e8c1effa8673814e257e627d2e1eda9ea5a373f6/modeling_hyena.py:22\u001b[0m, in \u001b[0;36mfftconv\u001b[0;34m(u, k, D)\u001b[0m\n\u001b[1;32m     19\u001b[0m seqlen \u001b[38;5;241m=\u001b[39m u\u001b[38;5;241m.\u001b[39mshape[\u001b[38;5;241m-\u001b[39m\u001b[38;5;241m1\u001b[39m]\n\u001b[1;32m     20\u001b[0m fft_size \u001b[38;5;241m=\u001b[39m \u001b[38;5;241m2\u001b[39m \u001b[38;5;241m*\u001b[39m seqlen\n\u001b[0;32m---> 22\u001b[0m k_f \u001b[38;5;241m=\u001b[39m \u001b[43mtorch\u001b[49m\u001b[38;5;241;43m.\u001b[39;49m\u001b[43mfft\u001b[49m\u001b[38;5;241;43m.\u001b[39;49m\u001b[43mrfft\u001b[49m\u001b[43m(\u001b[49m\u001b[43mk\u001b[49m\u001b[38;5;241;43m.\u001b[39;49m\u001b[43mto\u001b[49m\u001b[43m(\u001b[49m\u001b[43mtorch\u001b[49m\u001b[38;5;241;43m.\u001b[39;49m\u001b[43mfloat32\u001b[49m\u001b[43m)\u001b[49m\u001b[43m,\u001b[49m\u001b[43m \u001b[49m\u001b[43mn\u001b[49m\u001b[38;5;241;43m=\u001b[39;49m\u001b[43mfft_size\u001b[49m\u001b[43m)\u001b[49m \u001b[38;5;241m/\u001b[39m fft_size\n\u001b[1;32m     23\u001b[0m u_f \u001b[38;5;241m=\u001b[39m torch\u001b[38;5;241m.\u001b[39mfft\u001b[38;5;241m.\u001b[39mrfft(u\u001b[38;5;241m.\u001b[39mto(dtype\u001b[38;5;241m=\u001b[39mtorch\u001b[38;5;241m.\u001b[39mfloat32), n\u001b[38;5;241m=\u001b[39mfft_size)\n\u001b[1;32m     25\u001b[0m \u001b[38;5;28;01mif\u001b[39;00m \u001b[38;5;28mlen\u001b[39m(u\u001b[38;5;241m.\u001b[39mshape) \u001b[38;5;241m>\u001b[39m \u001b[38;5;241m3\u001b[39m: k_f \u001b[38;5;241m=\u001b[39m k_f\u001b[38;5;241m.\u001b[39munsqueeze(\u001b[38;5;241m1\u001b[39m)\n",
      "\u001b[0;31mNotImplementedError\u001b[0m: The operator 'aten::_fft_r2c' is not currently implemented for the MPS device. If you want this op to be added in priority during the prototype phase of this feature, please comment on https://github.com/pytorch/pytorch/issues/77764. As a temporary fix, you can set the environment variable `PYTORCH_ENABLE_MPS_FALLBACK=1` to use the CPU as a fallback for this op. WARNING: this will be slower than running natively on MPS."
     ]
    }
   ],
   "source": [
    "# Define the number of epochs\n",
    "epochs = 5\n",
    "\n",
    "# Define the lists to store the losses and accuracies\n",
    "losses = []\n",
    "accuracies = []\n",
    "\n",
    "for epoch in range(epochs):\n",
    "    print(f\"Epoch {epoch + 1}\\n-------------------------------\")\n",
    "    train(model, device, train_loader, max_length)\n",
    "    test(model, device, test_loader, max_length, losses, accuracies)"
   ]
  },
  {
   "cell_type": "markdown",
   "metadata": {},
   "source": [
    "## Evaluation\n",
    "\n",
    "Excellent! You just finished training your model, now what? Is it ready to predict which sequence is an enhancer and which is not? As you may saw during the training process at the end of each epoch the accuracy and average loss values were displayed. These tell us how **reliable** our model is. You can plot these values and watch the model's evolution through the epochs because each time the `test` function was working it saved them.\n",
    "\n",
    "### Accuracy and Loss"
   ]
  },
  {
   "cell_type": "code",
   "execution_count": 25,
   "metadata": {},
   "outputs": [
    {
     "data": {
      "image/png": "[encoded data removed]",
      "text/plain": [
       "<Figure size 1800x600 with 2 Axes>"
      ]
     },
     "metadata": {},
     "output_type": "display_data"
    }
   ],
   "source": [
    "# Plot the loss and accuracy values agianst the number of epochs\n",
    "n_epochs = np.arange(1, epochs + 1) # Create an array with the number of epochs\n",
    "plt.figure(figsize=(18, 6))\n",
    "plt.subplot(1, 2, 1)\n",
    "plt.plot(n_epochs, losses)\n",
    "plt.xticks(n_epochs)\n",
    "plt.title(\"Loss vs. Number of epochs\")\n",
    "plt.xlabel(\"Number of epochs\")\n",
    "plt.ylabel(\"Loss\")\n",
    "plt.subplot(1, 2, 2)\n",
    "plt.plot(n_epochs, accuracies)\n",
    "plt.xticks(n_epochs)\n",
    "plt.title(\"Accuracy vs. Number of epochs\")\n",
    "plt.xlabel(\"Number of epochs\")\n",
    "plt.ylabel(\"Accuracy\")\n",
    "plt.show()"
   ]
  },
  {
   "cell_type": "markdown",
   "metadata": {},
   "source": [
    "As you may see in the plots, the **loss value** decreases as the number of epochs increases. The loss value is a metric that tells you how far from the actual values the model's predictions are. This value and they way it is calculated are directly related to the **loss function**, in this example we used the *Cross Entrop* loss function. \n",
    "\n",
    "On the other hand, the **accuracy** represents the proportion of correct predictions out of the total number of samples (in the test dataset). With this model, in the specific iteration when preparing this workshop, the maxmimum obtained value was 70.5%. This means that if you use this model for any medical or diagnostic application you would detect a Cohn enhancer correctly 70% percent of the time. Do you think this accuracy is enough?"
   ]
  },
  {
   "cell_type": "markdown",
   "metadata": {},
   "source": [
    "### Confusion matrix\n",
    "\n",
    "Another way of assessing how well your model works is with a **confusion matrix**. This is a metric that quantifies and shows the number of correct predictions against the incorrect ones. It compares the number fo predicted values against the true ones, allowing to check how often the model misses to clasify correctly a sample.\n",
    "\n",
    "To calculate it you just need to generate predictions with your model and compare them against the labels contained in the dataset. In the next code cell it's showed how to do this."
   ]
  },
  {
   "cell_type": "code",
   "execution_count": 26,
   "metadata": {},
   "outputs": [],
   "source": [
    "# Do infenrece on the test set\n",
    "model.to(device)\n",
    "model.eval()\n",
    "size = len(test_loader.dataset)\n",
    "test_loss, correct = 0, 0\n",
    "y_pred = []\n",
    "with torch.no_grad():\n",
    "    for x, y in test_loader:\n",
    "        x = tokenizer(x, return_tensors='pt', padding=True, truncation=True, max_length=max_length)[\"input_ids\"]\n",
    "        x, y = x.to(device), y.to(device)\n",
    "        outputs = model(x, labels=y)\n",
    "        test_loss += outputs.loss.item()\n",
    "        correct += (outputs.logits.argmax(1) == y).type(torch.float).sum().item()\n",
    "        y_pred.extend(outputs.logits.argmax(1).cpu().numpy())"
   ]
  },
  {
   "cell_type": "code",
   "execution_count": null,
   "metadata": {},
   "outputs": [],
   "source": [
    "# Calculate confusion matrix \n",
    "y_true = test_dataset.labels\n",
    "confusion_matrix(y_true, y_pred)\n",
    "\n",
    "# Display the confusion matrix\n",
    "import seaborn as sns\n",
    "plt.figure(figsize=(8, 6))\n",
    "sns.heatmap(confusion_matrix(y_true, y_pred), annot=True, fmt='d', cmap='Blues')\n",
    "plt.xlabel('Predicted labels')\n",
    "plt.ylabel('True labels')\n",
    "plt.title('Confusion Matrix')\n",
    "plt.show()"
   ]
  },
  {
   "cell_type": "markdown",
   "metadata": {},
   "source": [
    "# References\n",
    "\n",
    "1. Dive into Deep Learning\n",
    "2. [Genomic Benchmarks paper and repository](https://doi.org/10.1186/s12863-023-01123-8)\n",
    "3. HuggingFace\n",
    "4. HyenaDNA"
   ]
  }
 ],
 "metadata": {
  "kernelspec": {
   "display_name": "gsc_pt",
   "language": "python",
   "name": "python3"
  },
  "language_info": {
   "codemirror_mode": {
    "name": "ipython",
    "version": 3
   },
   "file_extension": ".py",
   "mimetype": "text/x-python",
   "name": "python",
   "nbconvert_exporter": "python",
   "pygments_lexer": "ipython3",
   "version": "3.12.4"
  }
 },
 "nbformat": 4,
 "nbformat_minor": 2
}
